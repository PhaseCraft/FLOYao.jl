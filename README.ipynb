{
 "cells": [
  {
   "cell_type": "markdown",
   "id": "5ea1fb70-b46b-4fd3-ad09-29e90d622247",
   "metadata": {
    "tags": []
   },
   "source": [
    "# FLOYao.jl\n",
    "\n",
    "A backend to efficiently simulate fermionic linear optics (FLO) circuits in [Yao.jl](https://github.com/QuantumBFS/Yao.jlhttps://github.com/QuantumBFS/Yao.jl) based on [Classical simulation of noninteracting-fermion quantum circuits](https://arxiv.org/abs/quant-ph/0108010)\n",
    "and [Disorder-assisted error correction in Majorana chains](https://arxiv.org/abs/1108.3845).\n",
    "FLO circuits are a class of quantum circuits that are closely related to non-interacting fermions \n",
    "and can be efficiently simulated on classical computers, similar to the way Clifford circuits\n",
    "can be efficiently classically simulated, as is done in [YaoClifford.jl](https://github.com/QuantumBFS/YaoClifford.jl).\n",
    "A quick introduction to fermionic linear optics circuits is found in [the Background section](#Background:-Fermionic-linear-optics-circuits) and a more in-depth introduction in e.g. the two papers linked above.\n",
    "\n",
    "**Note**    \n",
    "The markdown version of this README is automatically generated from `README.ipynb` and some \n",
    "of the hpyerlinks and math doesn't seem to play that well with githubs markdown parser. So you might want to have a look at `README.ipynb` with jupyter instead for a better reading experience.\n",
    "\n",
    "## Contents\n",
    " - [Installation](#Installation)\n",
    " - [Basic usage](#Basic-usage)\n",
    " - [List of supported gates](#List-of-supported-gates)\n",
    " - [Example: Transverse field Ising model](#Example:-Transverse-Field-Ising-model)\n",
    " - [Adding support for your own gates](#Adding-support-for-your-own-gates)\n",
    " - [Background: Fermionic linear optics circuits](#Background:-Fermionic-linear-optics-circuits)\n",
    " - [Known restrictions](#Known-restrictions)"
   ]
  },
  {
   "cell_type": "markdown",
   "id": "46f631ce-8572-469f-8dfe-f7b116c17553",
   "metadata": {},
   "source": [
    "## Installation\n",
    "\n",
    " > By the time this will be in the julia general registry, it should be as easy as opening\n",
    " > a julia REPL and typing\n",
    " >  ```julia\n",
    " >   pkg> add FLOYao\n",
    " >  ```\n",
    "\n",
    "But for now I suggest the following way: First open a standard terminal and type \n",
    "```bash\n",
    "cd your_favorite_folder_for_code\n",
    "git clone git@github.com:PhaseCraft/FLOYao.jl\n",
    "```\n",
    "and then open a julia REPL and type\n",
    "```\n",
    "pkg> dev your_favorite_folder_for_code/FLOYao.jl\n",
    "```\n",
    "which should make `FLOYao.jl` discoverable for your standard julia installation. \n",
    "Under linux the standard folder for julia packages under development is `/home/username/.julia/dev`"
   ]
  },
  {
   "cell_type": "markdown",
   "id": "417e72b0-835a-4e6a-a15d-9f2d6638a3b8",
   "metadata": {},
   "source": [
    "## Basic usage\n",
    "The heart of `FLOYao` is the `MajoranaReg` register type, which efficiently represents a state that is a [FLO unitary](#Background:-Fermionic-linear-optics-circuits) applied to the vacuum state $|0⋯0⟩$\n",
    "\n",
    "First import `Yao` and `FLOYao`:"
   ]
  },
  {
   "cell_type": "code",
   "execution_count": 1,
   "id": "f664a8f0-36fb-46c0-b128-e4b37e9a0f18",
   "metadata": {},
   "outputs": [],
   "source": [
    "using Yao, FLOYao"
   ]
  },
  {
   "cell_type": "markdown",
   "id": "343ff0b8-8a9d-4581-aa05-1cd922e9e78f",
   "metadata": {},
   "source": [
    "then build a (here somewhat arbitrary) circuit consisting only of [FLO gates](#Background:-Fermionic-linear-optics-circuits)"
   ]
  },
  {
   "cell_type": "code",
   "execution_count": 2,
   "id": "1130f211-1db6-4fa9-ad08-645b05dfaeb9",
   "metadata": {},
   "outputs": [
    {
     "data": {
      "text/plain": [
       "\u001b[36mnqubits: 4\u001b[39m\n",
       "\u001b[34m\u001b[1mchain\u001b[22m\u001b[39m\n",
       "├─ \u001b[36m\u001b[1mput on (\u001b[22m\u001b[39m\u001b[36m\u001b[1m3\u001b[22m\u001b[39m\u001b[36m\u001b[1m)\u001b[22m\u001b[39m\n",
       "│  └─ rot(Z, 0.5)\n",
       "├─ rot(\u001b[36mnqubits: 4\u001b[39m\n",
       "\u001b[36m\u001b[1mkron\u001b[22m\u001b[39m\n",
       "├─ \u001b[37m\u001b[1m1\u001b[22m\u001b[39m=>X\n",
       "└─ \u001b[37m\u001b[1m2\u001b[22m\u001b[39m=>X, 0.39269908169872414)\n",
       "├─ rot(\u001b[36mnqubits: 4\u001b[39m\n",
       "\u001b[36m\u001b[1mkron\u001b[22m\u001b[39m\n",
       "├─ \u001b[37m\u001b[1m2\u001b[22m\u001b[39m=>X\n",
       "├─ \u001b[37m\u001b[1m3\u001b[22m\u001b[39m=>Z\n",
       "└─ \u001b[37m\u001b[1m4\u001b[22m\u001b[39m=>X, 0.39269908169872414)\n",
       "├─ \u001b[36m\u001b[1mput on (\u001b[22m\u001b[39m\u001b[36m\u001b[1m3\u001b[22m\u001b[39m\u001b[36m\u001b[1m)\u001b[22m\u001b[39m\n",
       "│  └─ rot(Z, 0.5)\n",
       "└─ \u001b[36m\u001b[1mput on (\u001b[22m\u001b[39m\u001b[36m\u001b[1m1\u001b[22m\u001b[39m\u001b[36m\u001b[1m)\u001b[22m\u001b[39m\n",
       "   └─ Z\n"
      ]
     },
     "execution_count": 2,
     "metadata": {},
     "output_type": "execute_result"
    }
   ],
   "source": [
    "nq = 4\n",
    "θ = π/8\n",
    "circuit = chain(nq)\n",
    "\n",
    "push!(circuit, put(nq, 3=>Rz(0.5)))\n",
    "\n",
    "xxg1 = kron(nq, 1 => X, 2 => X)\n",
    "rg = rot(xxg1, θ)\n",
    "push!(circuit, rg)  \n",
    "\n",
    "xxg2 = kron(nq, 2 => X, 3 => Z, 4 => X)\n",
    "rg = rot(xxg2, θ)\n",
    "push!(circuit, rg)  \n",
    "push!(circuit, put(nq, 3=>Rz(0.5)))\n",
    "push!(circuit, put(nq, 1=>Z))\n",
    "\n",
    "xxg3 = kron(nq, 2 => X, 3 => X)\n",
    "rg = rot(xxg3, θ)\n",
    "\n",
    "circuit"
   ]
  },
  {
   "cell_type": "markdown",
   "id": "62eae1ed-186f-44ed-af7f-600bd9f6c717",
   "metadata": {},
   "source": [
    "and define an observable that is a sum of squares of Majorana operators"
   ]
  },
  {
   "cell_type": "code",
   "execution_count": 3,
   "id": "34739274-4f99-4489-b91e-ea7163c9afe6",
   "metadata": {},
   "outputs": [
    {
     "data": {
      "text/plain": [
       "\u001b[36mnqubits: 4\u001b[39m\n",
       "\u001b[31m\u001b[1m+\u001b[22m\u001b[39m\n",
       "├─ \u001b[36m\u001b[1mkron\u001b[22m\u001b[39m\n",
       "│  ├─ \u001b[37m\u001b[1m1\u001b[22m\u001b[39m=>X\n",
       "│  └─ \u001b[37m\u001b[1m2\u001b[22m\u001b[39m=>X\n",
       "├─ \u001b[36m\u001b[1mkron\u001b[22m\u001b[39m\n",
       "│  ├─ \u001b[37m\u001b[1m2\u001b[22m\u001b[39m=>X\n",
       "│  ├─ \u001b[37m\u001b[1m3\u001b[22m\u001b[39m=>Z\n",
       "│  └─ \u001b[37m\u001b[1m4\u001b[22m\u001b[39m=>X\n",
       "├─ \u001b[36m\u001b[1mkron\u001b[22m\u001b[39m\n",
       "│  ├─ \u001b[37m\u001b[1m2\u001b[22m\u001b[39m=>X\n",
       "│  └─ \u001b[37m\u001b[1m3\u001b[22m\u001b[39m=>X\n",
       "├─ \u001b[36m\u001b[1mkron\u001b[22m\u001b[39m\n",
       "│  └─ \u001b[37m\u001b[1m2\u001b[22m\u001b[39m=>Z\n",
       "└─ \u001b[36m\u001b[1mkron\u001b[22m\u001b[39m\n",
       "   └─ \u001b[37m\u001b[1m3\u001b[22m\u001b[39m=>Z\n"
      ]
     },
     "execution_count": 3,
     "metadata": {},
     "output_type": "execute_result"
    }
   ],
   "source": [
    "hamiltonian = xxg1 + xxg2 + xxg3 + kron(nq, 2=>Z) + kron(nq, 3=>Z)"
   ]
  },
  {
   "cell_type": "markdown",
   "id": "14ec3fca-b095-4492-b9cd-f88171f247d8",
   "metadata": {},
   "source": [
    "and finally create a register in the computational zero state via"
   ]
  },
  {
   "cell_type": "code",
   "execution_count": 4,
   "id": "a5f9e58d-2968-4acf-be89-97058d5006ab",
   "metadata": {},
   "outputs": [
    {
     "data": {
      "text/plain": [
       "MajoranaReg{Float64} with 4 qubits:\n",
       "8×8 Matrix{Float64}:\n",
       " 1.0  0.0  0.0  0.0  0.0  0.0  0.0  0.0\n",
       " 0.0  1.0  0.0  0.0  0.0  0.0  0.0  0.0\n",
       " 0.0  0.0  1.0  0.0  0.0  0.0  0.0  0.0\n",
       " 0.0  0.0  0.0  1.0  0.0  0.0  0.0  0.0\n",
       " 0.0  0.0  0.0  0.0  1.0  0.0  0.0  0.0\n",
       " 0.0  0.0  0.0  0.0  0.0  1.0  0.0  0.0\n",
       " 0.0  0.0  0.0  0.0  0.0  0.0  1.0  0.0\n",
       " 0.0  0.0  0.0  0.0  0.0  0.0  0.0  1.0"
      ]
     },
     "execution_count": 4,
     "metadata": {},
     "output_type": "execute_result"
    }
   ],
   "source": [
    "mreg = FLOYao.zero_state(nq)"
   ]
  },
  {
   "cell_type": "markdown",
   "id": "740d4281-db5e-4f86-b1fc-bfc431355a5b",
   "metadata": {},
   "source": [
    "Other options to create registers are `FLOYao.product_state` and `FLOYao.zero_state_like`. `FLOYao.rand_state` is not implemented so far, because to do so I would need to rely on yet another dependency to create random orthogonal matrices.\n",
    "\n",
    "Applying the circuit to the register works then exactly the same way as for a normal `ArrayReg` register:"
   ]
  },
  {
   "cell_type": "code",
   "execution_count": 5,
   "id": "aec951d2-c39a-4063-ad0f-d36afba50f32",
   "metadata": {},
   "outputs": [
    {
     "data": {
      "text/plain": [
       "MajoranaReg{Float64} with 4 qubits:\n",
       "8×8 Matrix{Float64}:\n",
       " -1.0  -0.0       -0.0       -0.0       -0.0       -0.0       -0.0       -0.0\n",
       " -0.0  -0.92388    0.382683  -0.0       -0.0       -0.0       -0.0       -0.0\n",
       "  0.0   0.382683   0.92388    0.0        0.0        0.0        0.0        0.0\n",
       "  0.0   0.0        0.0        0.92388    0.0        0.0        0.382683   0.0\n",
       "  0.0   0.0        0.0        0.0        0.540302   0.841471   0.0        0.0\n",
       "  0.0   0.0        0.0        0.0       -0.841471   0.540302   0.0        0.0\n",
       "  0.0   0.0        0.0       -0.382683   0.0        0.0        0.92388    0.0\n",
       "  0.0   0.0        0.0        0.0        0.0        0.0        0.0        1.0"
      ]
     },
     "execution_count": 5,
     "metadata": {},
     "output_type": "execute_result"
    }
   ],
   "source": [
    "apply(mreg, circuit)"
   ]
  },
  {
   "cell_type": "markdown",
   "id": "005be117-043d-4577-8131-f4199407618f",
   "metadata": {},
   "source": [
    "and the same goes for expectation values of observables"
   ]
  },
  {
   "cell_type": "code",
   "execution_count": 6,
   "id": "27ce6def-141a-433f-8013-d94144f1f0db",
   "metadata": {},
   "outputs": [
    {
     "data": {
      "text/plain": [
       "1.8535533905932737"
      ]
     },
     "execution_count": 6,
     "metadata": {},
     "output_type": "execute_result"
    }
   ],
   "source": [
    "expval = expect(hamiltonian, mreg => circuit)"
   ]
  },
  {
   "cell_type": "markdown",
   "id": "5805fcd2-5cb4-4b26-8ea4-52faf584a8ec",
   "metadata": {},
   "source": [
    "or even gradients of these expectation values with respect to the circuit parameters"
   ]
  },
  {
   "cell_type": "code",
   "execution_count": 7,
   "id": "fbc7a38d-fb32-4eea-8f18-1472a1a4a798",
   "metadata": {},
   "outputs": [
    {
     "data": {
      "text/plain": [
       "MajoranaReg{Float64}(4) => [0.0, -0.3535533905932738, -0.3535533905932738, 0.0]"
      ]
     },
     "execution_count": 7,
     "metadata": {},
     "output_type": "execute_result"
    }
   ],
   "source": [
    "inδ, paramsδ = expect'(hamiltonian, mreg => circuit)"
   ]
  },
  {
   "cell_type": "markdown",
   "id": "149cf7c4-6d69-4a86-a21d-62e04ff1b944",
   "metadata": {},
   "source": [
    "It is also possible to sample from the state described by a `MajoranaReg`ister using `Yao`'s\n",
    "`measure` or `measure!` functions. "
   ]
  },
  {
   "cell_type": "code",
   "execution_count": 8,
   "id": "79adcf10-9403-4766-9c12-a5740cc16761",
   "metadata": {},
   "outputs": [
    {
     "data": {
      "text/plain": [
       "5-element Vector{DitStr{2, 4, BigInt}}:\n",
       " 0000 ₍₂₎\n",
       " 0000 ₍₂₎\n",
       " 0000 ₍₂₎\n",
       " 0000 ₍₂₎\n",
       " 0000 ₍₂₎"
      ]
     },
     "execution_count": 8,
     "metadata": {},
     "output_type": "execute_result"
    }
   ],
   "source": [
    "copyreg = copy(mreg) |> circuit\n",
    "samples = measure(copyreg, nshots=10000)\n",
    "samples[1:5]"
   ]
  },
  {
   "cell_type": "markdown",
   "id": "f32b4610-964d-4d3e-af18-1d485d7b986e",
   "metadata": {},
   "source": [
    "and if you want to measure only a subset of qubits or change the ordering in\n",
    "which the qubits are measured, this is also possible:"
   ]
  },
  {
   "cell_type": "code",
   "execution_count": 9,
   "id": "051f1239-0aca-4485-9b57-af4e538ff8cb",
   "metadata": {},
   "outputs": [
    {
     "data": {
      "text/plain": [
       "5-element Vector{DitStr{2, 3, BigInt}}:\n",
       " 000 ₍₂₎\n",
       " 000 ₍₂₎\n",
       " 000 ₍₂₎\n",
       " 000 ₍₂₎\n",
       " 000 ₍₂₎"
      ]
     },
     "execution_count": 9,
     "metadata": {},
     "output_type": "execute_result"
    }
   ],
   "source": [
    "samples213 = measure(copyreg, [2, 1, 3],  nshots=10000)\n",
    "samples213[1:5]"
   ]
  },
  {
   "cell_type": "markdown",
   "id": "fb1539dc-f61c-46d0-b688-beff5a068005",
   "metadata": {},
   "source": [
    "Just to check that this is all consistent with running a full wavefunction simulation, we can apply the same circuit on an `ArrayReg` and compare the expectation values, gradients and samples"
   ]
  },
  {
   "cell_type": "code",
   "execution_count": 10,
   "id": "9c600914-7638-4f7d-bca6-99d429243762",
   "metadata": {},
   "outputs": [
    {
     "data": {
      "text/plain": [
       "true"
      ]
     },
     "execution_count": 10,
     "metadata": {},
     "output_type": "execute_result"
    }
   ],
   "source": [
    "areg = zero_state(nq)\n",
    "expval_full = expect(hamiltonian, areg => circuit)\n",
    "isapprox(expval_full, expval)"
   ]
  },
  {
   "cell_type": "code",
   "execution_count": 11,
   "id": "da6ce01b-7de4-488f-9cc1-a09224eaaa12",
   "metadata": {},
   "outputs": [
    {
     "data": {
      "text/plain": [
       "true"
      ]
     },
     "execution_count": 11,
     "metadata": {},
     "output_type": "execute_result"
    }
   ],
   "source": [
    "inδ_full, paramsδ_full = expect'(hamiltonian, areg => circuit)\n",
    "isapprox(paramsδ, paramsδ_full)"
   ]
  },
  {
   "cell_type": "code",
   "execution_count": 12,
   "id": "e9513245-c028-4c16-a2dd-1f7d5f552739",
   "metadata": {},
   "outputs": [],
   "source": [
    "copyareg = copy(areg) |> circuit\n",
    "samples_full = measure(copyareg, nshots=10000)\n",
    "samples213_full = measure(copyareg, [2, 1, 3], nshots=10000);"
   ]
  },
  {
   "cell_type": "code",
   "execution_count": 13,
   "id": "d4b7f89e-6889-4cc9-a2e9-808b85a72c47",
   "metadata": {},
   "outputs": [
    {
     "name": "stdout",
     "output_type": "stream",
     "text": [
      "Comparing the full countmaps:\n",
      "\n"
     ]
    },
    {
     "data": {
      "text/plain": [
       "Dict{DitStr{2, 4, BigInt}, Int64} with 4 entries:\n",
       "  0000 ₍₂₎ => 9246\n",
       "  1010 ₍₂₎ => 372\n",
       "  1001 ₍₂₎ => 15\n",
       "  0011 ₍₂₎ => 367"
      ]
     },
     "metadata": {},
     "output_type": "display_data"
    },
    {
     "data": {
      "text/plain": [
       "Dict{DitStr{2, 4, Int64}, Int64} with 4 entries:\n",
       "  0000 ₍₂₎ => 9236\n",
       "  1010 ₍₂₎ => 349\n",
       "  1001 ₍₂₎ => 18\n",
       "  0011 ₍₂₎ => 397"
      ]
     },
     "metadata": {},
     "output_type": "display_data"
    },
    {
     "name": "stdout",
     "output_type": "stream",
     "text": [
      "-----------------------------\n",
      "\n",
      "Comparing the countmaps on only a subset of qubits\n",
      "\n"
     ]
    },
    {
     "data": {
      "text/plain": [
       "Dict{DitStr{2, 3, BigInt}, Int64} with 4 entries:\n",
       "  000 ₍₂₎ => 9298\n",
       "  010 ₍₂₎ => 14\n",
       "  011 ₍₂₎ => 352\n",
       "  001 ₍₂₎ => 336"
      ]
     },
     "metadata": {},
     "output_type": "display_data"
    },
    {
     "data": {
      "text/plain": [
       "Dict{DitStr{2, 3, Int64}, Int64} with 4 entries:\n",
       "  000 ₍₂₎ => 9269\n",
       "  010 ₍₂₎ => 13\n",
       "  011 ₍₂₎ => 362\n",
       "  001 ₍₂₎ => 356"
      ]
     },
     "metadata": {},
     "output_type": "display_data"
    },
    {
     "name": "stdout",
     "output_type": "stream",
     "text": [
      "-----------------------------\n"
     ]
    }
   ],
   "source": [
    "using StatsBase\n",
    "println(\"Comparing the full countmaps:\")\n",
    "println(\"\")\n",
    "display(countmap(samples))\n",
    "display(countmap(samples_full))\n",
    "println(\"-----------------------------\")\n",
    "\n",
    "println(\"\")\n",
    "println(\"Comparing the countmaps on only a subset of qubits\")\n",
    "println(\"\")\n",
    "display(countmap(samples213))\n",
    "display(countmap(samples213_full))\n",
    "println(\"-----------------------------\")"
   ]
  },
  {
   "cell_type": "markdown",
   "id": "8785cab8-0eba-421d-bb91-ee7d98c23efb",
   "metadata": {},
   "source": [
    "which looks similar enough to trust that the samples come from the same probability distribution."
   ]
  },
  {
   "cell_type": "markdown",
   "id": "f9ef1a39-d42b-4072-8b70-b995142c6cf9",
   "metadata": {
    "jp-MarkdownHeadingCollapsed": true,
    "tags": []
   },
   "source": [
    "## List of supported gates\n",
    "\n",
    "The following gates are FLO gates and supported by `FLOYao.jl`:\n",
    "\n",
    "|  Gate | Comment |\n",
    "|-------|---------|\n",
    "|  `XGate`   | Together with `Y` the only gate that does not preserve fermionic parity |\n",
    "|  `YGate`   |   See above  |\n",
    "|  `ZGate`   |         |\n",
    "|  `RotationGate{⋯,⋯,YGate}`  | The only single qubit rotation gate since $R_x(θ)γ_i R_x(-θ)$ is not a linear combination of Majorana operators for all Majorana operators. Similar for $R_y$ |\n",
    "| `PauliKronBlock` | A kronecker product of Pauli operators s.t. that first and last operator are either $X$ or $Y$ and all operators in between are $Z$.  |\n",
    "| `RotationGate{⋯,⋯,PauliKronBlock}` | A rotation gate with generator as in the last line. |\n",
    "| `AbstractMatrix` | Unless the gate type is already explicitely implemented or know to not be a FLO gate, `FLOYao` will try to automatically convert the gate matrix in the qubit basis to a matrix in the Majorana basis. But note that this is fairly slow (although still poly-time instead of exp-time) |\n",
    "\n",
    "\n",
    "If you want to add support to your own gates, read [this section](#Adding-support-for-your-own-gates) to learn how to do that."
   ]
  },
  {
   "cell_type": "markdown",
   "id": "a55a6cea-93b4-4fb7-a3c5-3fc81863f2e5",
   "metadata": {
    "tags": []
   },
   "source": [
    "## Example: VQE for the Transverse Field Ising model\n",
    "\n",
    "For a more realistic use case, we have a look at VQE for the Transverse Field Ising model on a line whose Hamiltonian is given as \n",
    "$$\n",
    "    H = J ∑_i^{L-1} X_i X_{i+1} + h ∑_i^L Z_i = U + T.\n",
    "$$\n",
    "As Ansatz circuits we use the Hamiltonian Variational Ansatz\n",
    "$$\n",
    "    U(\\vec θ) = ∏_i^p e^{-iθ_{i,U} U} e^{-iθ_{i,T} T} \n",
    "$$\n",
    "with the initial state being the groundstate of the TFIM at $J = 0$, so $|ψ_i⟩ = |0⋯0⟩$"
   ]
  },
  {
   "cell_type": "code",
   "execution_count": 14,
   "id": "cad722cb-da00-48e4-943f-bc5dbe141284",
   "metadata": {},
   "outputs": [],
   "source": [
    "L = 100 # this is far beyond what is possible with a full wavefunction simulation\n",
    "J = 1.5\n",
    "h = -1.\n",
    "p = 10\n",
    "\n",
    "U = map(1:L-1) do i\n",
    "    J * kron(L, i => X, i+1 => X)\n",
    "end |> sum\n",
    "\n",
    "T = map(1:L) do i\n",
    "    h * kron(L, i => Z)\n",
    "end |> sum\n",
    "\n",
    "hamiltonian = T + U\n",
    "\n",
    "circuit = chain(L)\n",
    "for _ in 1:p\n",
    "    for i in 1:L-1\n",
    "        push!(circuit, rot(kron(L, i => X, i+1 => X), 0.))\n",
    "    end\n",
    "    for i in 1:L\n",
    "        push!(circuit, put(L, i => Rz(0.)))\n",
    "    end\n",
    "end\n",
    "nparams = nparameters(circuit)\n",
    "dispatch!(circuit, rand(nparams) ./ 100)\n",
    "\n",
    "reg = FLOYao.zero_state(L);"
   ]
  },
  {
   "cell_type": "markdown",
   "id": "0809f1a7-8578-4df7-a5e7-735b3802ca75",
   "metadata": {},
   "source": [
    "now that we defined the hamiltonian, the ansatz circuit and the initial state we can perform\n",
    "simple gradient descent on the energy expectation value to find an approximation to the\n",
    "groundstate of $H$:"
   ]
  },
  {
   "cell_type": "code",
   "execution_count": 15,
   "id": "0e041550-e1e0-4df3-a671-013952b2687b",
   "metadata": {},
   "outputs": [
    {
     "name": "stdout",
     "output_type": "stream",
     "text": [
      "Iteration 1, energy = -99.95871457112206\n",
      "Iteration 2, energy = -100.0737851017236\n",
      "Iteration 3, energy = -100.13846065965161\n",
      "Iteration 4, energy = -100.22543194784396\n",
      "Iteration 5, energy = -100.36326184737493\n",
      "Iteration 6, energy = -100.58575290964693\n",
      "Iteration 7, energy = -100.94505912687522\n",
      "Iteration 8, energy = -101.52222210016981\n",
      "Iteration 9, energy = -102.43888246281948\n",
      "Iteration 10, energy = -103.86633439319165\n",
      "Iteration 11, energy = -106.01978332663921\n",
      "Iteration 12, energy = -109.11481237899028\n",
      "Iteration 13, energy = -113.26222872880085\n",
      "Iteration 14, energy = -118.31735608958387\n",
      "Iteration 15, energy = -123.79059331565912\n",
      "Iteration 16, energy = -128.9662708992411\n",
      "Iteration 17, energy = -133.21639889958706\n",
      "Iteration 18, energy = -136.26557650113082\n",
      "Iteration 19, energy = -138.2072292249013\n",
      "Iteration 20, energy = -139.33045667610835\n",
      "Iteration 21, energy = -139.93774034241287\n",
      "Iteration 22, energy = -140.25464996725245\n",
      "Iteration 23, energy = -140.4205262188564\n",
      "Iteration 24, energy = -140.5118626659913\n",
      "Iteration 25, energy = -140.5675335890829\n",
      "Iteration 26, energy = -140.60633990738708\n",
      "Iteration 27, energy = -140.63712093366135\n",
      "Iteration 28, energy = -140.66398860613097\n",
      "Iteration 29, energy = -140.68886497651303\n",
      "Iteration 30, energy = -140.71266580820688\n",
      "Iteration 31, energy = -140.7358420037442\n",
      "Iteration 32, energy = -140.75862599930574\n",
      "Iteration 33, energy = -140.78114461481042\n",
      "Iteration 34, energy = -140.8034716024542\n",
      "Iteration 35, energy = -140.82565276028802\n",
      "Iteration 36, energy = -140.84771835970218\n",
      "Iteration 37, energy = -140.86968956252412\n",
      "Iteration 38, energy = -140.89158189830684\n",
      "Iteration 39, energy = -140.91340724704358\n",
      "Iteration 40, energy = -140.93517502792741\n",
      "Iteration 41, energy = -140.9568929460401\n",
      "Iteration 42, energy = -140.97856748095245\n",
      "Iteration 43, energy = -141.0002042176828\n",
      "Iteration 44, energy = -141.0218080773494\n",
      "Iteration 45, energy = -141.04338348167926\n",
      "Iteration 46, energy = -141.06493447258023\n",
      "Iteration 47, energy = -141.08646480041588\n",
      "Iteration 48, energy = -141.10797799003802\n",
      "Iteration 49, energy = -141.12947739075545\n",
      "Iteration 50, energy = -141.15096621454302\n",
      "Iteration 51, energy = -141.17244756555118\n",
      "Iteration 52, energy = -141.19392446312116\n",
      "Iteration 53, energy = -141.2153998599187\n",
      "Iteration 54, energy = -141.236876656374\n",
      "Iteration 55, energy = -141.2583577123158\n",
      "Iteration 56, energy = -141.27984585646487\n",
      "Iteration 57, energy = -141.3013438942868\n",
      "Iteration 58, energy = -141.32285461458835\n",
      "Iteration 59, energy = -141.34438079514825\n",
      "Iteration 60, energy = -141.36592520760436\n",
      "Iteration 61, energy = -141.38749062177115\n",
      "Iteration 62, energy = -141.40907980952008\n",
      "Iteration 63, energy = -141.430695548324\n",
      "Iteration 64, energy = -141.45234062454887\n",
      "Iteration 65, energy = -141.47401783655238\n",
      "Iteration 66, energy = -141.49572999764013\n",
      "Iteration 67, energy = -141.51747993891553\n",
      "Iteration 68, energy = -141.53927051205517\n",
      "Iteration 69, energy = -141.5611045920323\n",
      "Iteration 70, energy = -141.58298507980544\n",
      "Iteration 71, energy = -141.6049149049883\n",
      "Iteration 72, energy = -141.62689702851114\n",
      "Iteration 73, energy = -141.64893444528153\n",
      "Iteration 74, energy = -141.67103018685296\n",
      "Iteration 75, energy = -141.69318732410449\n",
      "Iteration 76, energy = -141.71540896993707\n",
      "Iteration 77, energy = -141.73769828198684\n",
      "Iteration 78, energy = -141.76005846536123\n",
      "Iteration 79, energy = -141.78249277539555\n",
      "Iteration 80, energy = -141.80500452043367\n",
      "Iteration 81, energy = -141.82759706463295\n",
      "Iteration 82, energy = -141.8502738307927\n",
      "Iteration 83, energy = -141.87303830320897\n",
      "Iteration 84, energy = -141.89589403055277\n",
      "Iteration 85, energy = -141.91884462877562\n",
      "Iteration 86, energy = -141.94189378403968\n",
      "Iteration 87, energy = -141.96504525567488\n",
      "Iteration 88, energy = -141.98830287916348\n",
      "Iteration 89, energy = -142.01167056915276\n",
      "Iteration 90, energy = -142.0351523224968\n",
      "Iteration 91, energy = -142.05875222133136\n",
      "Iteration 92, energy = -142.08247443618075\n",
      "Iteration 93, energy = -142.10632322910212\n",
      "Iteration 94, energy = -142.1303029568697\n",
      "Iteration 95, energy = -142.15441807420206\n",
      "Iteration 96, energy = -142.1786731370382\n",
      "Iteration 97, energy = -142.2030728058676\n",
      "Iteration 98, energy = -142.2276218491198\n",
      "Iteration 99, energy = -142.2523251466206\n",
      "Iteration 100, energy = -142.2771876931234\n"
     ]
    }
   ],
   "source": [
    "iterations = 100\n",
    "γ = 2e-2\n",
    "\n",
    "for i in 1:iterations\n",
    "    _, grad = expect'(hamiltonian, reg => circuit)\n",
    "    dispatch!(-, circuit, γ * grad)\n",
    "    println(\"Iteration $i, energy = $(expect(hamiltonian, reg => circuit))\")\n",
    "end"
   ]
  },
  {
   "cell_type": "markdown",
   "id": "c0669619-9d7c-49a5-a532-3d2cbe9ec80c",
   "metadata": {
    "tags": []
   },
   "source": [
    "## Adding support for your own gates\n",
    "\n",
    "Natively, the only FLO gates that come already shipped with `Yao.jl` are the gates listed [here](#List-of-supported-gates). But there are many more FLO gates, one being for example the `FSWAP` gate which swaps to qubits while making sure to preserve the fermionic commutation relations"
   ]
  },
  {
   "cell_type": "code",
   "execution_count": 16,
   "id": "e64530c6-b408-44df-8311-6e1da1ff7766",
   "metadata": {},
   "outputs": [],
   "source": [
    "@const_gate FSWAP::ComplexF64 = [1 0 0 0; 0 0 1 0; 0 1 0 0; 0 0 0 -1]"
   ]
  },
  {
   "cell_type": "markdown",
   "id": "4f4c5126-9764-459f-8bc6-63f8392f3696",
   "metadata": {},
   "source": [
    "If a gate defines a matrix representation, as we just did for the `FSWAP`gate, `FLOYao` supports them out of the box by manually checking if they are a FLO gate and then computing its matrix representation in the Majorana basis. But this method is fairly slow–though still poly-time and memory–compared to directly implementing `unsafe_apply!(::MajoranaReg, ::YourBlock)` and  `instruct!(::MajoranaReg, ::YourBlock)` and will warn you accordingly"
   ]
  },
  {
   "cell_type": "code",
   "execution_count": 17,
   "id": "43973207-bab2-4877-baec-8ae600ea299b",
   "metadata": {},
   "outputs": [
    {
     "name": "stderr",
     "output_type": "stream",
     "text": [
      "┌ Warning: Calling manual instruct!(MajoranaReg{Float64}(4), ComplexF64[1.0 + 0.0im 0.0 + 0.0im 0.0 + 0.0im 0.0 + 0.0im; 0.0 + 0.0im 0.0 + 0.0im 1.0 + 0.0im 0.0 + 0.0im; 0.0 + 0.0im 1.0 + 0.0im 0.0 + 0.0im 0.0 + 0.0im; 0.0 + 0.0im 0.0 + 0.0im 0.0 + 0.0im -1.0 + 0.0im], (1, 2)).\n",
      "│ You can greatly speed up your FLO gates by exactly implementing unsafe_apply!()\n",
      "│ and instruct!() for them. See FLOYao/src/instruct.jl and  FLOYao/src/apply_composite.jl\n",
      "│ for how to do that.\n",
      "└ @ FLOYao /home/yc20910/PhD/Work/code/FLOYao/src/instruct.jl:56\n"
     ]
    },
    {
     "data": {
      "text/plain": [
       "MajoranaReg{Float64} with 4 qubits:\n",
       "8×8 Matrix{Float64}:\n",
       " -2.35415e-16  -4.12493e-16  -1.0          …   0.0   0.0   0.0   0.0\n",
       "  2.46746e-16  -5.5708e-16   -1.26504e-16      0.0   0.0   0.0   0.0\n",
       " -1.0          -1.17708e-16   2.55988e-16      0.0   0.0   0.0   0.0\n",
       " -1.85286e-16  -1.0           2.44068e-16      0.0   0.0   0.0   0.0\n",
       " -0.0          -0.0          -0.0             -1.0  -0.0  -0.0  -0.0\n",
       " -0.0          -0.0          -0.0          …  -0.0  -1.0  -0.0  -0.0\n",
       " -0.0          -0.0          -0.0             -0.0  -0.0  -1.0  -0.0\n",
       " -0.0          -0.0          -0.0             -0.0  -0.0  -0.0  -1.0"
      ]
     },
     "execution_count": 17,
     "metadata": {},
     "output_type": "execute_result"
    }
   ],
   "source": [
    "nq = 4\n",
    "fswap = put(nq, (1, 2) => FSWAP)\n",
    "mreg = FLOYao.zero_state(nq)\n",
    "mreg |> put(nq, 2 => X)\n",
    "mreg |> fswap"
   ]
  },
  {
   "cell_type": "markdown",
   "id": "174bea49-2e1d-484e-b708-9f703e33aac2",
   "metadata": {},
   "source": [
    "Now, before we fix these warnings, let's see how long the current implementation takes:"
   ]
  },
  {
   "cell_type": "code",
   "execution_count": 18,
   "id": "b85e71ec-6bdf-4d73-aece-07c23651b269",
   "metadata": {},
   "outputs": [
    {
     "data": {
      "text/plain": [
       "BenchmarkTools.Trial: 6254 samples with 1 evaluation.\n",
       " Range \u001b[90m(\u001b[39m\u001b[36m\u001b[1mmin\u001b[22m\u001b[39m … \u001b[35mmax\u001b[39m\u001b[90m):  \u001b[39m\u001b[36m\u001b[1m713.850 μs\u001b[22m\u001b[39m … \u001b[35m  3.865 ms\u001b[39m  \u001b[90m┊\u001b[39m GC \u001b[90m(\u001b[39mmin … max\u001b[90m): \u001b[39m0.00% … 74.64%\n",
       " Time  \u001b[90m(\u001b[39m\u001b[34m\u001b[1mmedian\u001b[22m\u001b[39m\u001b[90m):     \u001b[39m\u001b[34m\u001b[1m759.798 μs               \u001b[22m\u001b[39m\u001b[90m┊\u001b[39m GC \u001b[90m(\u001b[39mmedian\u001b[90m):    \u001b[39m0.00%\n",
       " Time  \u001b[90m(\u001b[39m\u001b[32m\u001b[1mmean\u001b[22m\u001b[39m ± \u001b[32mσ\u001b[39m\u001b[90m):   \u001b[39m\u001b[32m\u001b[1m794.402 μs\u001b[22m\u001b[39m ± \u001b[32m234.728 μs\u001b[39m  \u001b[90m┊\u001b[39m GC \u001b[90m(\u001b[39mmean ± σ\u001b[90m):  \u001b[39m2.27% ±  6.20%\n",
       "\n",
       "  \u001b[39m \u001b[39m▃\u001b[39m▆\u001b[39m▃\u001b[39m█\u001b[34m▄\u001b[39m\u001b[39m▄\u001b[39m▂\u001b[39m \u001b[32m \u001b[39m\u001b[39m \u001b[39m \u001b[39m \u001b[39m \u001b[39m \u001b[39m \u001b[39m \u001b[39m \u001b[39m \u001b[39m \u001b[39m \u001b[39m \u001b[39m \u001b[39m \u001b[39m \u001b[39m \u001b[39m \u001b[39m \u001b[39m \u001b[39m \u001b[39m \u001b[39m \u001b[39m \u001b[39m \u001b[39m \u001b[39m \u001b[39m \u001b[39m \u001b[39m \u001b[39m \u001b[39m \u001b[39m \u001b[39m \u001b[39m \u001b[39m \u001b[39m \u001b[39m \u001b[39m \u001b[39m \u001b[39m \u001b[39m \u001b[39m \u001b[39m \u001b[39m \u001b[39m \u001b[39m \u001b[39m \u001b[39m \u001b[39m \u001b[39m \u001b[39m \u001b[39m \u001b[39m \n",
       "  \u001b[39m▃\u001b[39m█\u001b[39m█\u001b[39m█\u001b[39m█\u001b[34m█\u001b[39m\u001b[39m█\u001b[39m█\u001b[39m▇\u001b[32m▆\u001b[39m\u001b[39m▅\u001b[39m▄\u001b[39m▄\u001b[39m▃\u001b[39m▃\u001b[39m▃\u001b[39m▃\u001b[39m▃\u001b[39m▂\u001b[39m▂\u001b[39m▂\u001b[39m▂\u001b[39m▂\u001b[39m▂\u001b[39m▂\u001b[39m▂\u001b[39m▂\u001b[39m▂\u001b[39m▂\u001b[39m▂\u001b[39m▂\u001b[39m▂\u001b[39m▂\u001b[39m▂\u001b[39m▂\u001b[39m▂\u001b[39m▂\u001b[39m▂\u001b[39m▂\u001b[39m▂\u001b[39m▂\u001b[39m▁\u001b[39m▂\u001b[39m▂\u001b[39m▂\u001b[39m▁\u001b[39m▂\u001b[39m▁\u001b[39m▁\u001b[39m▂\u001b[39m▂\u001b[39m▂\u001b[39m▂\u001b[39m▂\u001b[39m▂\u001b[39m▂\u001b[39m▂\u001b[39m▂\u001b[39m▂\u001b[39m▂\u001b[39m▂\u001b[39m \u001b[39m▃\n",
       "  714 μs\u001b[90m           Histogram: frequency by time\u001b[39m         1.24 ms \u001b[0m\u001b[1m<\u001b[22m\n",
       "\n",
       " Memory estimate\u001b[90m: \u001b[39m\u001b[33m338.53 KiB\u001b[39m, allocs estimate\u001b[90m: \u001b[39m\u001b[33m495\u001b[39m."
      ]
     },
     "execution_count": 18,
     "metadata": {},
     "output_type": "execute_result"
    }
   ],
   "source": [
    "using BenchmarkTools\n",
    "using Suppressor # we don't want to get all the warnings when benchmarking\n",
    "@benchmark @suppress apply!($mreg, $fswap)"
   ]
  },
  {
   "cell_type": "markdown",
   "id": "46dd1485-730c-456d-b674-6d98df6f89da",
   "metadata": {},
   "source": [
    "To find out what the matrix representation of the `FSWAP` gate in the Majorana basis is, it is easiest to retrace what is happening inside `instruct!(::MajoranaReg, ::AbstractMatrix, locs)`\n",
    "You can use"
   ]
  },
  {
   "cell_type": "code",
   "execution_count": 19,
   "id": "1584fc00-87bc-4776-8e0e-e87f0ac98897",
   "metadata": {},
   "outputs": [
    {
     "data": {
      "text/html": [
       "instruct!(reg::<b>MajoranaReg</b>, gate::<b>AbstractMatrix</b>, locs) in FLOYao at <a href=\"https://github.com/PhaseCraft/FLOYao.jl/tree/4d66a3d6b5629ae5eb391e1a1b585c7abd1a1d53//src/instruct.jl#L49\" target=\"_blank\">/home/yc20910/PhD/Work/code/FLOYao/src/instruct.jl:49</a>"
      ],
      "text/plain": [
       "instruct!(reg::MajoranaReg, gate::AbstractMatrix, locs) in FLOYao at /home/yc20910/PhD/Work/code/FLOYao/src/instruct.jl:49"
      ]
     },
     "execution_count": 19,
     "metadata": {},
     "output_type": "execute_result"
    }
   ],
   "source": [
    "@which instruct!(mreg, mat(FSWAP), (1,2))"
   ]
  },
  {
   "cell_type": "markdown",
   "id": "b2b7d4ce-5039-483d-8c55-7296b2efbb2e",
   "metadata": {},
   "source": [
    "to find the location of the corresponding code. Now let's copy-paste what we found there:"
   ]
  },
  {
   "cell_type": "code",
   "execution_count": 20,
   "id": "5f912e0a-7d53-4730-b728-e8c8afd26657",
   "metadata": {},
   "outputs": [
    {
     "data": {
      "text/plain": [
       "4×4 Matrix{Float64}:\n",
       " -2.35415e-16  -4.12493e-16  -1.0           0.0\n",
       "  2.46746e-16  -5.5708e-16   -1.26504e-16  -1.0\n",
       " -1.0          -1.17708e-16   2.55988e-16  -2.38988e-16\n",
       " -1.85286e-16  -1.0           2.44068e-16   2.43374e-16"
      ]
     },
     "execution_count": 20,
     "metadata": {},
     "output_type": "execute_result"
    }
   ],
   "source": [
    "W = FLOYao.qubit2majoranaevolution(Matrix(fswap.content), fswap.locs)"
   ]
  },
  {
   "cell_type": "code",
   "execution_count": 21,
   "id": "74b90601-32da-41ff-8c26-47f4a2084543",
   "metadata": {},
   "outputs": [
    {
     "data": {
      "text/plain": [
       "1:4"
      ]
     },
     "execution_count": 21,
     "metadata": {},
     "output_type": "execute_result"
    }
   ],
   "source": [
    "matlocs = 2*(fswap.locs[1]-1)+1:2(fswap.locs[end])"
   ]
  },
  {
   "cell_type": "markdown",
   "id": "65683e91-5df7-4a69-903f-2a13d712fdcd",
   "metadata": {},
   "source": [
    "this matrix gets left-multiplied to the columns `1:4` in the last line of `FLOYao.majorana_unsafe_apply!(::MajoranaReg, ::PutBlock)`. So we can instead implement the action of an `FSWAP` gate on a `MajoranaReg` directly as follows:"
   ]
  },
  {
   "cell_type": "code",
   "execution_count": 22,
   "id": "5179694d-272e-44e5-96f3-dbb5a2f0fff8",
   "metadata": {},
   "outputs": [],
   "source": [
    "function YaoBlocks.unsafe_apply!(reg::MajoranaReg, b::PutBlock{2,2,FSWAPGate})\n",
    "    FLOYao.areconsecutive(b.locs) || throw(NonFLOException(\"FSWAP must act on consecutive qubits\"))\n",
    "    instruct!(reg, Val(:FSWAP), b.locs)\n",
    "end\n",
    "\n",
    "function Yao.instruct!(reg::MajoranaReg, ::Val{:FSWAP}, locs::Tuple)\n",
    "    i1, i2 = locs\n",
    "    row1, row2 = reg.state[2i1-1,:], reg.state[2i1,:]\n",
    "    row3, row4 = reg.state[2i2-1,:], reg.state[2i2,:]\n",
    "    reg.state[2i1-1,:] .=  .-row3\n",
    "    reg.state[2i1,:] .=  .-row4\n",
    "    reg.state[2i2-1,:] .=  .-row1\n",
    "    reg.state[2i2,:] .=  .-row2\n",
    "    return reg\n",
    "end"
   ]
  },
  {
   "cell_type": "code",
   "execution_count": 23,
   "id": "d91d6cc1-9fdd-4681-b60b-9665f0e570c0",
   "metadata": {},
   "outputs": [
    {
     "data": {
      "text/plain": [
       "BenchmarkTools.Trial: 10000 samples with 585 evaluations.\n",
       " Range \u001b[90m(\u001b[39m\u001b[36m\u001b[1mmin\u001b[22m\u001b[39m … \u001b[35mmax\u001b[39m\u001b[90m):  \u001b[39m\u001b[36m\u001b[1m188.162 ns\u001b[22m\u001b[39m … \u001b[35m  4.742 μs\u001b[39m  \u001b[90m┊\u001b[39m GC \u001b[90m(\u001b[39mmin … max\u001b[90m): \u001b[39m0.00% … 92.38%\n",
       " Time  \u001b[90m(\u001b[39m\u001b[34m\u001b[1mmedian\u001b[22m\u001b[39m\u001b[90m):     \u001b[39m\u001b[34m\u001b[1m213.903 ns               \u001b[22m\u001b[39m\u001b[90m┊\u001b[39m GC \u001b[90m(\u001b[39mmedian\u001b[90m):    \u001b[39m0.00%\n",
       " Time  \u001b[90m(\u001b[39m\u001b[32m\u001b[1mmean\u001b[22m\u001b[39m ± \u001b[32mσ\u001b[39m\u001b[90m):   \u001b[39m\u001b[32m\u001b[1m249.819 ns\u001b[22m\u001b[39m ± \u001b[32m296.990 ns\u001b[39m  \u001b[90m┊\u001b[39m GC \u001b[90m(\u001b[39mmean ± σ\u001b[90m):  \u001b[39m9.48% ±  7.55%\n",
       "\n",
       "  \u001b[39m \u001b[39m \u001b[39m \u001b[39m▅\u001b[39m▄\u001b[39m█\u001b[39m▆\u001b[39m▅\u001b[34m▆\u001b[39m\u001b[39m▆\u001b[39m▅\u001b[39m▄\u001b[39m▄\u001b[39m▄\u001b[39m▃\u001b[39m▂\u001b[39m▁\u001b[39m▁\u001b[39m \u001b[32m \u001b[39m\u001b[39m \u001b[39m \u001b[39m \u001b[39m \u001b[39m \u001b[39m \u001b[39m \u001b[39m \u001b[39m \u001b[39m \u001b[39m \u001b[39m \u001b[39m \u001b[39m \u001b[39m \u001b[39m \u001b[39m \u001b[39m \u001b[39m \u001b[39m \u001b[39m \u001b[39m \u001b[39m \u001b[39m \u001b[39m \u001b[39m \u001b[39m \u001b[39m \u001b[39m \u001b[39m▁\u001b[39m▁\u001b[39m▁\u001b[39m▁\u001b[39m \u001b[39m \u001b[39m \u001b[39m \u001b[39m \u001b[39m \u001b[39m \u001b[39m \u001b[39m \u001b[39m▂\n",
       "  \u001b[39m▃\u001b[39m▅\u001b[39m█\u001b[39m█\u001b[39m█\u001b[39m█\u001b[39m█\u001b[39m█\u001b[34m█\u001b[39m\u001b[39m█\u001b[39m█\u001b[39m█\u001b[39m█\u001b[39m█\u001b[39m█\u001b[39m█\u001b[39m█\u001b[39m█\u001b[39m█\u001b[32m▇\u001b[39m\u001b[39m▆\u001b[39m▅\u001b[39m▆\u001b[39m▄\u001b[39m▄\u001b[39m▄\u001b[39m▅\u001b[39m▃\u001b[39m▄\u001b[39m▅\u001b[39m▅\u001b[39m▅\u001b[39m▃\u001b[39m▄\u001b[39m▅\u001b[39m▅\u001b[39m▅\u001b[39m▆\u001b[39m▆\u001b[39m▆\u001b[39m▆\u001b[39m▆\u001b[39m▇\u001b[39m▇\u001b[39m▇\u001b[39m▇\u001b[39m█\u001b[39m█\u001b[39m█\u001b[39m█\u001b[39m█\u001b[39m█\u001b[39m█\u001b[39m█\u001b[39m█\u001b[39m█\u001b[39m█\u001b[39m█\u001b[39m▇\u001b[39m▇\u001b[39m▆\u001b[39m \u001b[39m█\n",
       "  188 ns\u001b[90m        \u001b[39m\u001b[90mHistogram: \u001b[39m\u001b[90m\u001b[1mlog(\u001b[22m\u001b[39m\u001b[90mfrequency\u001b[39m\u001b[90m\u001b[1m)\u001b[22m\u001b[39m\u001b[90m by time\u001b[39m        388 ns \u001b[0m\u001b[1m<\u001b[22m\n",
       "\n",
       " Memory estimate\u001b[90m: \u001b[39m\u001b[33m512 bytes\u001b[39m, allocs estimate\u001b[90m: \u001b[39m\u001b[33m4\u001b[39m."
      ]
     },
     "execution_count": 23,
     "metadata": {},
     "output_type": "execute_result"
    }
   ],
   "source": [
    "@benchmark apply!($mreg, $fswap)"
   ]
  },
  {
   "cell_type": "markdown",
   "id": "b1d786b7-32f5-437e-93af-2feff22324c8",
   "metadata": {},
   "source": [
    "Now, that is quite a significant speedup!"
   ]
  },
  {
   "cell_type": "markdown",
   "id": "71fb3c5e-51b4-4e2d-9504-be2646256f42",
   "metadata": {},
   "source": [
    "## Background: Fermionic linear optics circuits\n",
    "\n",
    "This section is here, more to fix the convention of\n",
    "[Jordan-Wigner transform](https://en.wikipedia.org/wiki/Jordan%E2%80%93Wigner_transformation)\n",
    "and [Majorana operators](https://en.wikipedia.org/wiki/Majorana_fermion) that we use here,\n",
    "and less to explain the full theory behind those. For the latter, we, once again, recommend [Classical simulation of noninteracting-fermion quantum circuits](https://arxiv.org/abs/quant-ph/0108010).\n",
    "\n",
    "We define the Majorana operators $γ_i$ via \n",
    "$$\n",
    "    γ_{2i-1} = ∏_{j=1}^{i-1} (-Z_j) X_i\n",
    "$$\n",
    "and\n",
    "$$\n",
    "    γ_{2i} = ∏_{j=1}^{i-1} (-Z_j) Y_i.\n",
    "$$\n",
    "This implies the normal fermionic creation and annihilation operators are given by\n",
    "$$\n",
    "    c_j = \\frac{1}{2} (γ_{2j-1} + iγ_{2j})\n",
    "    \\quad \\textrm{and} \\quad\n",
    "    c_j^† = \\frac{1}{2} (γ_{2j-1} - iγ_{2j})\n",
    "$$\n",
    "and products of two Majorana operators are of the form\n",
    "$$\n",
    "    σ_i \\left(∏_{i<j<k} Z_k \\right) σ_k\n",
    "    \\quad \\textrm{or} \\quad\n",
    "    Z_i\n",
    "$$\n",
    "with $σ_i, σ_k ∈ \\{X, Y\\}$.\n",
    "\n",
    "Any unitary that takes all Majorana operators to a linear combination of Majorana operators\n",
    "under conjugation, i.e. that satisfies\n",
    "$$\n",
    "    U γ_i U^† = R_i^j γ_j\n",
    "$$\n",
    "with some $R ∈ O(2n)$ is a FLO unitary. In particular, if a unitary is of the form \n",
    "$$\n",
    "    U = e^{-iθH}\n",
    "$$\n",
    "with \n",
    "$$\n",
    "    H = \\frac{i}{4} \\sum_{i,j} H^{ij} γ_i γ_j\n",
    "$$\n",
    "it is a FLO unitary with even $R ∈ SO(2n)$.\n",
    "\n",
    "But note, that not all FLO unitaries are of that form. For example $X_i$ is also a FLO \n",
    "gate since it either commutes or anti-commutes with all Majorana operators, but the associated\n",
    "matrix $R$ always has determinant $-1$."
   ]
  },
  {
   "cell_type": "markdown",
   "id": "4f8a9332-a43d-40d0-bb77-8cbfe2c28d34",
   "metadata": {},
   "source": [
    "Calculating the expectation values of hamiltonians like the one above when evolving the \n",
    "vacuum state with FLO circuits is efficiently possible. First evolve the \n",
    "Hamiltonian in the Heisenber picture to\n",
    "$$\n",
    "    UHU^† = \\frac{i}{4} R^{m}_{i} R^{n}_{j} H^{ij} γ_{m} γ_{n} \n",
    "           =: \\frac{i}{4} \\tilde H^{mn} γ_{m} γ_{n}.\n",
    "$$\n",
    "and then compute the expectation value\n",
    "$$\n",
    "\\begin{aligned}\n",
    "    ⟨ψ|UHU^†|ψ⟩ &= \\frac{i}{4} \\tilde H^{mn} ⟨Ω|γ_{m} γ_{n}|Ω⟩ \\\\\n",
    "                &= - \\frac{1}{2} ∑_{i} \\tilde H^{2i-1,2i} \\\\\n",
    "                &= - \\frac{1}{2} ∑_{i>k} R^{2i-1}_{m} R^{2i}_{n} H^{mn} \\\\\n",
    "\\end{aligned}.\n",
    "$$\n",
    "From the first to second line one needs to carefully think which of the \n",
    "$⟨Ω|γ_{m} γ_{n}|Ω⟩$ are zero and which cancel each other out due to the anti-symmetry of $H^{mn}$."
   ]
  },
  {
   "cell_type": "markdown",
   "id": "8c190635-0c1a-42bc-bea7-60c6fc05a85c",
   "metadata": {
    "tags": []
   },
   "source": [
    "## Known restrictions\n",
    "\n",
    "###  Expectation values of higher order observables\n",
    "So far, `FLOYao` only supports expectation values of observables that are sums of squares of \n",
    "Majorana operators. But in general, one can use [Wick's theorem](https://en.wikipedia.org/wiki/Wick%27s_theorem) to calculate the expectation values of expressions of the form \n",
    "$$\n",
    "    ⟨ψ_i|O|ψ_i⟩\n",
    "$$\n",
    "where $|ψ_i⟩$ is a computational basis state and $O$ a string of Majorana operators and thus, using linearity of the expectation value, it is possible to efficiently calculate the expectation value of any observable that can be expanded in a sum of polynomially (in the number of qubits) many products of Majorana operators. (See also [Classical simulation of noninteracting-fermion quantum circuits](https://arxiv.org/abs/quant-ph/0108010) again for details). If you need expectation values of higher order (in the number of Majorana operators involved) observables, feel free to open a pull request!\n",
    "\n",
    "### \"Hidden\" FLO circuits\n",
    "`Yao.jl` allows to express the same circuit in different forms. E.g. \n",
    "```julia\n",
    "    chain(nq, put(1 => X), put(2 => X))\n",
    "```\n",
    "and\n",
    "```julia\n",
    "    kron(nq, 1 => X, 2 => X)\n",
    "```\n",
    "represent the same FLO circuit, but only the latter will be recognised as such. Similarly \n",
    "```julia\n",
    "     kron(nq, 1 => X, 2 => X, 3 => X, 4 => X)\n",
    "```\n",
    "and\n",
    "```julia\n",
    "     chain(nq, kron(1 => X, 2 => X), kron(3 => X, 4 => X))\n",
    "```\n",
    "represent the same FLO circuit but only the latter will be recognised as such. This is because\n",
    "\n",
    " - We don't check if a whole `ChainBlock` is a FLO circuit, even if its single\n",
    "   gates are not. Instead a `ChainBlock` is applied gate by gate, each of which\n",
    "   has to be a FLO gate.\n",
    " - For `KronBlock`s we first try if each factor is a FLO gate and then if the whole\n",
    "   block altogether is of the form  `kron(nq, i => σ1, i+1 => Z, ⋯, i-1 => Z, j => σ2)`\n",
    "   with `σ1, σ2 ∈ [X, Y]`.\n",
    "\n",
    "If you run into a case that is a FLO circuit / gate but not recognised as such please open an issue or even pull request.\n"
   ]
  },
  {
   "cell_type": "code",
   "execution_count": null,
   "id": "df93a7e0-c3a9-44f8-b509-427f10eb7308",
   "metadata": {},
   "outputs": [],
   "source": []
  }
 ],
 "metadata": {
  "kernelspec": {
   "display_name": "Julia 1.8.0",
   "language": "julia",
   "name": "julia-1.8"
  },
  "language_info": {
   "file_extension": ".jl",
   "mimetype": "application/julia",
   "name": "julia",
   "version": "1.8.0"
  }
 },
 "nbformat": 4,
 "nbformat_minor": 5
}
