{
 "cells": [
  {
   "cell_type": "markdown",
   "id": "f7254df6-31dd-4ede-a76f-0040ee41835a",
   "metadata": {},
   "source": [
    "# FLOYao.jl\n",
    "\n",
    "A backend to efficiently simulate fermionic linear optics (FLO) circuits in [Yao.jl](https://github.com/QuantumBFS/Yao.jlhttps://github.com/QuantumBFS/Yao.jl) based on [Classical simulation of noninteracting-fermion quantum circuits](https://arxiv.org/abs/quant-ph/0108010).\n",
    "\n",
    "## Contents\n",
    " - [Installation](#Installation)\n",
    " - [Basic usage](#Basic-usage)\n",
    " - [List of supported gates](#List-of-supported-gates)\n",
    " - [Example: Transverse field Ising model](#Example:-Transverse-Field-Ising-model)\n",
    " - [Adding support for your own gates](#Adding-support-for-your-own-gates)\n",
    " - [Background: Fermionic linear optics circuits](#Background:-Fermionic-linear-optics-circuits)\n",
    " - [Known restrictions](#Known-restrictions)\n",
    "\n",
    "## Installation\n",
    "To install `FLOYao` open the julia REPL and type the following:\n",
    "```julia\n",
    "pkg> add FLOYao\n",
    "```"
   ]
  },
  {
   "cell_type": "markdown",
   "id": "417e72b0-835a-4e6a-a15d-9f2d6638a3b8",
   "metadata": {},
   "source": [
    "## Basic usage\n",
    "The heart of `FLOYao` is the `MajoranaReg` register type, which efficiently represents a state that is a [FLO unitary](#Background:-Fermionic-linear-optics-circuits) applied to the vacuum state $|0⋯0⟩$"
   ]
  },
  {
   "cell_type": "markdown",
   "id": "70bb4376-8ca9-469d-913a-1674e06e224b",
   "metadata": {},
   "source": [
    "First import `Yao` and `FLOYao`:"
   ]
  },
  {
   "cell_type": "code",
   "execution_count": 24,
   "id": "f664a8f0-36fb-46c0-b128-e4b37e9a0f18",
   "metadata": {},
   "outputs": [],
   "source": [
    "using Yao, FLOYao"
   ]
  },
  {
   "cell_type": "markdown",
   "id": "343ff0b8-8a9d-4581-aa05-1cd922e9e78f",
   "metadata": {},
   "source": [
    "then build a (here somewhat arbitrary) circuit consisting only of [FLO gates](#Background:-Fermionic-linear-optics-circuits)"
   ]
  },
  {
   "cell_type": "code",
   "execution_count": 4,
   "id": "1130f211-1db6-4fa9-ad08-645b05dfaeb9",
   "metadata": {},
   "outputs": [
    {
     "data": {
      "text/plain": [
       "\u001b[36mnqubits: 4\u001b[39m\n",
       "\u001b[34m\u001b[1mchain\u001b[22m\u001b[39m\n",
       "├─ \u001b[36m\u001b[1mput on (\u001b[22m\u001b[39m\u001b[36m\u001b[1m3\u001b[22m\u001b[39m\u001b[36m\u001b[1m)\u001b[22m\u001b[39m\n",
       "│  └─ rot(Z, 0.5)\n",
       "├─ rot(\u001b[36mnqubits: 4\u001b[39m\n",
       "\u001b[36m\u001b[1mkron\u001b[22m\u001b[39m\n",
       "├─ \u001b[37m\u001b[1m1\u001b[22m\u001b[39m=>X\n",
       "└─ \u001b[37m\u001b[1m2\u001b[22m\u001b[39m=>X, 0.39269908169872414)\n",
       "├─ rot(\u001b[36mnqubits: 4\u001b[39m\n",
       "\u001b[36m\u001b[1mkron\u001b[22m\u001b[39m\n",
       "├─ \u001b[37m\u001b[1m2\u001b[22m\u001b[39m=>X\n",
       "├─ \u001b[37m\u001b[1m3\u001b[22m\u001b[39m=>Z\n",
       "└─ \u001b[37m\u001b[1m4\u001b[22m\u001b[39m=>X, 0.39269908169872414)\n",
       "├─ \u001b[36m\u001b[1mput on (\u001b[22m\u001b[39m\u001b[36m\u001b[1m3\u001b[22m\u001b[39m\u001b[36m\u001b[1m)\u001b[22m\u001b[39m\n",
       "│  └─ rot(Z, 0.5)\n",
       "└─ \u001b[36m\u001b[1mput on (\u001b[22m\u001b[39m\u001b[36m\u001b[1m1\u001b[22m\u001b[39m\u001b[36m\u001b[1m)\u001b[22m\u001b[39m\n",
       "   └─ Z\n"
      ]
     },
     "execution_count": 4,
     "metadata": {},
     "output_type": "execute_result"
    }
   ],
   "source": [
    "nq = 4\n",
    "θ = π/8\n",
    "circuit = chain(nq)\n",
    "\n",
    "push!(circuit, put(nq, 3=>Rz(0.5)))\n",
    "\n",
    "xxg1 = kron(nq, 1 => X, 2 => X)\n",
    "rg = rot(xxg1, θ)\n",
    "push!(circuit, rg)  \n",
    "\n",
    "xxg2 = kron(nq, 2 => X, 3 => Z, 4 => X)\n",
    "rg = rot(xxg2, θ)\n",
    "push!(circuit, rg)  \n",
    "push!(circuit, put(nq, 3=>Rz(0.5)))\n",
    "push!(circuit, put(nq, 1=>Z))\n",
    "\n",
    "xxg3 = kron(nq, 2 => X, 3 => X)\n",
    "rg = rot(xxg3, θ)\n",
    "\n",
    "circuit"
   ]
  },
  {
   "cell_type": "markdown",
   "id": "62eae1ed-186f-44ed-af7f-600bd9f6c717",
   "metadata": {},
   "source": [
    "and define an observable that is a sum of squares of Majorana operators"
   ]
  },
  {
   "cell_type": "code",
   "execution_count": 5,
   "id": "34739274-4f99-4489-b91e-ea7163c9afe6",
   "metadata": {},
   "outputs": [
    {
     "data": {
      "text/plain": [
       "\u001b[36mnqubits: 4\u001b[39m\n",
       "\u001b[31m\u001b[1m+\u001b[22m\u001b[39m\n",
       "├─ \u001b[36m\u001b[1mkron\u001b[22m\u001b[39m\n",
       "│  ├─ \u001b[37m\u001b[1m1\u001b[22m\u001b[39m=>X\n",
       "│  └─ \u001b[37m\u001b[1m2\u001b[22m\u001b[39m=>X\n",
       "├─ \u001b[36m\u001b[1mkron\u001b[22m\u001b[39m\n",
       "│  ├─ \u001b[37m\u001b[1m2\u001b[22m\u001b[39m=>X\n",
       "│  ├─ \u001b[37m\u001b[1m3\u001b[22m\u001b[39m=>Z\n",
       "│  └─ \u001b[37m\u001b[1m4\u001b[22m\u001b[39m=>X\n",
       "├─ \u001b[36m\u001b[1mkron\u001b[22m\u001b[39m\n",
       "│  ├─ \u001b[37m\u001b[1m2\u001b[22m\u001b[39m=>X\n",
       "│  └─ \u001b[37m\u001b[1m3\u001b[22m\u001b[39m=>X\n",
       "├─ \u001b[36m\u001b[1mkron\u001b[22m\u001b[39m\n",
       "│  └─ \u001b[37m\u001b[1m2\u001b[22m\u001b[39m=>Z\n",
       "└─ \u001b[36m\u001b[1mkron\u001b[22m\u001b[39m\n",
       "   └─ \u001b[37m\u001b[1m3\u001b[22m\u001b[39m=>Z\n"
      ]
     },
     "execution_count": 5,
     "metadata": {},
     "output_type": "execute_result"
    }
   ],
   "source": [
    "hamiltonian = xxg1 + xxg2 + xxg3 + kron(nq, 2=>Z) + kron(nq, 3=>Z)"
   ]
  },
  {
   "cell_type": "markdown",
   "id": "14ec3fca-b095-4492-b9cd-f88171f247d8",
   "metadata": {},
   "source": [
    "and finally create a register in the computational zero state via"
   ]
  },
  {
   "cell_type": "code",
   "execution_count": 6,
   "id": "a5f9e58d-2968-4acf-be89-97058d5006ab",
   "metadata": {},
   "outputs": [
    {
     "data": {
      "text/plain": [
       "MajoranaReg{Float64} with 4 qubits:\n",
       "8×8 Matrix{Float64}:\n",
       " 1.0  0.0  0.0  0.0  0.0  0.0  0.0  0.0\n",
       " 0.0  1.0  0.0  0.0  0.0  0.0  0.0  0.0\n",
       " 0.0  0.0  1.0  0.0  0.0  0.0  0.0  0.0\n",
       " 0.0  0.0  0.0  1.0  0.0  0.0  0.0  0.0\n",
       " 0.0  0.0  0.0  0.0  1.0  0.0  0.0  0.0\n",
       " 0.0  0.0  0.0  0.0  0.0  1.0  0.0  0.0\n",
       " 0.0  0.0  0.0  0.0  0.0  0.0  1.0  0.0\n",
       " 0.0  0.0  0.0  0.0  0.0  0.0  0.0  1.0"
      ]
     },
     "execution_count": 6,
     "metadata": {},
     "output_type": "execute_result"
    }
   ],
   "source": [
    "mreg = MajoranaReg(nq)"
   ]
  },
  {
   "cell_type": "markdown",
   "id": "70718813-d84f-4ce2-ac1b-08a75fd1b4c3",
   "metadata": {},
   "source": [
    "Applying the circuit to the register works then exactly the same way as for a normal Array register:"
   ]
  },
  {
   "cell_type": "code",
   "execution_count": 7,
   "id": "aec951d2-c39a-4063-ad0f-d36afba50f32",
   "metadata": {},
   "outputs": [
    {
     "data": {
      "text/plain": [
       "MajoranaReg{Float64} with 4 qubits:\n",
       "8×8 Matrix{Float64}:\n",
       " -1.0  -0.0       -0.0       -0.0       -0.0       -0.0       -0.0       -0.0\n",
       " -0.0  -0.92388    0.382683  -0.0       -0.0       -0.0       -0.0       -0.0\n",
       "  0.0   0.382683   0.92388    0.0        0.0        0.0        0.0        0.0\n",
       "  0.0   0.0        0.0        0.92388    0.0        0.0        0.382683   0.0\n",
       "  0.0   0.0        0.0        0.0        0.540302   0.841471   0.0        0.0\n",
       "  0.0   0.0        0.0        0.0       -0.841471   0.540302   0.0        0.0\n",
       "  0.0   0.0        0.0       -0.382683   0.0        0.0        0.92388    0.0\n",
       "  0.0   0.0        0.0        0.0        0.0        0.0        0.0        1.0"
      ]
     },
     "execution_count": 7,
     "metadata": {},
     "output_type": "execute_result"
    }
   ],
   "source": [
    "apply(mreg, circuit)"
   ]
  },
  {
   "cell_type": "markdown",
   "id": "005be117-043d-4577-8131-f4199407618f",
   "metadata": {},
   "source": [
    "and the same goes for expectation values of observables"
   ]
  },
  {
   "cell_type": "code",
   "execution_count": 8,
   "id": "27ce6def-141a-433f-8013-d94144f1f0db",
   "metadata": {},
   "outputs": [
    {
     "data": {
      "text/plain": [
       "1.8535533905932737"
      ]
     },
     "execution_count": 8,
     "metadata": {},
     "output_type": "execute_result"
    }
   ],
   "source": [
    "expval = expect(hamiltonian, mreg => circuit)"
   ]
  },
  {
   "cell_type": "markdown",
   "id": "5805fcd2-5cb4-4b26-8ea4-52faf584a8ec",
   "metadata": {},
   "source": [
    "or even gradients of these expectation values with respect to the circuit parameters"
   ]
  },
  {
   "cell_type": "code",
   "execution_count": 9,
   "id": "fbc7a38d-fb32-4eea-8f18-1472a1a4a798",
   "metadata": {},
   "outputs": [
    {
     "data": {
      "text/plain": [
       "MajoranaReg{Float64}(4) => [0.0, -0.3535533905932738, -0.3535533905932738, 0.0]"
      ]
     },
     "execution_count": 9,
     "metadata": {},
     "output_type": "execute_result"
    }
   ],
   "source": [
    "inδ, paramsδ = expect'(hamiltonian, mreg => circuit)"
   ]
  },
  {
   "cell_type": "markdown",
   "id": "fb1539dc-f61c-46d0-b688-beff5a068005",
   "metadata": {},
   "source": [
    "and just to check that this is all consistent with running a full wavefunction simulation, can apply the same circuit on an `ArrayReg` and compare the expectation values and gradients"
   ]
  },
  {
   "cell_type": "code",
   "execution_count": 10,
   "id": "9c600914-7638-4f7d-bca6-99d429243762",
   "metadata": {},
   "outputs": [
    {
     "data": {
      "text/plain": [
       "true"
      ]
     },
     "execution_count": 10,
     "metadata": {},
     "output_type": "execute_result"
    }
   ],
   "source": [
    "areg = zero_state(nq)\n",
    "expval_full = expect(hamiltonian, areg => circuit)\n",
    "expval_full ≈ expval"
   ]
  },
  {
   "cell_type": "code",
   "execution_count": 11,
   "id": "da6ce01b-7de4-488f-9cc1-a09224eaaa12",
   "metadata": {},
   "outputs": [
    {
     "data": {
      "text/plain": [
       "true"
      ]
     },
     "execution_count": 11,
     "metadata": {},
     "output_type": "execute_result"
    }
   ],
   "source": [
    "inδ_full, paramsδ_full = expect'(hamiltonian, areg => circuit)\n",
    "paramsδ ≈ paramsδ_full"
   ]
  },
  {
   "cell_type": "markdown",
   "id": "f9ef1a39-d42b-4072-8b70-b995142c6cf9",
   "metadata": {},
   "source": [
    "## List of supported gates\n",
    "\n",
    "The following gates are FLO gates and supported by `FLOYao.jl`:\n",
    "\n",
    "|  Gate | Comment |\n",
    "|-------|---------|\n",
    "|  `XGate`   | Together with `Y` the only gate that does not preserve fermionic parity |\n",
    "|  `YGate`   |   See above  |\n",
    "|  `ZGate`   |         |\n",
    "|  `RotationGate{⋯,⋯,YGate}`  | The only single qubit rotation gate since $R_x(θ)γ_i R_x(-θ)$ is not a linear combination of Majorana operators for all Majorana operators. Similar for $R_y$ |\n",
    "| `PauliKronBlock` | A kronecker product of Pauli operators s.t. that first and last operator are either $X$ or $Y$ and all operators in between are $Z$.  |\n",
    "| `RotationGate{⋯,⋯,PauliKronBlock}` | A rotation gate with generator as in the last line. |\n",
    "| `AbstractMatrix` | Unless the gate type is already explicitely implemented or know to not be a FLO gate, `FLOYao` will try to automatically convert the gate matrix in the qubit basis to a matrix in the Majorana basis. But note that this is fairly slow (although still poly-time instead of exp-time) |\n"
   ]
  },
  {
   "cell_type": "markdown",
   "id": "a55a6cea-93b4-4fb7-a3c5-3fc81863f2e5",
   "metadata": {
    "tags": []
   },
   "source": [
    "## Example: VQE for the Transverse Field Ising model\n",
    "\n",
    "For a more realistic use case, we have a look at VQE for the Transverse Field Ising model on a line whose Hamiltonian is given as \n",
    "$$\n",
    "    H = J ∑_i^{L-1} X_i X_{i+1} + h ∑_i^L Z_i = U + T.\n",
    "$$\n",
    "and as Ansatz circuits we use the Hamiltonian Variational Ansatz\n",
    "$$\n",
    "    U(\\vec θ) = ∏_i^p e^{-iθ_{i,U} U} e^{-iθ_{i,T} T} \n",
    "$$\n",
    "with the initial state being the groundstate of the TFIM at $J = 0$, $|ψ_i⟩ = |0⋯0⟩$"
   ]
  },
  {
   "cell_type": "code",
   "execution_count": 13,
   "id": "cad722cb-da00-48e4-943f-bc5dbe141284",
   "metadata": {},
   "outputs": [],
   "source": [
    "# note that this is far beyond what is possible with a full wavefunction simulation\n",
    "L = 100 \n",
    "J = 0.5\n",
    "h = 1.\n",
    "p = 10\n",
    "\n",
    "U = map(1:L-1) do i\n",
    "    J * kron(L, i => X, i+1 => X)\n",
    "end |> sum\n",
    "\n",
    "T = map(1:L) do i\n",
    "    h * kron(L, i => Z)\n",
    "end |> sum\n",
    "\n",
    "hamiltonian = T + U\n",
    "\n",
    "circuit = chain(L)\n",
    "for _ in 1:p\n",
    "    for i in 1:L-1\n",
    "        push!(circuit, rot(kron(L, i => X, i+1 => X), 0.))\n",
    "    end\n",
    "    for i in 1:L\n",
    "        push!(circuit, put(L, i => Rz(0.)))\n",
    "    end\n",
    "end\n",
    "nparams = nparameters(circuit)\n",
    "dispatch!(circuit, rand(nparams) ./ 100)\n",
    "\n",
    "ψ_i = MajoranaReg(L);"
   ]
  },
  {
   "cell_type": "markdown",
   "id": "0809f1a7-8578-4df7-a5e7-735b3802ca75",
   "metadata": {},
   "source": [
    "now that we defined the hamiltonian, the ansatz circuit and the initial state we can perform\n",
    "simple gradient descent on the energy expectation value to find an approximation to the\n",
    "groundstate of $H$:"
   ]
  },
  {
   "cell_type": "code",
   "execution_count": 15,
   "id": "0e041550-e1e0-4df3-a671-013952b2687b",
   "metadata": {},
   "outputs": [
    {
     "name": "stdout",
     "output_type": "stream",
     "text": [
      "Iteration 1, energy = -85.58442028406317\n",
      "Iteration 2, energy = -85.59679211578971\n",
      "Iteration 3, energy = -85.60890593432809\n",
      "Iteration 4, energy = -85.6207678543884\n",
      "Iteration 5, energy = -85.63238391408974\n",
      "Iteration 6, energy = -85.64376007967587\n",
      "Iteration 7, energy = -85.65490224875602\n",
      "Iteration 8, energy = -85.66581625226901\n",
      "Iteration 9, energy = -85.67650785536361\n",
      "Iteration 10, energy = -85.68698275738363\n",
      "Iteration 11, energy = -85.69724659113479\n",
      "Iteration 12, energy = -85.70730492160064\n",
      "Iteration 13, energy = -85.71716324426018\n",
      "Iteration 14, energy = -85.72682698314559\n",
      "Iteration 15, energy = -85.73630148876207\n",
      "Iteration 16, energy = -85.74559203597492\n",
      "Iteration 17, energy = -85.75470382195283\n",
      "Iteration 18, energy = -85.76364196423859\n",
      "Iteration 19, energy = -85.77241149900364\n",
      "Iteration 20, energy = -85.78101737952564\n",
      "Iteration 21, energy = -85.78946447491538\n",
      "Iteration 22, energy = -85.7977575691069\n",
      "Iteration 23, energy = -85.80590136011091\n",
      "Iteration 24, energy = -85.81390045952519\n",
      "Iteration 25, energy = -85.82175939228405\n",
      "Iteration 26, energy = -85.82948259662612\n",
      "Iteration 27, energy = -85.83707442425263\n",
      "Iteration 28, energy = -85.84453914064578\n",
      "Iteration 29, energy = -85.85188092551661\n",
      "Iteration 30, energy = -85.85910387334995\n",
      "Iteration 31, energy = -85.86621199401655\n",
      "Iteration 32, energy = -85.87320921342284\n",
      "Iteration 33, energy = -85.88009937417416\n",
      "Iteration 34, energy = -85.88688623622832\n",
      "Iteration 35, energy = -85.89357347752112\n",
      "Iteration 36, energy = -85.90016469455124\n",
      "Iteration 37, energy = -85.90666340291367\n",
      "Iteration 38, energy = -85.91307303777626\n",
      "Iteration 39, energy = -85.91939695429835\n",
      "Iteration 40, energy = -85.92563842799335\n",
      "Iteration 41, energy = -85.93180065504039\n",
      "Iteration 42, energy = -85.93788675255333\n",
      "Iteration 43, energy = -85.94389975881784\n",
      "Iteration 44, energy = -85.94984263350786\n",
      "Iteration 45, energy = -85.955718257895\n",
      "Iteration 46, energy = -85.96152943506524\n",
      "Iteration 47, energy = -85.96727889015615\n",
      "Iteration 48, energy = -85.97296927062924\n",
      "Iteration 49, energy = -85.9786031465901\n",
      "Iteration 50, energy = -85.98418301116867\n",
      "Iteration 51, energy = -85.9897112809705\n",
      "Iteration 52, energy = -85.9951902966089\n",
      "Iteration 53, energy = -86.00062232332509\n",
      "Iteration 54, energy = -86.0060095517028\n",
      "Iteration 55, energy = -86.01135409848226\n",
      "Iteration 56, energy = -86.01665800747509\n",
      "Iteration 57, energy = -86.02192325058179\n",
      "Iteration 58, energy = -86.02715172891095\n",
      "Iteration 59, energy = -86.03234527399836\n",
      "Iteration 60, energy = -86.0375056491211\n",
      "Iteration 61, energy = -86.04263455070374\n",
      "Iteration 62, energy = -86.04773360980916\n",
      "Iteration 63, energy = -86.05280439370817\n",
      "Iteration 64, energy = -86.05784840752023\n",
      "Iteration 65, energy = -86.06286709591693\n",
      "Iteration 66, energy = -86.06786184488034\n",
      "Iteration 67, energy = -86.07283398350725\n",
      "Iteration 68, energy = -86.07778478585064\n",
      "Iteration 69, energy = -86.08271547278908\n",
      "Iteration 70, energy = -86.0876272139168\n",
      "Iteration 71, energy = -86.09252112944438\n",
      "Iteration 72, energy = -86.09739829210315\n",
      "Iteration 73, energy = -86.10225972904499\n",
      "Iteration 74, energy = -86.10710642373078\n",
      "Iteration 75, energy = -86.11193931780014\n",
      "Iteration 76, energy = -86.1167593129166\n",
      "Iteration 77, energy = -86.1215672725826\n",
      "Iteration 78, energy = -86.12636402391885\n",
      "Iteration 79, energy = -86.13115035940358\n",
      "Iteration 80, energy = -86.1359270385674\n",
      "Iteration 81, energy = -86.14069478964139\n",
      "Iteration 82, energy = -86.1454543111533\n",
      "Iteration 83, energy = -86.15020627347161\n",
      "Iteration 84, energy = -86.1549513202942\n",
      "Iteration 85, energy = -86.15969007008029\n",
      "Iteration 86, energy = -86.16442311742462\n",
      "Iteration 87, energy = -86.16915103437336\n",
      "Iteration 88, energy = -86.1738743716811\n",
      "Iteration 89, energy = -86.17859366000872\n",
      "Iteration 90, energy = -86.18330941106287\n",
      "Iteration 91, energy = -86.18802211867772\n",
      "Iteration 92, energy = -86.19273225983873\n",
      "Iteration 93, energy = -86.19744029565045\n",
      "Iteration 94, energy = -86.20214667224946\n",
      "Iteration 95, energy = -86.20685182166314\n",
      "Iteration 96, energy = -86.21155616261623\n",
      "Iteration 97, energy = -86.21626010128705\n",
      "Iteration 98, energy = -86.22096403201397\n",
      "Iteration 99, energy = -86.22566833795514\n",
      "Iteration 100, energy = -86.23037339170249\n"
     ]
    }
   ],
   "source": [
    "iterations = 100\n",
    "γ = 2e-2\n",
    "\n",
    "for i in 1:iterations\n",
    "    _, grad = expect'(hamiltonian, ψ_i => circuit)\n",
    "    dispatch!(-, circuit, γ * grad)\n",
    "    println(\"Iteration $i, energy = $(expect(hamiltonian, ψ_i => circuit))\")\n",
    "end"
   ]
  },
  {
   "cell_type": "markdown",
   "id": "c0669619-9d7c-49a5-a532-3d2cbe9ec80c",
   "metadata": {
    "tags": []
   },
   "source": [
    "## Adding support for your own gates\n",
    "\n",
    "Natively, the only FLO gates that come already shipped with `Yao.jl` are gates of\n",
    "the form `kron(nq, i => σ1, i+1 => Z, ⋯, i-1 => Z, j => σ2)` and \n",
    "`rot(kron(nq, i => σ1, i+1 => Z, ⋯, i-1 => Z, j => σ2), θ)` where `σ1, σ2 ∈ [X,Y]`. But there are many more FLO gates, one being for example the $FSWAP$ gates which swaps to qubits while making sure to preserve the fermionic commutation relations"
   ]
  },
  {
   "cell_type": "code",
   "execution_count": 16,
   "id": "e64530c6-b408-44df-8311-6e1da1ff7766",
   "metadata": {},
   "outputs": [],
   "source": [
    "@const_gate FSWAP::ComplexF64 = [1 0 0 0; 0 0 1 0; 0 1 0 0; 0 0 0 -1]"
   ]
  },
  {
   "cell_type": "markdown",
   "id": "4f4c5126-9764-459f-8bc6-63f8392f3696",
   "metadata": {},
   "source": [
    "If a gate defines a matrix representation, as we just did for the `FSWAP`gate, `FLOYao` supports them out of the box by manually checking if they are a FLO gate and then computing its matrix representation in the Majorana basis. But this method is fairly slow, compared to directly implementing `unsafe_apply!(::MajoranaReg, ::YourBlock)` and  `instruct!(::MajoranaReg, ::YourBlock)` and will warn you accordingly"
   ]
  },
  {
   "cell_type": "code",
   "execution_count": 18,
   "id": "43973207-bab2-4877-baec-8ae600ea299b",
   "metadata": {},
   "outputs": [
    {
     "name": "stderr",
     "output_type": "stream",
     "text": [
      "┌ Warning: Calling manual instruct!(MajoranaReg{Float64}(4), ComplexF64[1.0 + 0.0im 0.0 + 0.0im 0.0 + 0.0im 0.0 + 0.0im; 0.0 + 0.0im 0.0 + 0.0im 1.0 + 0.0im 0.0 + 0.0im; 0.0 + 0.0im 1.0 + 0.0im 0.0 + 0.0im 0.0 + 0.0im; 0.0 + 0.0im 0.0 + 0.0im 0.0 + 0.0im -1.0 + 0.0im], (1, 2)).\n",
      "│ You can greatly speed up your FLO gates by exactly implementing unsafe_apply!()\n",
      "│ and instruct!() for them. See FLOYao/src/instruct.jl for how to do that.\n",
      "└ @ FLOYao /home/janlukas/PhD/Work/code/FLOYao/src/instruct.jl:62\n"
     ]
    },
    {
     "data": {
      "text/plain": [
       "MajoranaReg{Float64} with 4 qubits:\n",
       "8×8 Matrix{Float64}:\n",
       " -2.40901e-16  -2.94663e-16  -1.0          …   0.0   0.0   0.0   0.0\n",
       "  3.57633e-16  -4.32975e-16  -1.0529e-16       0.0   0.0   0.0   0.0\n",
       " -1.0           1.20422e-17   2.61492e-16      0.0   0.0   0.0   0.0\n",
       " -7.05281e-17  -1.0           2.65282e-16      0.0   0.0   0.0   0.0\n",
       " -0.0          -0.0          -0.0             -1.0  -0.0  -0.0  -0.0\n",
       " -0.0          -0.0          -0.0          …  -0.0  -1.0  -0.0  -0.0\n",
       " -0.0          -0.0          -0.0             -0.0  -0.0  -1.0  -0.0\n",
       " -0.0          -0.0          -0.0             -0.0  -0.0  -0.0  -1.0"
      ]
     },
     "execution_count": 18,
     "metadata": {},
     "output_type": "execute_result"
    }
   ],
   "source": [
    "nq = 4\n",
    "fswap = put(nq, (1, 2) => FSWAP)\n",
    "mreg = MajoranaReg(nq)\n",
    "mreg |> put(nq, 2 => X)\n",
    "mreg |> fswap"
   ]
  },
  {
   "cell_type": "markdown",
   "id": "174bea49-2e1d-484e-b708-9f703e33aac2",
   "metadata": {},
   "source": [
    "now before we fix these warnings, let's see how long the current implementation takes:"
   ]
  },
  {
   "cell_type": "code",
   "execution_count": 19,
   "id": "b85e71ec-6bdf-4d73-aece-07c23651b269",
   "metadata": {},
   "outputs": [
    {
     "data": {
      "text/plain": [
       "BenchmarkTools.Trial: 2319 samples with 1 evaluation.\n",
       " Range \u001b[90m(\u001b[39m\u001b[36m\u001b[1mmin\u001b[22m\u001b[39m … \u001b[35mmax\u001b[39m\u001b[90m):  \u001b[39m\u001b[36m\u001b[1m929.353 μs\u001b[22m\u001b[39m … \u001b[35m24.616 ms\u001b[39m  \u001b[90m┊\u001b[39m GC \u001b[90m(\u001b[39mmin … max\u001b[90m): \u001b[39m0.00% … 0.00%\n",
       " Time  \u001b[90m(\u001b[39m\u001b[34m\u001b[1mmedian\u001b[22m\u001b[39m\u001b[90m):     \u001b[39m\u001b[34m\u001b[1m  1.738 ms              \u001b[22m\u001b[39m\u001b[90m┊\u001b[39m GC \u001b[90m(\u001b[39mmedian\u001b[90m):    \u001b[39m0.00%\n",
       " Time  \u001b[90m(\u001b[39m\u001b[32m\u001b[1mmean\u001b[22m\u001b[39m ± \u001b[32mσ\u001b[39m\u001b[90m):   \u001b[39m\u001b[32m\u001b[1m  2.142 ms\u001b[22m\u001b[39m ± \u001b[32m 1.651 ms\u001b[39m  \u001b[90m┊\u001b[39m GC \u001b[90m(\u001b[39mmean ± σ\u001b[90m):  \u001b[39m1.59% ± 5.83%\n",
       "\n",
       "  \u001b[39m \u001b[39m \u001b[39m \u001b[39m \u001b[39m \u001b[39m█\u001b[34m▅\u001b[39m\u001b[39m▂\u001b[32m▁\u001b[39m\u001b[39m▁\u001b[39m \u001b[39m \u001b[39m \u001b[39m \u001b[39m \u001b[39m \u001b[39m \u001b[39m \u001b[39m \u001b[39m \u001b[39m \u001b[39m \u001b[39m \u001b[39m \u001b[39m \u001b[39m \u001b[39m \u001b[39m \u001b[39m \u001b[39m \u001b[39m \u001b[39m \u001b[39m \u001b[39m \u001b[39m \u001b[39m \u001b[39m \u001b[39m \u001b[39m \u001b[39m \u001b[39m \u001b[39m \u001b[39m \u001b[39m \u001b[39m \u001b[39m \u001b[39m \u001b[39m \u001b[39m \u001b[39m \u001b[39m \u001b[39m \u001b[39m \u001b[39m \u001b[39m \u001b[39m \u001b[39m \u001b[39m \u001b[39m \u001b[39m \u001b[39m \u001b[39m \n",
       "  \u001b[39m▇\u001b[39m▅\u001b[39m▁\u001b[39m▅\u001b[39m▇\u001b[39m█\u001b[34m█\u001b[39m\u001b[39m█\u001b[32m█\u001b[39m\u001b[39m█\u001b[39m█\u001b[39m▆\u001b[39m▇\u001b[39m▆\u001b[39m▇\u001b[39m▇\u001b[39m█\u001b[39m▆\u001b[39m▇\u001b[39m▆\u001b[39m▆\u001b[39m▅\u001b[39m▆\u001b[39m▆\u001b[39m▇\u001b[39m▆\u001b[39m▆\u001b[39m▅\u001b[39m▃\u001b[39m▅\u001b[39m▅\u001b[39m▅\u001b[39m▄\u001b[39m▃\u001b[39m▅\u001b[39m▃\u001b[39m▁\u001b[39m▅\u001b[39m▅\u001b[39m▆\u001b[39m▆\u001b[39m▄\u001b[39m▁\u001b[39m▃\u001b[39m▃\u001b[39m▁\u001b[39m▄\u001b[39m▃\u001b[39m▃\u001b[39m▃\u001b[39m▃\u001b[39m▃\u001b[39m▁\u001b[39m▁\u001b[39m▃\u001b[39m▃\u001b[39m▃\u001b[39m▁\u001b[39m▁\u001b[39m▄\u001b[39m \u001b[39m█\n",
       "  929 μs\u001b[90m        \u001b[39m\u001b[90mHistogram: \u001b[39m\u001b[90m\u001b[1mlog(\u001b[22m\u001b[39m\u001b[90mfrequency\u001b[39m\u001b[90m\u001b[1m)\u001b[22m\u001b[39m\u001b[90m by time\u001b[39m      9.55 ms \u001b[0m\u001b[1m<\u001b[22m\n",
       "\n",
       " Memory estimate\u001b[90m: \u001b[39m\u001b[33m339.19 KiB\u001b[39m, allocs estimate\u001b[90m: \u001b[39m\u001b[33m496\u001b[39m."
      ]
     },
     "execution_count": 19,
     "metadata": {},
     "output_type": "execute_result"
    }
   ],
   "source": [
    "using BenchmarkTools\n",
    "using Suppressor # we don't want to get all the warnings when benchmarking\n",
    "@benchmark @suppress apply!($mreg, $fswap)"
   ]
  },
  {
   "cell_type": "markdown",
   "id": "46dd1485-730c-456d-b674-6d98df6f89da",
   "metadata": {},
   "source": [
    "To find out what the matrix representation of the `FSWAP` gate in the Majorana basis is, it is easiest to retrace what is happening inside `instruct!(::MajoranaReg, ::AbstractMatrix, locs)`"
   ]
  },
  {
   "cell_type": "code",
   "execution_count": 20,
   "id": "5f912e0a-7d53-4730-b728-e8c8afd26657",
   "metadata": {},
   "outputs": [
    {
     "data": {
      "text/plain": [
       "4×4 Matrix{Float64}:\n",
       " -2.40901e-16  -2.94663e-16  -1.0           2.35127e-16\n",
       "  3.57633e-16  -4.32975e-16  -1.0529e-16   -1.0\n",
       " -1.0           1.20422e-17   2.61492e-16  -2.81188e-16\n",
       " -7.05281e-17  -1.0           2.65282e-16   3.00191e-16"
      ]
     },
     "execution_count": 20,
     "metadata": {},
     "output_type": "execute_result"
    }
   ],
   "source": [
    "W = FLOYao.qubit2majoranaevolution(Matrix(fswap.content), fswap.locs)"
   ]
  },
  {
   "cell_type": "code",
   "execution_count": 21,
   "id": "74b90601-32da-41ff-8c26-47f4a2084543",
   "metadata": {},
   "outputs": [
    {
     "data": {
      "text/plain": [
       "1:4"
      ]
     },
     "execution_count": 21,
     "metadata": {},
     "output_type": "execute_result"
    }
   ],
   "source": [
    "matlocs = 2*(fswap.locs[1]-1)+1:2(fswap.locs[end])"
   ]
  },
  {
   "cell_type": "markdown",
   "id": "65683e91-5df7-4a69-903f-2a13d712fdcd",
   "metadata": {},
   "source": [
    "this matrix gets left-multiplied to the columns `1:4` in the last line of `FLOYao.majorana_unsafe_apply!(::MajoranaReg, ::PutBlock)`. So we can instead implement the action of an `FSWAP` gate on a `MajoranaReg` directly as follows:"
   ]
  },
  {
   "cell_type": "code",
   "execution_count": 22,
   "id": "5179694d-272e-44e5-96f3-dbb5a2f0fff8",
   "metadata": {},
   "outputs": [],
   "source": [
    "function YaoBlocks.unsafe_apply!(reg::MajoranaReg, b::PutBlock{2,2,FSWAPGate})\n",
    "    FLOYao.areconsecutive(b.locs) || throw(NonFLOException(\"FSWAP must act on consecutive qubits\"))\n",
    "    instruct!(reg, Val(:FSWAP), b.locs)\n",
    "end\n",
    "\n",
    "function Yao.instruct!(reg::MajoranaReg, ::Val{:FSWAP}, locs::Tuple)\n",
    "    i1, i2 = locs\n",
    "    ψ1, ψ2 = reg.state[2i1-1,:], reg.state[2i1,:]\n",
    "    ψ3, ψ4 = reg.state[2i2-1,:], reg.state[2i2,:]\n",
    "    reg.state[2i1-1,:] .=  .-ψ3\n",
    "    reg.state[2i1,:] .=  .-ψ4\n",
    "    reg.state[2i2-1,:] .=  .-ψ1\n",
    "    reg.state[2i2,:] .=  .-ψ2\n",
    "    return reg\n",
    "end"
   ]
  },
  {
   "cell_type": "code",
   "execution_count": 23,
   "id": "d91d6cc1-9fdd-4681-b60b-9665f0e570c0",
   "metadata": {},
   "outputs": [
    {
     "data": {
      "text/plain": [
       "BenchmarkTools.Trial: 10000 samples with 560 evaluations.\n",
       " Range \u001b[90m(\u001b[39m\u001b[36m\u001b[1mmin\u001b[22m\u001b[39m … \u001b[35mmax\u001b[39m\u001b[90m):  \u001b[39m\u001b[36m\u001b[1m206.909 ns\u001b[22m\u001b[39m … \u001b[35m  4.917 μs\u001b[39m  \u001b[90m┊\u001b[39m GC \u001b[90m(\u001b[39mmin … max\u001b[90m): \u001b[39m0.00% … 90.06%\n",
       " Time  \u001b[90m(\u001b[39m\u001b[34m\u001b[1mmedian\u001b[22m\u001b[39m\u001b[90m):     \u001b[39m\u001b[34m\u001b[1m222.789 ns               \u001b[22m\u001b[39m\u001b[90m┊\u001b[39m GC \u001b[90m(\u001b[39mmedian\u001b[90m):    \u001b[39m0.00%\n",
       " Time  \u001b[90m(\u001b[39m\u001b[32m\u001b[1mmean\u001b[22m\u001b[39m ± \u001b[32mσ\u001b[39m\u001b[90m):   \u001b[39m\u001b[32m\u001b[1m258.945 ns\u001b[22m\u001b[39m ± \u001b[32m261.773 ns\u001b[39m  \u001b[90m┊\u001b[39m GC \u001b[90m(\u001b[39mmean ± σ\u001b[90m):  \u001b[39m7.68% ±  7.30%\n",
       "\n",
       "  \u001b[39m▇\u001b[39m▇\u001b[39m▅\u001b[34m█\u001b[39m\u001b[39m▂\u001b[39m▃\u001b[39m▃\u001b[39m▂\u001b[39m \u001b[39m \u001b[32m \u001b[39m\u001b[39m \u001b[39m \u001b[39m \u001b[39m \u001b[39m \u001b[39m \u001b[39m \u001b[39m \u001b[39m \u001b[39m \u001b[39m \u001b[39m \u001b[39m \u001b[39m \u001b[39m \u001b[39m \u001b[39m \u001b[39m \u001b[39m \u001b[39m \u001b[39m \u001b[39m \u001b[39m \u001b[39m \u001b[39m \u001b[39m \u001b[39m \u001b[39m \u001b[39m \u001b[39m \u001b[39m \u001b[39m \u001b[39m \u001b[39m \u001b[39m \u001b[39m \u001b[39m \u001b[39m \u001b[39m \u001b[39m \u001b[39m \u001b[39m \u001b[39m▁\u001b[39m▁\u001b[39m \u001b[39m \u001b[39m \u001b[39m \u001b[39m \u001b[39m \u001b[39m \u001b[39m▁\n",
       "  \u001b[39m█\u001b[39m█\u001b[39m█\u001b[34m█\u001b[39m\u001b[39m█\u001b[39m█\u001b[39m█\u001b[39m█\u001b[39m█\u001b[39m▇\u001b[32m▆\u001b[39m\u001b[39m▇\u001b[39m▇\u001b[39m▆\u001b[39m▆\u001b[39m▅\u001b[39m▆\u001b[39m▅\u001b[39m▅\u001b[39m▄\u001b[39m▄\u001b[39m▃\u001b[39m▄\u001b[39m▄\u001b[39m▅\u001b[39m▃\u001b[39m▅\u001b[39m▄\u001b[39m▅\u001b[39m▅\u001b[39m▂\u001b[39m▄\u001b[39m▅\u001b[39m▅\u001b[39m▅\u001b[39m▄\u001b[39m▅\u001b[39m▅\u001b[39m▄\u001b[39m▄\u001b[39m▆\u001b[39m▆\u001b[39m▇\u001b[39m▇\u001b[39m▇\u001b[39m▇\u001b[39m▇\u001b[39m▇\u001b[39m▇\u001b[39m▆\u001b[39m▆\u001b[39m▆\u001b[39m▇\u001b[39m█\u001b[39m█\u001b[39m█\u001b[39m█\u001b[39m▇\u001b[39m▇\u001b[39m▇\u001b[39m▆\u001b[39m \u001b[39m█\n",
       "  207 ns\u001b[90m        \u001b[39m\u001b[90mHistogram: \u001b[39m\u001b[90m\u001b[1mlog(\u001b[22m\u001b[39m\u001b[90mfrequency\u001b[39m\u001b[90m\u001b[1m)\u001b[22m\u001b[39m\u001b[90m by time\u001b[39m        515 ns \u001b[0m\u001b[1m<\u001b[22m\n",
       "\n",
       " Memory estimate\u001b[90m: \u001b[39m\u001b[33m512 bytes\u001b[39m, allocs estimate\u001b[90m: \u001b[39m\u001b[33m4\u001b[39m."
      ]
     },
     "execution_count": 23,
     "metadata": {},
     "output_type": "execute_result"
    }
   ],
   "source": [
    "@benchmark apply!($mreg, $fswap)"
   ]
  },
  {
   "cell_type": "markdown",
   "id": "b1d786b7-32f5-437e-93af-2feff22324c8",
   "metadata": {},
   "source": [
    "Now, that is quite a significant speedup!"
   ]
  },
  {
   "cell_type": "markdown",
   "id": "71fb3c5e-51b4-4e2d-9504-be2646256f42",
   "metadata": {},
   "source": [
    "## Background: Fermionic linear optics circuits\n",
    "\n",
    "This section is more here, to fix the convention of\n",
    "[Jordan-Wigner transform](https://en.wikipedia.org/wiki/Jordan%E2%80%93Wigner_transformation)\n",
    "and [Majorana operators](https://en.wikipedia.org/wiki/Majorana_fermion) that we use here,\n",
    "and less to explain the full theory behind those. For the latter, we, once again, recommend [Classical simulation of noninteracting-fermion quantum circuits](https://arxiv.org/abs/quant-ph/0108010).\n",
    "\n",
    "We define the Majorana operators $γ_i$ via \n",
    "$$\n",
    "    γ_{2i-1} = ∏_{j=1}^{i-1} (-Z_j) X_i\n",
    "$$\n",
    "and\n",
    "$$\n",
    "    γ_{2i} = ∏_{j=1}^{i-1} (-Z_j) Y_i.\n",
    "$$\n",
    "This implies the normal fermionic creation and annihilation operators are given by\n",
    "$$\n",
    "    c_j = \\frac{1}{2} (γ_{2j-1} + iγ_{2j})\n",
    "    \\quad \\textrm{and} \\quad\n",
    "    c_j^† = \\frac{1}{2} (γ_{2j-1} - iγ_{2j})\n",
    "$$\n",
    "and products of two Majorana operators are of the form\n",
    "$$\n",
    "    σ_i \\left(∏_{i<j<k} Z_k \\right) σ_k\n",
    "    \\quad \\textrm{or} \\quad\n",
    "    Z_i\n",
    "$$\n",
    "with $σ_i, σ_k ∈ \\{X, Y\\}$.\n",
    "\n",
    "Any unitary that takes all Majorana operators to a linear combination of Majorana operators\n",
    "under conjugation, i.e. that satisfies\n",
    "$$\n",
    "    U γ_i U^† = R_i^j γ_j\n",
    "$$\n",
    "with some $R ∈ O(2n)$ is a FLO unitary. In particular, if a unitary is of the form \n",
    "$$\n",
    "    U = e^{-iθH}\n",
    "$$\n",
    "with \n",
    "$$\n",
    "    H = \\frac{i}{4} \\sum_{i,j} H^{ij} γ_i γ_j\n",
    "$$\n",
    "it is a FLO unitary with even $R ∈ SO(2n)$.\n",
    "\n",
    "But note, that not all FLO unitaries are of that form. For example $X_i$ is also a FLO \n",
    "gate since it either commutes or anti-commutes with all Majorana operators, but the associated\n",
    "matrix $R$ always has determinant $-1$."
   ]
  },
  {
   "cell_type": "markdown",
   "id": "4f8a9332-a43d-40d0-bb77-8cbfe2c28d34",
   "metadata": {},
   "source": [
    "Calculating the expectation values of hamiltonians like the one above when evolving the \n",
    "vacuum state with FLO circuits is efficiently possible. Simply evolve the \n",
    "Hamiltonian in the Heisenber picture to\n",
    "$$\n",
    "    UHU^† = \\frac{i}{4} R^{m}_{i} R^{n}_{j} H^{ij} γ_{m} γ_{n} \n",
    "           =: \\frac{i}{4} \\tilde H^{mn} γ_{m} γ_{n}.\n",
    "$$\n",
    "\n",
    "For the expectation value this makes then\n",
    "$$\n",
    "\\begin{aligned}\n",
    "    ⟨ψ|UHU^†|ψ⟩ &= \\frac{i}{4} \\tilde H^{mn} ⟨Ω|γ_{m} γ_{n}|Ω⟩ \\\\\n",
    "                &= - \\frac{1}{2} ∑_{i} \\tilde H^{2i-1,2i} \\\\\n",
    "                &= - \\frac{1}{2} ∑_{i>k} R^{2i-1}_{m} R^{2i}_{n} H^{mn} \\\\\n",
    "\\end{aligned}\n",
    "$$\n",
    "where we used in from the first to second line one needs to carefully think which of the \n",
    "$⟨Ω|γ_{m} γ_{n}|Ω⟩$ are zero and which cancel each other out due to the anti-symmetry of $H^{mn}$."
   ]
  },
  {
   "cell_type": "markdown",
   "id": "8c190635-0c1a-42bc-bea7-60c6fc05a85c",
   "metadata": {
    "tags": []
   },
   "source": [
    "## Known restrictions\n",
    "\n",
    "###  Expectation values of higher order observables\n",
    "So far, `FLOYao` only supports expectation values of observables that are sums of squares of \n",
    "Majorana operators. But in general, one can use [Wick's theorem](https://en.wikipedia.org/wiki/Wick%27s_theorem) to calculate the expectation values of expressions of the form \n",
    "$$\n",
    "    ⟨ψ_i|O|ψ_i⟩\n",
    "$$\n",
    "where $|ψ_i⟩$ is a computational basis state and $O$ a string of Majorana operators and thus using linearity of the expectation value it is possible to efficiently calculate the expectation value of any observable that can be expanded in a sum of polynomially (in the number of qubits) many products of Majorana operators. (See also [Classical simulation of noninteracting-fermion quantum circuits](https://arxiv.org/abs/quant-ph/0108010) again for details). If you need expectation values of higher order (in the number of Majorana operators involved) observables, feel free to open a PR!\n",
    "\n",
    "### \"Hidden\" FLO circuits\n",
    "`Yao.jl` allows to express the same circuit in different forms. E.g. \n",
    "```julia\n",
    "    chain(nq, put(1 => X), put(2 => X))\n",
    "```\n",
    "and\n",
    "```julia\n",
    "    kron(nq, 1 => X, 2 => X)\n",
    "```\n",
    "represent the same FLO circuit, but only the latter will be recognised as such. Similarly \n",
    "```julia\n",
    "     kron(nq, 1 => X, 2 => X, 3 => X, 4 => X)\n",
    "```\n",
    "and\n",
    "```julia\n",
    "     chain(nq, kron(1 => X, 2 => X), kron(3 => X, 4 => X))\n",
    "```\n",
    "represent the same FLO circuit but only the latter will be recognised as such. This is because\n",
    "\n",
    " - We don't check if a whole `ChainBlock` is a FLO circuit, even if its single\n",
    "   gates are not. Instead a `ChainBlock` is applied gate by gate, each of which\n",
    "   has to be a FLO gate.\n",
    " - For `KronBlock`s we first try if each factor is a FLO gate and then if the whole\n",
    "   block altogether is of the form  `kron(nq, i => σ1, i+1 => Z, ⋯, i-1 => Z, j => σ2)`\n",
    "   with `σ1, σ2 ∈ [X, Y]`.\n",
    "\n",
    "If you run into a case that is a FLO circuit / gate but not recognised as such please open an issue or even pull request.\n"
   ]
  },
  {
   "cell_type": "code",
   "execution_count": null,
   "id": "49aa5488-75ca-4dc4-b27f-4494b35c42fe",
   "metadata": {},
   "outputs": [],
   "source": []
  }
 ],
 "metadata": {
  "kernelspec": {
   "display_name": "Julia 1.7.3",
   "language": "julia",
   "name": "julia-1.7"
  },
  "language_info": {
   "file_extension": ".jl",
   "mimetype": "application/julia",
   "name": "julia",
   "version": "1.7.3"
  }
 },
 "nbformat": 4,
 "nbformat_minor": 5
}
