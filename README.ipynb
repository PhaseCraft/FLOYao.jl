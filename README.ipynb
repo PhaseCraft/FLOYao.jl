{
 "cells": [
  {
   "cell_type": "markdown",
   "id": "5ea1fb70-b46b-4fd3-ad09-29e90d622247",
   "metadata": {},
   "source": [
    "# FLOYao.jl\n",
    "\n",
    "A backend to efficiently simulate fermionic linear optics (FLO) circuits in [Yao.jl](https://github.com/QuantumBFS/Yao.jlhttps://github.com/QuantumBFS/Yao.jl) based on [Classical simulation of noninteracting-fermion quantum circuits](https://arxiv.org/abs/quant-ph/0108010).\n",
    "\n",
    "**Note**    \n",
    "The markdown version of this README is automatically generated from `README.ipynb` and some \n",
    "of the hpyerlinks and math doesn't seem to play that well with githubs markdown parser. So you might want to have a look at the `README.ipynb` with jupyter instead for a better reading experience.\n",
    "\n",
    "## Contents\n",
    " - [Installation](#Installation)\n",
    " - [Basic usage](#Basic-usage)\n",
    " - [List of supported gates](#List-of-supported-gates)\n",
    " - [Example: Transverse field Ising model](#Example:-Transverse-Field-Ising-model)\n",
    " - [Adding support for your own gates](#Adding-support-for-your-own-gates)\n",
    " - [Background: Fermionic linear optics circuits](#Background:-Fermionic-linear-optics-circuits)\n",
    " - [Known restrictions](#Known-restrictions)"
   ]
  },
  {
   "cell_type": "markdown",
   "id": "46f631ce-8572-469f-8dfe-f7b116c17553",
   "metadata": {},
   "source": [
    "## Installation\n",
    "\n",
    " > By the time this will be in the julia general registry, it should be as easy as opening\n",
    " > a julia REPL and typing\n",
    " >  ```julia\n",
    " >   pkg> add FLOYao\n",
    " >  ```\n",
    "\n",
    "But for now I suggest the following way: First open a standard terminal and type \n",
    "```bash\n",
    "cd your_favorite_folder_for_code\n",
    "git clone git@github.com:PhaseCraft/FLOYao.jl\n",
    "```\n",
    "and then open a julia REPL and type\n",
    "```\n",
    "pkg> dev your_favorite_folder_for_code/FLOYao.jl\n",
    "```\n",
    "which should make `FLOYao.jl` discoverable for your standard julia installation. \n",
    "Under linux the standard folder for julia packages under development is `/home/username/.julia/dev`"
   ]
  },
  {
   "cell_type": "markdown",
   "id": "417e72b0-835a-4e6a-a15d-9f2d6638a3b8",
   "metadata": {},
   "source": [
    "## Basic usage\n",
    "The heart of `FLOYao` is the `MajoranaReg` register type, which efficiently represents a state that is a [FLO unitary](#Background:-Fermionic-linear-optics-circuits) applied to the vacuum state $|0⋯0⟩$\n",
    "\n",
    "First import `Yao` and `FLOYao`:"
   ]
  },
  {
   "cell_type": "code",
   "execution_count": 1,
   "id": "d80bd873-41a5-4266-a2f2-fa41f7a6f031",
   "metadata": {},
   "outputs": [],
   "source": [
    "using Revise"
   ]
  },
  {
   "cell_type": "code",
   "execution_count": 12,
   "id": "f664a8f0-36fb-46c0-b128-e4b37e9a0f18",
   "metadata": {},
   "outputs": [
    {
     "name": "stderr",
     "output_type": "stream",
     "text": [
      "┌ Info: Precompiling FLOYao [6d9310a3-f1d0-41b7-8edb-11c1cf57cd2d]\n",
      "└ @ Base loading.jl:1423\n"
     ]
    }
   ],
   "source": [
    "using Yao, FLOYao"
   ]
  },
  {
   "cell_type": "markdown",
   "id": "343ff0b8-8a9d-4581-aa05-1cd922e9e78f",
   "metadata": {},
   "source": [
    "then build a (here somewhat arbitrary) circuit consisting only of [FLO gates](#Background:-Fermionic-linear-optics-circuits)"
   ]
  },
  {
   "cell_type": "code",
   "execution_count": 13,
   "id": "1130f211-1db6-4fa9-ad08-645b05dfaeb9",
   "metadata": {},
   "outputs": [
    {
     "data": {
      "text/plain": [
       "\u001b[36mnqubits: 4\u001b[39m\n",
       "\u001b[34m\u001b[1mchain\u001b[22m\u001b[39m\n",
       "├─ \u001b[36m\u001b[1mput on (\u001b[22m\u001b[39m\u001b[36m\u001b[1m3\u001b[22m\u001b[39m\u001b[36m\u001b[1m)\u001b[22m\u001b[39m\n",
       "│  └─ rot(Z, 0.5)\n",
       "├─ rot(\u001b[36mnqubits: 4\u001b[39m\n",
       "\u001b[36m\u001b[1mkron\u001b[22m\u001b[39m\n",
       "├─ \u001b[37m\u001b[1m1\u001b[22m\u001b[39m=>X\n",
       "└─ \u001b[37m\u001b[1m2\u001b[22m\u001b[39m=>X, 0.39269908169872414)\n",
       "├─ rot(\u001b[36mnqubits: 4\u001b[39m\n",
       "\u001b[36m\u001b[1mkron\u001b[22m\u001b[39m\n",
       "├─ \u001b[37m\u001b[1m2\u001b[22m\u001b[39m=>X\n",
       "├─ \u001b[37m\u001b[1m3\u001b[22m\u001b[39m=>Z\n",
       "└─ \u001b[37m\u001b[1m4\u001b[22m\u001b[39m=>X, 0.39269908169872414)\n",
       "├─ \u001b[36m\u001b[1mput on (\u001b[22m\u001b[39m\u001b[36m\u001b[1m3\u001b[22m\u001b[39m\u001b[36m\u001b[1m)\u001b[22m\u001b[39m\n",
       "│  └─ rot(Z, 0.5)\n",
       "└─ \u001b[36m\u001b[1mput on (\u001b[22m\u001b[39m\u001b[36m\u001b[1m1\u001b[22m\u001b[39m\u001b[36m\u001b[1m)\u001b[22m\u001b[39m\n",
       "   └─ Z\n"
      ]
     },
     "execution_count": 13,
     "metadata": {},
     "output_type": "execute_result"
    }
   ],
   "source": [
    "nq = 4\n",
    "θ = π/8\n",
    "circuit = chain(nq)\n",
    "\n",
    "push!(circuit, put(nq, 3=>Rz(0.5)))\n",
    "\n",
    "xxg1 = kron(nq, 1 => X, 2 => X)\n",
    "rg = rot(xxg1, θ)\n",
    "push!(circuit, rg)  \n",
    "\n",
    "xxg2 = kron(nq, 2 => X, 3 => Z, 4 => X)\n",
    "rg = rot(xxg2, θ)\n",
    "push!(circuit, rg)  \n",
    "push!(circuit, put(nq, 3=>Rz(0.5)))\n",
    "push!(circuit, put(nq, 1=>Z))\n",
    "\n",
    "xxg3 = kron(nq, 2 => X, 3 => X)\n",
    "rg = rot(xxg3, θ)\n",
    "\n",
    "circuit"
   ]
  },
  {
   "cell_type": "markdown",
   "id": "62eae1ed-186f-44ed-af7f-600bd9f6c717",
   "metadata": {},
   "source": [
    "and define an observable that is a sum of squares of Majorana operators"
   ]
  },
  {
   "cell_type": "code",
   "execution_count": 14,
   "id": "34739274-4f99-4489-b91e-ea7163c9afe6",
   "metadata": {},
   "outputs": [
    {
     "data": {
      "text/plain": [
       "\u001b[36mnqubits: 4\u001b[39m\n",
       "\u001b[31m\u001b[1m+\u001b[22m\u001b[39m\n",
       "├─ \u001b[36m\u001b[1mkron\u001b[22m\u001b[39m\n",
       "│  ├─ \u001b[37m\u001b[1m1\u001b[22m\u001b[39m=>X\n",
       "│  └─ \u001b[37m\u001b[1m2\u001b[22m\u001b[39m=>X\n",
       "├─ \u001b[36m\u001b[1mkron\u001b[22m\u001b[39m\n",
       "│  ├─ \u001b[37m\u001b[1m2\u001b[22m\u001b[39m=>X\n",
       "│  ├─ \u001b[37m\u001b[1m3\u001b[22m\u001b[39m=>Z\n",
       "│  └─ \u001b[37m\u001b[1m4\u001b[22m\u001b[39m=>X\n",
       "├─ \u001b[36m\u001b[1mkron\u001b[22m\u001b[39m\n",
       "│  ├─ \u001b[37m\u001b[1m2\u001b[22m\u001b[39m=>X\n",
       "│  └─ \u001b[37m\u001b[1m3\u001b[22m\u001b[39m=>X\n",
       "├─ \u001b[36m\u001b[1mkron\u001b[22m\u001b[39m\n",
       "│  └─ \u001b[37m\u001b[1m2\u001b[22m\u001b[39m=>Z\n",
       "└─ \u001b[36m\u001b[1mkron\u001b[22m\u001b[39m\n",
       "   └─ \u001b[37m\u001b[1m3\u001b[22m\u001b[39m=>Z\n"
      ]
     },
     "execution_count": 14,
     "metadata": {},
     "output_type": "execute_result"
    }
   ],
   "source": [
    "hamiltonian = xxg1 + xxg2 + xxg3 + kron(nq, 2=>Z) + kron(nq, 3=>Z)"
   ]
  },
  {
   "cell_type": "markdown",
   "id": "14ec3fca-b095-4492-b9cd-f88171f247d8",
   "metadata": {},
   "source": [
    "and finally create a register in the computational zero state via"
   ]
  },
  {
   "cell_type": "code",
   "execution_count": 18,
   "id": "a5f9e58d-2968-4acf-be89-97058d5006ab",
   "metadata": {},
   "outputs": [
    {
     "data": {
      "text/plain": [
       "MajoranaReg{Float64} with 4 qubits:\n",
       "8×8 Matrix{Float64}:\n",
       " 1.0  0.0  0.0  0.0  0.0  0.0  0.0  0.0\n",
       " 0.0  1.0  0.0  0.0  0.0  0.0  0.0  0.0\n",
       " 0.0  0.0  1.0  0.0  0.0  0.0  0.0  0.0\n",
       " 0.0  0.0  0.0  1.0  0.0  0.0  0.0  0.0\n",
       " 0.0  0.0  0.0  0.0  1.0  0.0  0.0  0.0\n",
       " 0.0  0.0  0.0  0.0  0.0  1.0  0.0  0.0\n",
       " 0.0  0.0  0.0  0.0  0.0  0.0  1.0  0.0\n",
       " 0.0  0.0  0.0  0.0  0.0  0.0  0.0  1.0"
      ]
     },
     "execution_count": 18,
     "metadata": {},
     "output_type": "execute_result"
    }
   ],
   "source": [
    "mreg = FLOYao.zero_state(nq)"
   ]
  },
  {
   "cell_type": "markdown",
   "id": "740d4281-db5e-4f86-b1fc-bfc431355a5b",
   "metadata": {},
   "source": [
    "Other options to create registers are `FLOYao.product_state` and `FLOYao.zero_state_like`. `FLOYao.rand_state` is not implemented so far, because to do so I would need to rely on yet another dependency to create random orthogonal matrices.\n",
    "\n",
    "Applying the circuit to the register works then exactly the same way as for a normal `ArrayReg` register:"
   ]
  },
  {
   "cell_type": "code",
   "execution_count": 44,
   "id": "aec951d2-c39a-4063-ad0f-d36afba50f32",
   "metadata": {},
   "outputs": [
    {
     "data": {
      "text/plain": [
       "MajoranaReg{Float64} with 4 qubits:\n",
       "8×8 Matrix{Float64}:\n",
       " -1.0  -0.0       -0.0       -0.0       -0.0       -0.0       -0.0       -0.0\n",
       " -0.0  -0.92388    0.382683  -0.0       -0.0       -0.0       -0.0       -0.0\n",
       "  0.0   0.382683   0.92388    0.0        0.0        0.0        0.0        0.0\n",
       "  0.0   0.0        0.0        0.92388    0.0        0.0        0.382683   0.0\n",
       "  0.0   0.0        0.0        0.0        0.540302   0.841471   0.0        0.0\n",
       "  0.0   0.0        0.0        0.0       -0.841471   0.540302   0.0        0.0\n",
       "  0.0   0.0        0.0       -0.382683   0.0        0.0        0.92388    0.0\n",
       "  0.0   0.0        0.0        0.0        0.0        0.0        0.0        1.0"
      ]
     },
     "execution_count": 44,
     "metadata": {},
     "output_type": "execute_result"
    }
   ],
   "source": [
    "apply(mreg, circuit)"
   ]
  },
  {
   "cell_type": "markdown",
   "id": "005be117-043d-4577-8131-f4199407618f",
   "metadata": {},
   "source": [
    "and the same goes for expectation values of observables"
   ]
  },
  {
   "cell_type": "code",
   "execution_count": 45,
   "id": "27ce6def-141a-433f-8013-d94144f1f0db",
   "metadata": {},
   "outputs": [
    {
     "data": {
      "text/plain": [
       "1.8535533905932737"
      ]
     },
     "execution_count": 45,
     "metadata": {},
     "output_type": "execute_result"
    }
   ],
   "source": [
    "expval = expect(hamiltonian, mreg => circuit)"
   ]
  },
  {
   "cell_type": "markdown",
   "id": "5805fcd2-5cb4-4b26-8ea4-52faf584a8ec",
   "metadata": {},
   "source": [
    "or even gradients of these expectation values with respect to the circuit parameters"
   ]
  },
  {
   "cell_type": "code",
   "execution_count": 46,
   "id": "fbc7a38d-fb32-4eea-8f18-1472a1a4a798",
   "metadata": {},
   "outputs": [
    {
     "data": {
      "text/plain": [
       "MajoranaReg{Float64}(4) => [0.0, -0.3535533905932738, -0.3535533905932738, 0.0]"
      ]
     },
     "execution_count": 46,
     "metadata": {},
     "output_type": "execute_result"
    }
   ],
   "source": [
    "inδ, paramsδ = expect'(hamiltonian, mreg => circuit)"
   ]
  },
  {
   "cell_type": "markdown",
   "id": "fb1539dc-f61c-46d0-b688-beff5a068005",
   "metadata": {},
   "source": [
    "Just to check that this is all consistent with running a full wavefunction simulation, we can apply the same circuit on an `ArrayReg` and compare the expectation values and gradients"
   ]
  },
  {
   "cell_type": "code",
   "execution_count": 47,
   "id": "9c600914-7638-4f7d-bca6-99d429243762",
   "metadata": {},
   "outputs": [
    {
     "data": {
      "text/plain": [
       "true"
      ]
     },
     "execution_count": 47,
     "metadata": {},
     "output_type": "execute_result"
    }
   ],
   "source": [
    "areg = zero_state(nq)\n",
    "expval_full = expect(hamiltonian, areg => circuit)\n",
    "expval_full ≈ expval"
   ]
  },
  {
   "cell_type": "code",
   "execution_count": 48,
   "id": "da6ce01b-7de4-488f-9cc1-a09224eaaa12",
   "metadata": {},
   "outputs": [
    {
     "data": {
      "text/plain": [
       "true"
      ]
     },
     "execution_count": 48,
     "metadata": {},
     "output_type": "execute_result"
    }
   ],
   "source": [
    "inδ_full, paramsδ_full = expect'(hamiltonian, areg => circuit)\n",
    "paramsδ ≈ paramsδ_full"
   ]
  },
  {
   "cell_type": "markdown",
   "id": "f9ef1a39-d42b-4072-8b70-b995142c6cf9",
   "metadata": {
    "jp-MarkdownHeadingCollapsed": true,
    "tags": []
   },
   "source": [
    "## List of supported gates\n",
    "\n",
    "The following gates are FLO gates and supported by `FLOYao.jl`:\n",
    "\n",
    "|  Gate | Comment |\n",
    "|-------|---------|\n",
    "|  `XGate`   | Together with `Y` the only gate that does not preserve fermionic parity |\n",
    "|  `YGate`   |   See above  |\n",
    "|  `ZGate`   |         |\n",
    "|  `RotationGate{⋯,⋯,YGate}`  | The only single qubit rotation gate since $R_x(θ)γ_i R_x(-θ)$ is not a linear combination of Majorana operators for all Majorana operators. Similar for $R_y$ |\n",
    "| `PauliKronBlock` | A kronecker product of Pauli operators s.t. that first and last operator are either $X$ or $Y$ and all operators in between are $Z$.  |\n",
    "| `RotationGate{⋯,⋯,PauliKronBlock}` | A rotation gate with generator as in the last line. |\n",
    "| `AbstractMatrix` | Unless the gate type is already explicitely implemented or know to not be a FLO gate, `FLOYao` will try to automatically convert the gate matrix in the qubit basis to a matrix in the Majorana basis. But note that this is fairly slow (although still poly-time instead of exp-time) |\n",
    "\n",
    "\n",
    "If you want to add support to your own gates, read [this section](#Adding-support-for-your-own-gates) to learn how to do that."
   ]
  },
  {
   "cell_type": "markdown",
   "id": "a55a6cea-93b4-4fb7-a3c5-3fc81863f2e5",
   "metadata": {
    "tags": []
   },
   "source": [
    "## Example: VQE for the Transverse Field Ising model\n",
    "\n",
    "For a more realistic use case, we have a look at VQE for the Transverse Field Ising model on a line whose Hamiltonian is given as \n",
    "$$\n",
    "    H = J ∑_i^{L-1} X_i X_{i+1} + h ∑_i^L Z_i = U + T.\n",
    "$$\n",
    "As Ansatz circuits we use the Hamiltonian Variational Ansatz\n",
    "$$\n",
    "    U(\\vec θ) = ∏_i^p e^{-iθ_{i,U} U} e^{-iθ_{i,T} T} \n",
    "$$\n",
    "with the initial state being the groundstate of the TFIM at $J = 0$, so $|ψ_i⟩ = |0⋯0⟩$"
   ]
  },
  {
   "cell_type": "code",
   "execution_count": 50,
   "id": "cad722cb-da00-48e4-943f-bc5dbe141284",
   "metadata": {},
   "outputs": [],
   "source": [
    "L = 100 # this is far beyond what is possible with a full wavefunction simulation\n",
    "J = 0.5\n",
    "h = -1.\n",
    "p = 10\n",
    "\n",
    "U = map(1:L-1) do i\n",
    "    J * kron(L, i => X, i+1 => X)\n",
    "end |> sum\n",
    "\n",
    "T = map(1:L) do i\n",
    "    h * kron(L, i => Z)\n",
    "end |> sum\n",
    "\n",
    "hamiltonian = T + U\n",
    "\n",
    "circuit = chain(L)\n",
    "for _ in 1:p\n",
    "    for i in 1:L-1\n",
    "        push!(circuit, rot(kron(L, i => X, i+1 => X), 0.))\n",
    "    end\n",
    "    for i in 1:L\n",
    "        push!(circuit, put(L, i => Rz(0.)))\n",
    "    end\n",
    "end\n",
    "nparams = nparameters(circuit)\n",
    "dispatch!(circuit, rand(nparams) ./ 100)\n",
    "\n",
    "ψ_i = FLOYao.zero_state(L);"
   ]
  },
  {
   "cell_type": "markdown",
   "id": "0809f1a7-8578-4df7-a5e7-735b3802ca75",
   "metadata": {},
   "source": [
    "now that we defined the hamiltonian, the ansatz circuit and the initial state we can perform\n",
    "simple gradient descent on the energy expectation value to find an approximation to the\n",
    "groundstate of $H$:"
   ]
  },
  {
   "cell_type": "code",
   "execution_count": 51,
   "id": "0e041550-e1e0-4df3-a671-013952b2687b",
   "metadata": {},
   "outputs": [
    {
     "name": "stdout",
     "output_type": "stream",
     "text": [
      "Iteration 1, energy = -99.89035562669795\n",
      "Iteration 2, energy = -99.97636758476067\n",
      "Iteration 3, energy = -100.00651404796758\n",
      "Iteration 4, energy = -100.01907827842881\n",
      "Iteration 5, energy = -100.02637787253676\n",
      "Iteration 6, energy = -100.03241229504256\n",
      "Iteration 7, energy = -100.03853006516084\n",
      "Iteration 8, energy = -100.04524251891571\n",
      "Iteration 9, energy = -100.05280464985711\n",
      "Iteration 10, energy = -100.06140219187822\n",
      "Iteration 11, energy = -100.07121310894155\n",
      "Iteration 12, energy = -100.0824291396618\n",
      "Iteration 13, energy = -100.09526474609267\n",
      "Iteration 14, energy = -100.10996219044529\n",
      "Iteration 15, energy = -100.12679550292142\n",
      "Iteration 16, energy = -100.14607418342875\n",
      "Iteration 17, energy = -100.16814684459939\n",
      "Iteration 18, energy = -100.1934047724129\n",
      "Iteration 19, energy = -100.22228527149565\n",
      "Iteration 20, energy = -100.2552745838931\n",
      "Iteration 21, energy = -100.29291009346443\n",
      "Iteration 22, energy = -100.33578144425157\n",
      "Iteration 23, energy = -100.38453010936321\n",
      "Iteration 24, energy = -100.43984685077092\n",
      "Iteration 25, energy = -100.50246641775082\n",
      "Iteration 26, energy = -100.57315875512677\n",
      "Iteration 27, energy = -100.65271595006712\n",
      "Iteration 28, energy = -100.74193416187036\n",
      "Iteration 29, energy = -100.84158988198854\n",
      "Iteration 30, energy = -100.9524100933664\n",
      "Iteration 31, energy = -101.07503626914385\n",
      "Iteration 32, energy = -101.20998269198945\n",
      "Iteration 33, energy = -101.35759028904494\n",
      "Iteration 34, energy = -101.51797803567105\n",
      "Iteration 35, energy = -101.69099491516708\n",
      "Iteration 36, energy = -101.87617631590835\n",
      "Iteration 37, energy = -102.0727094427932\n",
      "Iteration 38, energy = -102.27941263016633\n",
      "Iteration 39, energy = -102.49473318670942\n",
      "Iteration 40, energy = -102.71676744674654\n",
      "Iteration 41, energy = -102.94330501348692\n",
      "Iteration 42, energy = -103.17189686388943\n",
      "Iteration 43, energy = -103.3999443025414\n",
      "Iteration 44, energy = -103.62480309446354\n",
      "Iteration 45, energy = -103.84389492993459\n",
      "Iteration 46, energy = -104.05481710059172\n",
      "Iteration 47, energy = -104.25544117858094\n",
      "Iteration 48, energy = -104.44399265322737\n",
      "Iteration 49, energy = -104.61910570925373\n",
      "Iteration 50, energy = -104.7798502350749\n",
      "Iteration 51, energy = -104.92573122352715\n",
      "Iteration 52, energy = -105.05666347334625\n",
      "Iteration 53, energy = -105.17292653918953\n",
      "Iteration 54, energy = -105.27510601735457\n",
      "Iteration 55, energy = -105.3640274933906\n",
      "Iteration 56, energy = -105.44068896869226\n",
      "Iteration 57, energy = -105.50619656266201\n",
      "Iteration 58, energy = -105.56170700815375\n",
      "Iteration 59, energy = -105.60837913961558\n",
      "Iteration 60, energy = -105.64733537486187\n",
      "Iteration 61, energy = -105.67963320792994\n",
      "Iteration 62, energy = -105.70624600210766\n",
      "Iteration 63, energy = -105.72805189809928\n",
      "Iteration 64, energy = -105.74582940481879\n",
      "Iteration 65, energy = -105.76025817698078\n",
      "Iteration 66, energy = -105.7719235563464\n",
      "Iteration 67, energy = -105.78132361510514\n",
      "Iteration 68, energy = -105.78887764899491\n",
      "Iteration 69, energy = -105.7949352912724\n",
      "Iteration 70, energy = -105.79978563267156\n",
      "Iteration 71, energy = -105.80366592199258\n",
      "Iteration 72, energy = -105.80676957939738\n",
      "Iteration 73, energy = -105.80925337799441\n",
      "Iteration 74, energy = -105.8112437408514\n",
      "Iteration 75, energy = -105.81284216436633\n",
      "Iteration 76, energy = -105.81412982007566\n",
      "Iteration 77, energy = -105.81517141066485\n",
      "Iteration 78, energy = -105.81601836683802\n",
      "Iteration 79, energy = -105.81671147377631\n",
      "Iteration 80, energy = -105.81728301227137\n",
      "Iteration 81, energy = -105.81775849263921\n",
      "Iteration 82, energy = -105.81815805087192\n",
      "Iteration 83, energy = -105.81849756734506\n",
      "Iteration 84, energy = -105.81878955947788\n",
      "Iteration 85, energy = -105.81904389149629\n",
      "Iteration 86, energy = -105.8192683370786\n",
      "Iteration 87, energy = -105.81946902425577\n",
      "Iteration 88, energy = -105.81965078647171\n",
      "Iteration 89, energy = -105.8198174391284\n",
      "Iteration 90, energy = -105.8199719971371\n",
      "Iteration 91, energy = -105.82011684588488\n",
      "Iteration 92, energy = -105.82025387549302\n",
      "Iteration 93, energy = -105.82038458619942\n",
      "Iteration 94, energy = -105.82051017105871\n",
      "Iteration 95, energy = -105.82063158084341\n",
      "Iteration 96, energy = -105.82074957498997\n",
      "Iteration 97, energy = -105.8208647616091\n",
      "Iteration 98, energy = -105.82097762892917\n",
      "Iteration 99, energy = -105.8210885700286\n",
      "Iteration 100, energy = -105.82119790231117\n"
     ]
    }
   ],
   "source": [
    "iterations = 100\n",
    "γ = 2e-2\n",
    "\n",
    "for i in 1:iterations\n",
    "    _, grad = expect'(hamiltonian, ψ_i => circuit)\n",
    "    dispatch!(-, circuit, γ * grad)\n",
    "    println(\"Iteration $i, energy = $(expect(hamiltonian, ψ_i => circuit))\")\n",
    "end"
   ]
  },
  {
   "cell_type": "markdown",
   "id": "c0669619-9d7c-49a5-a532-3d2cbe9ec80c",
   "metadata": {
    "tags": []
   },
   "source": [
    "## Adding support for your own gates\n",
    "\n",
    "Natively, the only FLO gates that come already shipped with `Yao.jl` are the gates listed [here](#List-of-supported-gates). But there are many more FLO gates, one being for example the `FSWAP` gate which swaps to qubits while making sure to preserve the fermionic commutation relations"
   ]
  },
  {
   "cell_type": "code",
   "execution_count": 52,
   "id": "e64530c6-b408-44df-8311-6e1da1ff7766",
   "metadata": {},
   "outputs": [],
   "source": [
    "@const_gate FSWAP::ComplexF64 = [1 0 0 0; 0 0 1 0; 0 1 0 0; 0 0 0 -1]"
   ]
  },
  {
   "cell_type": "markdown",
   "id": "4f4c5126-9764-459f-8bc6-63f8392f3696",
   "metadata": {},
   "source": [
    "If a gate defines a matrix representation, as we just did for the `FSWAP`gate, `FLOYao` supports them out of the box by manually checking if they are a FLO gate and then computing its matrix representation in the Majorana basis. But this method is fairly slow–though still poly-time and memory–compared to directly implementing `unsafe_apply!(::MajoranaReg, ::YourBlock)` and  `instruct!(::MajoranaReg, ::YourBlock)` and will warn you accordingly"
   ]
  },
  {
   "cell_type": "code",
   "execution_count": 54,
   "id": "43973207-bab2-4877-baec-8ae600ea299b",
   "metadata": {},
   "outputs": [
    {
     "name": "stderr",
     "output_type": "stream",
     "text": [
      "┌ Warning: Calling manual instruct!(MajoranaReg{Float64}(4), ComplexF64[1.0 + 0.0im 0.0 + 0.0im 0.0 + 0.0im 0.0 + 0.0im; 0.0 + 0.0im 0.0 + 0.0im 1.0 + 0.0im 0.0 + 0.0im; 0.0 + 0.0im 1.0 + 0.0im 0.0 + 0.0im 0.0 + 0.0im; 0.0 + 0.0im 0.0 + 0.0im 0.0 + 0.0im -1.0 + 0.0im], (1, 2)).\n",
      "│ You can greatly speed up your FLO gates by exactly implementing unsafe_apply!()\n",
      "│ and instruct!() for them. See FLOYao/src/instruct.jl for how to do that.\n",
      "└ @ FLOYao /home/yc20910/PhD/Work/code/FLOYao/src/instruct.jl:56\n"
     ]
    },
    {
     "data": {
      "text/plain": [
       "MajoranaReg{Float64} with 4 qubits:\n",
       "8×8 Matrix{Float64}:\n",
       " -2.40901e-16  -2.94663e-16  -1.0          …   0.0   0.0   0.0   0.0\n",
       "  3.57633e-16  -4.32975e-16  -1.0529e-16       0.0   0.0   0.0   0.0\n",
       " -1.0           1.20422e-17   2.61492e-16      0.0   0.0   0.0   0.0\n",
       " -7.05281e-17  -1.0           2.65282e-16      0.0   0.0   0.0   0.0\n",
       " -0.0          -0.0          -0.0             -1.0  -0.0  -0.0  -0.0\n",
       " -0.0          -0.0          -0.0          …  -0.0  -1.0  -0.0  -0.0\n",
       " -0.0          -0.0          -0.0             -0.0  -0.0  -1.0  -0.0\n",
       " -0.0          -0.0          -0.0             -0.0  -0.0  -0.0  -1.0"
      ]
     },
     "execution_count": 54,
     "metadata": {},
     "output_type": "execute_result"
    }
   ],
   "source": [
    "nq = 4\n",
    "fswap = put(nq, (1, 2) => FSWAP)\n",
    "mreg = FLOYao.zero_state(nq)\n",
    "mreg |> put(nq, 2 => X)\n",
    "mreg |> fswap"
   ]
  },
  {
   "cell_type": "markdown",
   "id": "174bea49-2e1d-484e-b708-9f703e33aac2",
   "metadata": {},
   "source": [
    "Now, before we fix these warnings, let's see how long the current implementation takes:"
   ]
  },
  {
   "cell_type": "code",
   "execution_count": 55,
   "id": "b85e71ec-6bdf-4d73-aece-07c23651b269",
   "metadata": {},
   "outputs": [
    {
     "data": {
      "text/plain": [
       "BenchmarkTools.Trial: 7275 samples with 1 evaluation.\n",
       " Range \u001b[90m(\u001b[39m\u001b[36m\u001b[1mmin\u001b[22m\u001b[39m … \u001b[35mmax\u001b[39m\u001b[90m):  \u001b[39m\u001b[36m\u001b[1m637.276 μs\u001b[22m\u001b[39m … \u001b[35m  4.133 ms\u001b[39m  \u001b[90m┊\u001b[39m GC \u001b[90m(\u001b[39mmin … max\u001b[90m): \u001b[39m0.00% … 79.28%\n",
       " Time  \u001b[90m(\u001b[39m\u001b[34m\u001b[1mmedian\u001b[22m\u001b[39m\u001b[90m):     \u001b[39m\u001b[34m\u001b[1m648.753 μs               \u001b[22m\u001b[39m\u001b[90m┊\u001b[39m GC \u001b[90m(\u001b[39mmedian\u001b[90m):    \u001b[39m0.00%\n",
       " Time  \u001b[90m(\u001b[39m\u001b[32m\u001b[1mmean\u001b[22m\u001b[39m ± \u001b[32mσ\u001b[39m\u001b[90m):   \u001b[39m\u001b[32m\u001b[1m682.332 μs\u001b[22m\u001b[39m ± \u001b[32m256.195 μs\u001b[39m  \u001b[90m┊\u001b[39m GC \u001b[90m(\u001b[39mmean ± σ\u001b[90m):  \u001b[39m3.03% ±  6.71%\n",
       "\n",
       "  \u001b[39m▇\u001b[34m█\u001b[39m\u001b[39m▆\u001b[39m▄\u001b[39m▄\u001b[32m▃\u001b[39m\u001b[39m▂\u001b[39m▁\u001b[39m \u001b[39m▁\u001b[39m \u001b[39m \u001b[39m \u001b[39m \u001b[39m \u001b[39m \u001b[39m \u001b[39m \u001b[39m \u001b[39m \u001b[39m \u001b[39m \u001b[39m \u001b[39m \u001b[39m \u001b[39m \u001b[39m \u001b[39m \u001b[39m \u001b[39m \u001b[39m \u001b[39m \u001b[39m \u001b[39m \u001b[39m \u001b[39m \u001b[39m \u001b[39m \u001b[39m \u001b[39m \u001b[39m \u001b[39m \u001b[39m \u001b[39m \u001b[39m \u001b[39m \u001b[39m \u001b[39m \u001b[39m \u001b[39m \u001b[39m \u001b[39m \u001b[39m \u001b[39m \u001b[39m \u001b[39m \u001b[39m \u001b[39m \u001b[39m \u001b[39m \u001b[39m \u001b[39m \u001b[39m▁\n",
       "  \u001b[39m█\u001b[34m█\u001b[39m\u001b[39m█\u001b[39m█\u001b[39m█\u001b[32m█\u001b[39m\u001b[39m█\u001b[39m█\u001b[39m█\u001b[39m█\u001b[39m▇\u001b[39m█\u001b[39m▇\u001b[39m▆\u001b[39m▅\u001b[39m▇\u001b[39m▇\u001b[39m▆\u001b[39m▅\u001b[39m▅\u001b[39m▅\u001b[39m▅\u001b[39m▃\u001b[39m▃\u001b[39m▄\u001b[39m▁\u001b[39m▁\u001b[39m▃\u001b[39m▃\u001b[39m▃\u001b[39m▄\u001b[39m▄\u001b[39m▃\u001b[39m▁\u001b[39m▄\u001b[39m▄\u001b[39m▄\u001b[39m▅\u001b[39m▃\u001b[39m▄\u001b[39m▄\u001b[39m▅\u001b[39m▁\u001b[39m▅\u001b[39m▁\u001b[39m▃\u001b[39m▃\u001b[39m▄\u001b[39m▃\u001b[39m▁\u001b[39m▃\u001b[39m▁\u001b[39m▁\u001b[39m▁\u001b[39m▁\u001b[39m▁\u001b[39m▅\u001b[39m▆\u001b[39m▆\u001b[39m▆\u001b[39m▆\u001b[39m \u001b[39m█\n",
       "  637 μs\u001b[90m        \u001b[39m\u001b[90mHistogram: \u001b[39m\u001b[90m\u001b[1mlog(\u001b[22m\u001b[39m\u001b[90mfrequency\u001b[39m\u001b[90m\u001b[1m)\u001b[22m\u001b[39m\u001b[90m by time\u001b[39m       1.14 ms \u001b[0m\u001b[1m<\u001b[22m\n",
       "\n",
       " Memory estimate\u001b[90m: \u001b[39m\u001b[33m339.19 KiB\u001b[39m, allocs estimate\u001b[90m: \u001b[39m\u001b[33m496\u001b[39m."
      ]
     },
     "execution_count": 55,
     "metadata": {},
     "output_type": "execute_result"
    }
   ],
   "source": [
    "using BenchmarkTools\n",
    "using Suppressor # we don't want to get all the warnings when benchmarking\n",
    "@benchmark @suppress apply!($mreg, $fswap)"
   ]
  },
  {
   "cell_type": "markdown",
   "id": "46dd1485-730c-456d-b674-6d98df6f89da",
   "metadata": {},
   "source": [
    "To find out what the matrix representation of the `FSWAP` gate in the Majorana basis is, it is easiest to retrace what is happening inside `instruct!(::MajoranaReg, ::AbstractMatrix, locs)`\n",
    "You can use"
   ]
  },
  {
   "cell_type": "code",
   "execution_count": 17,
   "id": "1584fc00-87bc-4776-8e0e-e87f0ac98897",
   "metadata": {},
   "outputs": [
    {
     "data": {
      "text/html": [
       "instruct!(reg::<b>MajoranaReg</b>, gate::<b>AbstractMatrix</b>, locs) in FLOYao at <a href=\"https://github.com/PhaseCraft/FLOYao.jl/tree/dfb8a6a3bb345ad686ec567cd8fdeb9f7fde796f//src/instruct.jl#L49\" target=\"_blank\">/home/janlukas/PhD/Work/code/FLOYao.jl/src/instruct.jl:49</a>"
      ],
      "text/plain": [
       "instruct!(reg::MajoranaReg, gate::AbstractMatrix, locs) in FLOYao at /home/janlukas/PhD/Work/code/FLOYao.jl/src/instruct.jl:49"
      ]
     },
     "execution_count": 17,
     "metadata": {},
     "output_type": "execute_result"
    }
   ],
   "source": [
    "@which instruct!(mreg, mat(FSWAP), (1,2))"
   ]
  },
  {
   "cell_type": "markdown",
   "id": "b2b7d4ce-5039-483d-8c55-7296b2efbb2e",
   "metadata": {},
   "source": [
    "to find the location of the corresponding code. Now let's copy-paste what we found there:"
   ]
  },
  {
   "cell_type": "code",
   "execution_count": 56,
   "id": "5f912e0a-7d53-4730-b728-e8c8afd26657",
   "metadata": {},
   "outputs": [
    {
     "data": {
      "text/plain": [
       "4×4 Matrix{Float64}:\n",
       " -2.40901e-16  -2.94663e-16  -1.0           2.35127e-16\n",
       "  3.57633e-16  -4.32975e-16  -1.0529e-16   -1.0\n",
       " -1.0           1.20422e-17   2.61492e-16  -2.81188e-16\n",
       " -7.05281e-17  -1.0           2.65282e-16   3.00191e-16"
      ]
     },
     "execution_count": 56,
     "metadata": {},
     "output_type": "execute_result"
    }
   ],
   "source": [
    "W = FLOYao.qubit2majoranaevolution(Matrix(fswap.content), fswap.locs)"
   ]
  },
  {
   "cell_type": "code",
   "execution_count": 57,
   "id": "74b90601-32da-41ff-8c26-47f4a2084543",
   "metadata": {},
   "outputs": [
    {
     "data": {
      "text/plain": [
       "1:4"
      ]
     },
     "execution_count": 57,
     "metadata": {},
     "output_type": "execute_result"
    }
   ],
   "source": [
    "matlocs = 2*(fswap.locs[1]-1)+1:2(fswap.locs[end])"
   ]
  },
  {
   "cell_type": "markdown",
   "id": "65683e91-5df7-4a69-903f-2a13d712fdcd",
   "metadata": {},
   "source": [
    "this matrix gets left-multiplied to the columns `1:4` in the last line of `FLOYao.majorana_unsafe_apply!(::MajoranaReg, ::PutBlock)`. So we can instead implement the action of an `FSWAP` gate on a `MajoranaReg` directly as follows:"
   ]
  },
  {
   "cell_type": "code",
   "execution_count": 58,
   "id": "5179694d-272e-44e5-96f3-dbb5a2f0fff8",
   "metadata": {},
   "outputs": [],
   "source": [
    "function YaoBlocks.unsafe_apply!(reg::MajoranaReg, b::PutBlock{2,2,FSWAPGate})\n",
    "    FLOYao.areconsecutive(b.locs) || throw(NonFLOException(\"FSWAP must act on consecutive qubits\"))\n",
    "    instruct!(reg, Val(:FSWAP), b.locs)\n",
    "end\n",
    "\n",
    "function Yao.instruct!(reg::MajoranaReg, ::Val{:FSWAP}, locs::Tuple)\n",
    "    i1, i2 = locs\n",
    "    ψ1, ψ2 = reg.state[2i1-1,:], reg.state[2i1,:]\n",
    "    ψ3, ψ4 = reg.state[2i2-1,:], reg.state[2i2,:]\n",
    "    reg.state[2i1-1,:] .=  .-ψ3\n",
    "    reg.state[2i1,:] .=  .-ψ4\n",
    "    reg.state[2i2-1,:] .=  .-ψ1\n",
    "    reg.state[2i2,:] .=  .-ψ2\n",
    "    return reg\n",
    "end"
   ]
  },
  {
   "cell_type": "code",
   "execution_count": 59,
   "id": "d91d6cc1-9fdd-4681-b60b-9665f0e570c0",
   "metadata": {},
   "outputs": [
    {
     "data": {
      "text/plain": [
       "BenchmarkTools.Trial: 10000 samples with 616 evaluations.\n",
       " Range \u001b[90m(\u001b[39m\u001b[36m\u001b[1mmin\u001b[22m\u001b[39m … \u001b[35mmax\u001b[39m\u001b[90m):  \u001b[39m\u001b[36m\u001b[1m177.058 ns\u001b[22m\u001b[39m … \u001b[35m  4.537 μs\u001b[39m  \u001b[90m┊\u001b[39m GC \u001b[90m(\u001b[39mmin … max\u001b[90m): \u001b[39m0.00% … 92.09%\n",
       " Time  \u001b[90m(\u001b[39m\u001b[34m\u001b[1mmedian\u001b[22m\u001b[39m\u001b[90m):     \u001b[39m\u001b[34m\u001b[1m199.846 ns               \u001b[22m\u001b[39m\u001b[90m┊\u001b[39m GC \u001b[90m(\u001b[39mmedian\u001b[90m):    \u001b[39m0.00%\n",
       " Time  \u001b[90m(\u001b[39m\u001b[32m\u001b[1mmean\u001b[22m\u001b[39m ± \u001b[32mσ\u001b[39m\u001b[90m):   \u001b[39m\u001b[32m\u001b[1m224.025 ns\u001b[22m\u001b[39m ± \u001b[32m255.727 ns\u001b[39m  \u001b[90m┊\u001b[39m GC \u001b[90m(\u001b[39mmean ± σ\u001b[90m):  \u001b[39m9.27% ±  7.70%\n",
       "\n",
       "  \u001b[39m \u001b[39m▁\u001b[39m \u001b[39m \u001b[39m \u001b[39m \u001b[34m█\u001b[39m\u001b[39m \u001b[39m \u001b[39m \u001b[39m \u001b[39m \u001b[39m \u001b[32m \u001b[39m\u001b[39m \u001b[39m \u001b[39m \u001b[39m \u001b[39m \u001b[39m \u001b[39m \u001b[39m \u001b[39m \u001b[39m \u001b[39m \u001b[39m \u001b[39m \u001b[39m \u001b[39m \u001b[39m \u001b[39m \u001b[39m \u001b[39m \u001b[39m \u001b[39m \u001b[39m \u001b[39m \u001b[39m \u001b[39m \u001b[39m \u001b[39m \u001b[39m \u001b[39m \u001b[39m \u001b[39m \u001b[39m \u001b[39m \u001b[39m \u001b[39m \u001b[39m \u001b[39m \u001b[39m \u001b[39m \u001b[39m \u001b[39m \u001b[39m \u001b[39m \u001b[39m \u001b[39m \u001b[39m \u001b[39m \u001b[39m \u001b[39m \n",
       "  \u001b[39m▂\u001b[39m█\u001b[39m▆\u001b[39m█\u001b[39m█\u001b[39m█\u001b[34m█\u001b[39m\u001b[39m█\u001b[39m▆\u001b[39m█\u001b[39m▅\u001b[39m▃\u001b[39m▃\u001b[32m▃\u001b[39m\u001b[39m▂\u001b[39m▂\u001b[39m▂\u001b[39m▂\u001b[39m▂\u001b[39m▂\u001b[39m▂\u001b[39m▂\u001b[39m▂\u001b[39m▂\u001b[39m▂\u001b[39m▂\u001b[39m▂\u001b[39m▂\u001b[39m▂\u001b[39m▂\u001b[39m▁\u001b[39m▂\u001b[39m▂\u001b[39m▂\u001b[39m▂\u001b[39m▂\u001b[39m▂\u001b[39m▂\u001b[39m▂\u001b[39m▂\u001b[39m▂\u001b[39m▂\u001b[39m▂\u001b[39m▂\u001b[39m▂\u001b[39m▂\u001b[39m▂\u001b[39m▂\u001b[39m▂\u001b[39m▂\u001b[39m▂\u001b[39m▂\u001b[39m▂\u001b[39m▂\u001b[39m▂\u001b[39m▂\u001b[39m▂\u001b[39m▂\u001b[39m▂\u001b[39m▂\u001b[39m▂\u001b[39m \u001b[39m▃\n",
       "  177 ns\u001b[90m           Histogram: frequency by time\u001b[39m          392 ns \u001b[0m\u001b[1m<\u001b[22m\n",
       "\n",
       " Memory estimate\u001b[90m: \u001b[39m\u001b[33m512 bytes\u001b[39m, allocs estimate\u001b[90m: \u001b[39m\u001b[33m4\u001b[39m."
      ]
     },
     "execution_count": 59,
     "metadata": {},
     "output_type": "execute_result"
    }
   ],
   "source": [
    "@benchmark apply!($mreg, $fswap)"
   ]
  },
  {
   "cell_type": "markdown",
   "id": "b1d786b7-32f5-437e-93af-2feff22324c8",
   "metadata": {},
   "source": [
    "Now, that is quite a significant speedup!"
   ]
  },
  {
   "cell_type": "markdown",
   "id": "71fb3c5e-51b4-4e2d-9504-be2646256f42",
   "metadata": {},
   "source": [
    "## Background: Fermionic linear optics circuits\n",
    "\n",
    "This section is here, more to fix the convention of\n",
    "[Jordan-Wigner transform](https://en.wikipedia.org/wiki/Jordan%E2%80%93Wigner_transformation)\n",
    "and [Majorana operators](https://en.wikipedia.org/wiki/Majorana_fermion) that we use here,\n",
    "and less to explain the full theory behind those. For the latter, we, once again, recommend [Classical simulation of noninteracting-fermion quantum circuits](https://arxiv.org/abs/quant-ph/0108010).\n",
    "\n",
    "We define the Majorana operators $γ_i$ via \n",
    "$$\n",
    "    γ_{2i-1} = ∏_{j=1}^{i-1} (-Z_j) X_i\n",
    "$$\n",
    "and\n",
    "$$\n",
    "    γ_{2i} = ∏_{j=1}^{i-1} (-Z_j) Y_i.\n",
    "$$\n",
    "This implies the normal fermionic creation and annihilation operators are given by\n",
    "$$\n",
    "    c_j = \\frac{1}{2} (γ_{2j-1} + iγ_{2j})\n",
    "    \\quad \\textrm{and} \\quad\n",
    "    c_j^† = \\frac{1}{2} (γ_{2j-1} - iγ_{2j})\n",
    "$$\n",
    "and products of two Majorana operators are of the form\n",
    "$$\n",
    "    σ_i \\left(∏_{i<j<k} Z_k \\right) σ_k\n",
    "    \\quad \\textrm{or} \\quad\n",
    "    Z_i\n",
    "$$\n",
    "with $σ_i, σ_k ∈ \\{X, Y\\}$.\n",
    "\n",
    "Any unitary that takes all Majorana operators to a linear combination of Majorana operators\n",
    "under conjugation, i.e. that satisfies\n",
    "$$\n",
    "    U γ_i U^† = R_i^j γ_j\n",
    "$$\n",
    "with some $R ∈ O(2n)$ is a FLO unitary. In particular, if a unitary is of the form \n",
    "$$\n",
    "    U = e^{-iθH}\n",
    "$$\n",
    "with \n",
    "$$\n",
    "    H = \\frac{i}{4} \\sum_{i,j} H^{ij} γ_i γ_j\n",
    "$$\n",
    "it is a FLO unitary with even $R ∈ SO(2n)$.\n",
    "\n",
    "But note, that not all FLO unitaries are of that form. For example $X_i$ is also a FLO \n",
    "gate since it either commutes or anti-commutes with all Majorana operators, but the associated\n",
    "matrix $R$ always has determinant $-1$."
   ]
  },
  {
   "cell_type": "markdown",
   "id": "4f8a9332-a43d-40d0-bb77-8cbfe2c28d34",
   "metadata": {},
   "source": [
    "Calculating the expectation values of hamiltonians like the one above when evolving the \n",
    "vacuum state with FLO circuits is efficiently possible. First evolve the \n",
    "Hamiltonian in the Heisenber picture to\n",
    "$$\n",
    "    UHU^† = \\frac{i}{4} R^{m}_{i} R^{n}_{j} H^{ij} γ_{m} γ_{n} \n",
    "           =: \\frac{i}{4} \\tilde H^{mn} γ_{m} γ_{n}.\n",
    "$$\n",
    "and then compute the expectation value\n",
    "$$\n",
    "\\begin{aligned}\n",
    "    ⟨ψ|UHU^†|ψ⟩ &= \\frac{i}{4} \\tilde H^{mn} ⟨Ω|γ_{m} γ_{n}|Ω⟩ \\\\\n",
    "                &= - \\frac{1}{2} ∑_{i} \\tilde H^{2i-1,2i} \\\\\n",
    "                &= - \\frac{1}{2} ∑_{i>k} R^{2i-1}_{m} R^{2i}_{n} H^{mn} \\\\\n",
    "\\end{aligned}.\n",
    "$$\n",
    "From the first to second line one needs to carefully think which of the \n",
    "$⟨Ω|γ_{m} γ_{n}|Ω⟩$ are zero and which cancel each other out due to the anti-symmetry of $H^{mn}$."
   ]
  },
  {
   "cell_type": "markdown",
   "id": "8c190635-0c1a-42bc-bea7-60c6fc05a85c",
   "metadata": {
    "tags": []
   },
   "source": [
    "## Known restrictions\n",
    "\n",
    "###  Expectation values of higher order observables\n",
    "So far, `FLOYao` only supports expectation values of observables that are sums of squares of \n",
    "Majorana operators. But in general, one can use [Wick's theorem](https://en.wikipedia.org/wiki/Wick%27s_theorem) to calculate the expectation values of expressions of the form \n",
    "$$\n",
    "    ⟨ψ_i|O|ψ_i⟩\n",
    "$$\n",
    "where $|ψ_i⟩$ is a computational basis state and $O$ a string of Majorana operators and thus, using linearity of the expectation value, it is possible to efficiently calculate the expectation value of any observable that can be expanded in a sum of polynomially (in the number of qubits) many products of Majorana operators. (See also [Classical simulation of noninteracting-fermion quantum circuits](https://arxiv.org/abs/quant-ph/0108010) again for details). If you need expectation values of higher order (in the number of Majorana operators involved) observables, feel free to open a pull request!\n",
    "\n",
    "### \"Hidden\" FLO circuits\n",
    "`Yao.jl` allows to express the same circuit in different forms. E.g. \n",
    "```julia\n",
    "    chain(nq, put(1 => X), put(2 => X))\n",
    "```\n",
    "and\n",
    "```julia\n",
    "    kron(nq, 1 => X, 2 => X)\n",
    "```\n",
    "represent the same FLO circuit, but only the latter will be recognised as such. Similarly \n",
    "```julia\n",
    "     kron(nq, 1 => X, 2 => X, 3 => X, 4 => X)\n",
    "```\n",
    "and\n",
    "```julia\n",
    "     chain(nq, kron(1 => X, 2 => X), kron(3 => X, 4 => X))\n",
    "```\n",
    "represent the same FLO circuit but only the latter will be recognised as such. This is because\n",
    "\n",
    " - We don't check if a whole `ChainBlock` is a FLO circuit, even if its single\n",
    "   gates are not. Instead a `ChainBlock` is applied gate by gate, each of which\n",
    "   has to be a FLO gate.\n",
    " - For `KronBlock`s we first try if each factor is a FLO gate and then if the whole\n",
    "   block altogether is of the form  `kron(nq, i => σ1, i+1 => Z, ⋯, i-1 => Z, j => σ2)`\n",
    "   with `σ1, σ2 ∈ [X, Y]`.\n",
    "\n",
    "If you run into a case that is a FLO circuit / gate but not recognised as such please open an issue or even pull request.\n"
   ]
  },
  {
   "cell_type": "markdown",
   "id": "3a5c55ea-374e-455b-b3a8-53a60463f0ea",
   "metadata": {},
   "source": [
    "## Trying to get measurements to work\n",
    "\n",
    "First, try the scheme suggested in \"Classical simulation of dissipative fermionic linear optics\" in section 5.1"
   ]
  },
  {
   "cell_type": "code",
   "execution_count": 1,
   "id": "35b99581-8d3c-4740-a6a8-6c735ce9e20b",
   "metadata": {},
   "outputs": [],
   "source": [
    "using Revise\n",
    "using FLOYao\n",
    "using Yao\n",
    "using YaoGatesExtra\n",
    "using FLOYaoGatesExtra\n",
    "using LinearAlgebra"
   ]
  },
  {
   "cell_type": "code",
   "execution_count": 2,
   "id": "ed0b2afa-c1a9-477e-8faf-07a6a912596c",
   "metadata": {},
   "outputs": [],
   "source": [
    "import YaoGatesExtra: creationop, annihilationop, majoranaop, GivensGate, HoppingGate"
   ]
  },
  {
   "cell_type": "code",
   "execution_count": 3,
   "id": "30d2635f-3fbf-430c-ac99-328c5aef2b90",
   "metadata": {},
   "outputs": [
    {
     "data": {
      "text/plain": [
       "kron (generic function with 74 methods)"
      ]
     },
     "execution_count": 3,
     "metadata": {},
     "output_type": "execute_result"
    }
   ],
   "source": [
    "⊗ = kron"
   ]
  },
  {
   "cell_type": "code",
   "execution_count": 100,
   "id": "a758cd1f-bd24-4662-a8b4-bc993f43170c",
   "metadata": {},
   "outputs": [
    {
     "data": {
      "text/plain": [
       "covariance_matrix"
      ]
     },
     "execution_count": 100,
     "metadata": {},
     "output_type": "execute_result"
    }
   ],
   "source": [
    "\"\"\"\n",
    "The covariance matrix\n",
    "```math\n",
    "    M_{pq} = \\\\frac{i}{2} ⟨Ω|U^†[γ_p,γ_q]U|Ω⟩\n",
    "```\n",
    "of an FLO state ``U|Ω⟩``.\n",
    "\"\"\"\n",
    "function covariance_matrix(reg::MajoranaReg)\n",
    "    nq = nqubits(reg)\n",
    "    M = zeros(eltype(reg), 2nq, 2nq)\n",
    "    G = I(nq) ⊗ [0 1; -1 0]\n",
    "    return reg.state * G * reg.state'\n",
    "end"
   ]
  },
  {
   "cell_type": "code",
   "execution_count": 101,
   "id": "944be3da-f796-4afa-8395-d8242f8c7211",
   "metadata": {},
   "outputs": [
    {
     "data": {
      "text/plain": [
       "covariance_matrix (generic function with 2 methods)"
      ]
     },
     "execution_count": 101,
     "metadata": {},
     "output_type": "execute_result"
    }
   ],
   "source": [
    "function covariance_matrix(reg::AbstractRegister)\n",
    "    nq = nqubits(reg)\n",
    "    M = zeros(real(eltype(reg.state)), 2nq, 2nq)\n",
    "    for i in 1:2nq, j in 1:2nq\n",
    "        O = chain(nq, majoranaop(nq, i), majoranaop(nq, j))\n",
    "        M[i,j] = real(-1im * expect(O, reg))\n",
    "    end\n",
    "    return M\n",
    "end"
   ]
  },
  {
   "cell_type": "code",
   "execution_count": 102,
   "id": "e07ffbb1-4421-42ae-8052-c6e8d2306a2f",
   "metadata": {},
   "outputs": [
    {
     "data": {
      "text/plain": [
       "update_covariance_matrix!"
      ]
     },
     "execution_count": 102,
     "metadata": {},
     "output_type": "execute_result"
    }
   ],
   "source": [
    "\"\"\"\n",
    "Updates the covariance matrix `M`, given that the `i`th qubit was measured\n",
    "in the state `ni`.\n",
    "\n",
    "# Note: After this procedure only the entries M[p,q] with 2i-1 < p < q\n",
    "will be correct. This is sufficient to calculate measurement probabilities\n",
    "for j > i.\n",
    "\"\"\"\n",
    "function update_covariance_matrix!(M, i, ni)\n",
    "    pi = (1 - M[2i-1,2i]) / 2\n",
    "    oldM = copy(M)\n",
    "    n = size(M,1)\n",
    "    for p in 2i:n \n",
    "        for q in p+1:n\n",
    "            M[p,q] += (-1)^ni * oldM[2i-1,q] * oldM[2i,p] / (2pi)\n",
    "            M[p,q] -= (-1)^ni * oldM[2i-1,p] * oldM[2i,q] / (2pi)\n",
    "        end\n",
    "    end\n",
    "    return M\n",
    "end"
   ]
  },
  {
   "cell_type": "code",
   "execution_count": 179,
   "id": "1ccc87a0-2320-4643-822d-1dd910e467cf",
   "metadata": {},
   "outputs": [
    {
     "data": {
      "text/plain": [
       "update_covariance_matrix!"
      ]
     },
     "execution_count": 179,
     "metadata": {},
     "output_type": "execute_result"
    }
   ],
   "source": [
    "\"\"\"\n",
    "Updates the covariance matrix `M`, given that the `i`th qubit was measured\n",
    "in the state `ni`.\n",
    "\n",
    "# Note: After this procedure only the entries M[p,q] with 2i-1 < p < q\n",
    "will be correct. This is sufficient to calculate measurement probabilities\n",
    "for j > i.\n",
    "\"\"\"\n",
    "function update_covariance_matrix!(M, i, pi, ni)\n",
    "    n = size(M,1)\n",
    "    for p in 2i+1:n \n",
    "        for q in p+1:n\n",
    "            M[p,q] += (-1)^ni * M[2i-1,q] * M[2i,p] / (2pi)\n",
    "            M[p,q] -= (-1)^ni * M[2i-1,p] * M[2i,q] / (2pi)\n",
    "        end\n",
    "    end\n",
    "    return M\n",
    "end"
   ]
  },
  {
   "cell_type": "code",
   "execution_count": 395,
   "id": "18d2719b-1b8d-416f-8dc6-f645578f432e",
   "metadata": {},
   "outputs": [
    {
     "data": {
      "text/plain": [
       "\u001b[36mnqubits: 3\u001b[39m\n",
       "\u001b[34m\u001b[1mchain\u001b[22m\u001b[39m\n",
       "├─ rot(\u001b[36mnqubits: 3\u001b[39m\n",
       "\u001b[36m\u001b[1mkron\u001b[22m\u001b[39m\n",
       "├─ \u001b[37m\u001b[1m1\u001b[22m\u001b[39m=>X\n",
       "└─ \u001b[37m\u001b[1m2\u001b[22m\u001b[39m=>X, 0.5)\n",
       "└─ \u001b[36m\u001b[1mput on (\u001b[22m\u001b[39m\u001b[36m\u001b[1m2\u001b[22m\u001b[39m\u001b[36m\u001b[1m, \u001b[22m\u001b[39m\u001b[36m\u001b[1m3\u001b[22m\u001b[39m\u001b[36m\u001b[1m)\u001b[22m\u001b[39m\n",
       "   └─ HoppingGate{Float64}\n"
      ]
     },
     "execution_count": 395,
     "metadata": {},
     "output_type": "execute_result"
    }
   ],
   "source": [
    "nq = 3\n",
    "mreg = FLOYao.zero_state(nq)\n",
    "areg = zero_state(nq)\n",
    "circuit = chain(nq, rot(kron(nq, 1 => X, 2 => X), 0.5),\n",
    "                put((2, 3) => HoppingGate(1.2)))"
   ]
  },
  {
   "cell_type": "code",
   "execution_count": 396,
   "id": "13cfe24c-2117-4624-926d-ab4a00776f7a",
   "metadata": {},
   "outputs": [
    {
     "data": {
      "text/plain": [
       "ArrayReg{2, ComplexF64, Array...}\n",
       "    active qubits: 3/3\n",
       "    nlevel: 2"
      ]
     },
     "execution_count": 396,
     "metadata": {},
     "output_type": "execute_result"
    }
   ],
   "source": [
    "mreg |> circuit\n",
    "areg |> circuit"
   ]
  },
  {
   "cell_type": "code",
   "execution_count": 217,
   "id": "9cdec427-30d2-4cfa-b453-05d22f159054",
   "metadata": {},
   "outputs": [],
   "source": [
    "using Random"
   ]
  },
  {
   "cell_type": "code",
   "execution_count": 443,
   "id": "dc336dba-c947-435e-b29e-2c0779b5a548",
   "metadata": {},
   "outputs": [
    {
     "data": {
      "text/plain": [
       "sample (generic function with 7 methods)"
      ]
     },
     "execution_count": 443,
     "metadata": {},
     "output_type": "execute_result"
    }
   ],
   "source": [
    "@inline function sample(covmat, locs=1:nqubits(reg), ids=1:nqubits(reg), rng=Random.GLOBAL_RNG)\n",
    "    out = BigInt(0)\n",
    "    M = copy(covmat)\n",
    "    for i in 1:length(locs)\n",
    "        pi = (1 + M[2locs[ids[i]]-1,2locs[ids[i]]]) / 2\n",
    "        ni = rand(rng) > pi\n",
    "        out += ni * 2^(ids[i]-1)\n",
    "        update_covariance_matrix!(M, i, ni ? 1-pi : pi, ni)\n",
    "    end\n",
    "    return BitStr{length(locs)}(out)\n",
    "end"
   ]
  },
  {
   "cell_type": "code",
   "execution_count": 427,
   "id": "4c9854dd-9399-45a4-bcc7-32d7e57fa35d",
   "metadata": {},
   "outputs": [
    {
     "data": {
      "text/plain": [
       "sample (generic function with 3 methods)"
      ]
     },
     "execution_count": 427,
     "metadata": {},
     "output_type": "execute_result"
    }
   ],
   "source": [
    "@inline function sample(covmat, rng=Random.GLOBAL_RNG)\n",
    "    out = BigInt(0)\n",
    "    M = copy(covmat)\n",
    "    for i in 1:nqubits(reg)\n",
    "        pi = (1 + M[2i-1,2i]) / 2\n",
    "        ni = rand(rng) > pi\n",
    "        out += ni * 2^(i-1)\n",
    "        update_covariance_matrix!(M, i, ni ? 1-pi : pi, ni)\n",
    "    end\n",
    "    return BitStr{nqubits(reg)}(out)\n",
    "end"
   ]
  },
  {
   "cell_type": "code",
   "execution_count": 461,
   "id": "5a05f232-ffc3-4991-b476-214aa7bb346b",
   "metadata": {},
   "outputs": [],
   "source": [
    "function Yao.measure(reg::MajoranaReg, locs=1:nqubits(reg);\n",
    "                     nshots::Int=1,\n",
    "                     rng::AbstractRNG=Random.GLOBAL_RNG)\n",
    "    # TODO: See how much the call to sample can be sped up by passing\n",
    "    # a preallocated covmat to it. Or maybe better enable parallelism here?\n",
    "    covmat = covariance_matrix(reg)\n",
    "    ids = sortperm(locs)\n",
    "    return [sample(covmat, locs, ids, rng) for _ in 1:nshots]\n",
    "end"
   ]
  },
  {
   "cell_type": "code",
   "execution_count": 429,
   "id": "50639e01-1500-40fe-bd49-3cbbe568b90a",
   "metadata": {},
   "outputs": [],
   "source": [
    "function Yao.measure!(reg::MajoranaReg; rng=GLOBAL_RNG)\n",
    "    # Todo: Implement measurement of all qubits that \n",
    "    # collapses into the resulting state afterwards\n",
    "end"
   ]
  },
  {
   "cell_type": "code",
   "execution_count": 430,
   "id": "d4b1bd07-0b52-45e7-a9c8-1f27711f19f1",
   "metadata": {},
   "outputs": [
    {
     "data": {
      "text/plain": [
       "bitstring_probability (generic function with 2 methods)"
      ]
     },
     "execution_count": 430,
     "metadata": {},
     "output_type": "execute_result"
    }
   ],
   "source": [
    "function bitstring_probability(reg::MajoranaReg{T}, bits::DitStr{2,N,ST}) where {T,N,ST}\n",
    "    @assert nqubits(reg) == N\n",
    "    p = one(T)\n",
    "    M = covariance_matrix(reg)\n",
    "    for i in 1:N\n",
    "        ni = bits[i]\n",
    "        pi = (1 + (-1)^ni * M[2i-1,2i]) / 2\n",
    "        pi ≈ 0 && return zero(T)\n",
    "        p *= pi\n",
    "        update_covariance_matrix!(M, i, pi, ni)\n",
    "    end\n",
    "    return p\n",
    "end"
   ]
  },
  {
   "cell_type": "code",
   "execution_count": 431,
   "id": "692c7502-68e8-4c20-887b-73312af1d48f",
   "metadata": {},
   "outputs": [
    {
     "data": {
      "text/plain": [
       "8-element Vector{Float64}:\n",
       "  0.9387912809451864\n",
       " -2.59987132247626e-17\n",
       "  0.0\n",
       "  0.041694086522954754\n",
       "  0.0\n",
       "  0.019514632531858894\n",
       "  0.0\n",
       "  2.31448674242489e-18"
      ]
     },
     "execution_count": 431,
     "metadata": {},
     "output_type": "execute_result"
    }
   ],
   "source": [
    "mprobs = [bitstring_probability(mreg, BitStr{nq}(b)) for b in 0:2^nq-1]"
   ]
  },
  {
   "cell_type": "code",
   "execution_count": 432,
   "id": "f19fab2c-adfe-41e1-9695-ba6e9277eff3",
   "metadata": {},
   "outputs": [
    {
     "data": {
      "text/plain": [
       "8×1 Matrix{Float64}:\n",
       " 0.9387912809451863\n",
       " 0.0\n",
       " 0.0\n",
       " 0.04169408652295475\n",
       " 0.0\n",
       " 0.019514632531858894\n",
       " 0.0\n",
       " 0.0"
      ]
     },
     "execution_count": 432,
     "metadata": {},
     "output_type": "execute_result"
    }
   ],
   "source": [
    "aprobs = abs2.(areg.state)"
   ]
  },
  {
   "cell_type": "code",
   "execution_count": 458,
   "id": "a7fc2b4c-1d50-467d-bc93-8a69dcbd8697",
   "metadata": {},
   "outputs": [],
   "source": [
    "mshots = measure(mreg, [2,1,3], nshots=10000);\n",
    "#mshots = [sample(mreg) for _ in 1:10000];"
   ]
  },
  {
   "cell_type": "code",
   "execution_count": 459,
   "id": "95cf958d-c740-4605-ad2b-5de1c42ecf87",
   "metadata": {},
   "outputs": [],
   "source": [
    "ashots = measure(areg,  [2,1,3], nshots=10000);"
   ]
  },
  {
   "cell_type": "code",
   "execution_count": 460,
   "id": "86c46deb-561c-42a6-ae7a-5321212a66af",
   "metadata": {},
   "outputs": [
    {
     "data": {
      "image/png": "[encoded data removed]",
      "text/plain": [
       "Figure(PyObject <Figure size 640x480 with 1 Axes>)"
      ]
     },
     "metadata": {},
     "output_type": "display_data"
    },
    {
     "data": {
      "text/plain": [
       "([9406.0 0.0 … 0.0 174.0; 9398.0 0.0 … 0.0 186.0], [0.0, 0.6, 1.2, 1.7999999999999998, 2.4, 3.0, 3.5999999999999996, 4.2, 4.8, 5.3999999999999995, 6.0], NTuple{10, PyCall.PyObject}[(PyObject <matplotlib.patches.Rectangle object at 0x7fea49b2f550>, PyObject <matplotlib.patches.Rectangle object at 0x7fea49b22250>, PyObject <matplotlib.patches.Rectangle object at 0x7fea49b2f8e0>, PyObject <matplotlib.patches.Rectangle object at 0x7fea49b2faf0>, PyObject <matplotlib.patches.Rectangle object at 0x7fea49b2fd00>, PyObject <matplotlib.patches.Rectangle object at 0x7fea49b2ff10>, PyObject <matplotlib.patches.Rectangle object at 0x7fea49abc160>, PyObject <matplotlib.patches.Rectangle object at 0x7fea49abc370>, PyObject <matplotlib.patches.Rectangle object at 0x7fea49abc580>, PyObject <matplotlib.patches.Rectangle object at 0x7fea49abc790>), (PyObject <matplotlib.patches.Rectangle object at 0x7fea49abc8b0>, PyObject <matplotlib.patches.Rectangle object at 0x7fea49b2f520>, PyObject <matplotlib.patches.Rectangle object at 0x7fea49abce20>, PyObject <matplotlib.patches.Rectangle object at 0x7fea49abcfd0>, PyObject <matplotlib.patches.Rectangle object at 0x7fea49acd2b0>, PyObject <matplotlib.patches.Rectangle object at 0x7fea49acd4c0>, PyObject <matplotlib.patches.Rectangle object at 0x7fea49acd6d0>, PyObject <matplotlib.patches.Rectangle object at 0x7fea49acd8e0>, PyObject <matplotlib.patches.Rectangle object at 0x7fea49acdaf0>, PyObject <matplotlib.patches.Rectangle object at 0x7fea49acdd00>)])"
      ]
     },
     "execution_count": 460,
     "metadata": {},
     "output_type": "execute_result"
    }
   ],
   "source": [
    "hist([ashots, mshots])"
   ]
  },
  {
   "cell_type": "code",
   "execution_count": 182,
   "id": "c372f53d-3496-4a37-9a9e-a0fd9c5d5255",
   "metadata": {},
   "outputs": [
    {
     "data": {
      "text/plain": [
       "6×6 Matrix{Float64}:\n",
       "  0.0       0.877583   0.395687    0.0         0.0        -0.270704\n",
       " -0.877583  0.0        0.0        -0.395687   -0.270704    0.0\n",
       " -0.395687  0.0        0.0         0.916612   -0.0570489   0.0\n",
       "  0.0       0.395687  -0.916612    0.0         0.0        -0.0570489\n",
       "  0.0       0.270704   0.0570489   0.0         0.0         0.960971\n",
       "  0.270704  0.0        0.0         0.0570489  -0.960971    0.0"
      ]
     },
     "execution_count": 182,
     "metadata": {},
     "output_type": "execute_result"
    }
   ],
   "source": [
    "M = covariance_matrix(mreg)"
   ]
  },
  {
   "cell_type": "code",
   "execution_count": 183,
   "id": "be3cac36-bb5e-4334-8fd8-86f33d3c98f6",
   "metadata": {},
   "outputs": [
    {
     "data": {
      "text/plain": [
       "6×6 Matrix{Float64}:\n",
       "  0.0       0.877583   0.395687    0.0         0.0        -0.270704\n",
       " -0.877583  0.0        0.0        -0.395687   -0.270704    0.0\n",
       " -0.395687  0.0        0.0         0.916612   -0.0570489   0.0\n",
       "  0.0       0.395687  -0.916612    0.0         0.0        -0.0570489\n",
       "  0.0       0.270704   0.0570489   0.0         0.0         0.960971\n",
       "  0.270704  0.0        0.0         0.0570489  -0.960971    0.0"
      ]
     },
     "execution_count": 183,
     "metadata": {},
     "output_type": "execute_result"
    }
   ],
   "source": [
    "covariance_matrix(areg)"
   ]
  },
  {
   "cell_type": "code",
   "execution_count": 184,
   "id": "c3d23381-8255-4986-99b0-196f6f0802bf",
   "metadata": {},
   "outputs": [
    {
     "data": {
      "text/plain": [
       "0.06120871905481362"
      ]
     },
     "execution_count": 184,
     "metadata": {},
     "output_type": "execute_result"
    }
   ],
   "source": [
    "i = 1\n",
    "pi = 0.5(1 - M[2i-1,2i])"
   ]
  },
  {
   "cell_type": "code",
   "execution_count": 185,
   "id": "c7ab4ddb-4c86-4874-a7fc-91a9d6f273c6",
   "metadata": {},
   "outputs": [
    {
     "data": {
      "text/plain": [
       "\u001b[36mnqubits: 3\u001b[39m\n",
       "\u001b[33m\u001b[1m[scale: 0.5] \u001b[22m\u001b[39m\u001b[31m\u001b[1m+\u001b[22m\u001b[39m\n",
       "   ├─ \u001b[36m\u001b[1mput on (\u001b[22m\u001b[39m\u001b[36m\u001b[1m1\u001b[22m\u001b[39m\u001b[36m\u001b[1m)\u001b[22m\u001b[39m\n",
       "   │  └─ I2\n",
       "   └─ \u001b[33m\u001b[1m[-] \u001b[22m\u001b[39m\u001b[36m\u001b[1mput on (\u001b[22m\u001b[39m\u001b[36m\u001b[1m1\u001b[22m\u001b[39m\u001b[36m\u001b[1m)\u001b[22m\u001b[39m\n",
       "         └─ Z\n"
      ]
     },
     "execution_count": 185,
     "metadata": {},
     "output_type": "execute_result"
    }
   ],
   "source": [
    "Πi = 0.5 * (put(nq, i => I2) - put(nq, i => Z))"
   ]
  },
  {
   "cell_type": "code",
   "execution_count": 186,
   "id": "476f90f7-8111-433e-a5e1-0f67ac49159b",
   "metadata": {},
   "outputs": [
    {
     "name": "stdout",
     "output_type": "stream",
     "text": [
      "abs2(norm(areg)) = 0.06120871905481365\n"
     ]
    },
    {
     "data": {
      "text/plain": [
       "ArrayReg{2, ComplexF64, Array...}\n",
       "    active qubits: 3/3\n",
       "    nlevel: 2"
      ]
     },
     "execution_count": 186,
     "metadata": {},
     "output_type": "execute_result"
    }
   ],
   "source": [
    "areg |> Πi\n",
    "@show abs2(norm(areg))\n",
    "normalize!(areg)"
   ]
  },
  {
   "cell_type": "code",
   "execution_count": 187,
   "id": "0f910aac-c10a-4134-8f67-b49282cc2240",
   "metadata": {},
   "outputs": [
    {
     "data": {
      "text/plain": [
       "0.6811788772383368"
      ]
     },
     "execution_count": 187,
     "metadata": {},
     "output_type": "execute_result"
    }
   ],
   "source": [
    "j = 2\n",
    "Πj = 0.5 * (put(nq, j => I2) - put(nq, j => Z))\n",
    "areg |> Πj\n",
    "abs2(norm(areg))"
   ]
  },
  {
   "cell_type": "code",
   "execution_count": 188,
   "id": "e5c71971-9a3d-444f-ac18-4b1550a88f0e",
   "metadata": {},
   "outputs": [
    {
     "data": {
      "text/plain": [
       "4×4 Matrix{Float64}:\n",
       "  0.0        -0.362358   -0.932039   0.0\n",
       " -0.916612    0.0         0.0       -0.932039\n",
       "  0.0570489   0.0         0.0        0.362358\n",
       "  0.0         0.0570489  -0.960971   0.0"
      ]
     },
     "execution_count": 188,
     "metadata": {},
     "output_type": "execute_result"
    }
   ],
   "source": [
    "ni = 1\n",
    "update_covariance_matrix!(M, i, pi, ni)\n",
    "M[3:end,3:end]"
   ]
  },
  {
   "cell_type": "code",
   "execution_count": 189,
   "id": "9c15eb2c-d000-4d22-b927-3a3a67f76efd",
   "metadata": {},
   "outputs": [
    {
     "data": {
      "text/plain": [
       "0.6811788772383371"
      ]
     },
     "execution_count": 189,
     "metadata": {},
     "output_type": "execute_result"
    }
   ],
   "source": [
    "pj = 0.5(1 - M[2j-1,2j])"
   ]
  },
  {
   "cell_type": "code",
   "execution_count": 190,
   "id": "25c2fc77-72e6-4ee7-8f89-dc429acc2149",
   "metadata": {},
   "outputs": [
    {
     "data": {
      "text/plain": [
       "0.0"
      ]
     },
     "execution_count": 190,
     "metadata": {},
     "output_type": "execute_result"
    }
   ],
   "source": [
    "normalize!(areg)\n",
    "k = 3\n",
    "Πk = 0.5 * (put(nq, k => I2) - put(nq, k => Z))\n",
    "areg |> Πk\n",
    "abs2(norm(areg))"
   ]
  },
  {
   "cell_type": "code",
   "execution_count": 191,
   "id": "bb2decfc-e0a4-4851-8841-b11f1578f9ec",
   "metadata": {},
   "outputs": [
    {
     "data": {
      "text/plain": [
       "2×2 Matrix{Float64}:\n",
       "  0.0       1.0\n",
       " -0.960971  0.0"
      ]
     },
     "execution_count": 191,
     "metadata": {},
     "output_type": "execute_result"
    }
   ],
   "source": [
    "nj = 1\n",
    "update_covariance_matrix!(M, j, pj, nj)\n",
    "M[5:end,5:end]"
   ]
  },
  {
   "cell_type": "code",
   "execution_count": 192,
   "id": "e7ce0041-3966-4cce-8657-02f0eaacdb26",
   "metadata": {},
   "outputs": [
    {
     "data": {
      "text/plain": [
       "5.551115123125783e-17"
      ]
     },
     "execution_count": 192,
     "metadata": {},
     "output_type": "execute_result"
    }
   ],
   "source": [
    "pk = 0.5(1 - M[2k-1,2k])"
   ]
  },
  {
   "cell_type": "code",
   "execution_count": 166,
   "id": "649cf6ce-0f03-45d0-940c-1839c80b8a97",
   "metadata": {},
   "outputs": [],
   "source": [
    "using SymEngine"
   ]
  },
  {
   "cell_type": "code",
   "execution_count": 171,
   "id": "a1015cfc-54d3-40ee-b02f-ed065b42f1d4",
   "metadata": {},
   "outputs": [
    {
     "data": {
      "text/plain": [
       "ArrayReg{2, ComplexF64, Array...}\n",
       "    active qubits: 3/3\n",
       "    nlevel: 2"
      ]
     },
     "execution_count": 171,
     "metadata": {},
     "output_type": "execute_result"
    }
   ],
   "source": [
    "areg = arrayreg(bit\"101\")"
   ]
  },
  {
   "cell_type": "code",
   "execution_count": 173,
   "id": "5e0c7f69-7b83-46e7-a363-df31100959ca",
   "metadata": {},
   "outputs": [
    {
     "data": {
      "text/plain": [
       "15-element Vector{DitStr{2, 3, Int64}}:\n",
       " 011 ₍₂₎\n",
       " 011 ₍₂₎\n",
       " 011 ₍₂₎\n",
       " 011 ₍₂₎\n",
       " 011 ₍₂₎\n",
       " 011 ₍₂₎\n",
       " 011 ₍₂₎\n",
       " 011 ₍₂₎\n",
       " 011 ₍₂₎\n",
       " 011 ₍₂₎\n",
       " 011 ₍₂₎\n",
       " 011 ₍₂₎\n",
       " 011 ₍₂₎\n",
       " 011 ₍₂₎\n",
       " 011 ₍₂₎"
      ]
     },
     "execution_count": 173,
     "metadata": {},
     "output_type": "execute_result"
    }
   ],
   "source": [
    "samples = measure(areg, [1,3,2], nshots=15)"
   ]
  },
  {
   "cell_type": "code",
   "execution_count": 205,
   "id": "20260153-c5fd-4092-a876-7625fa06d702",
   "metadata": {},
   "outputs": [
    {
     "data": {
      "text/plain": [
       "4-element Vector{Int64}:\n",
       " 4\n",
       " 1\n",
       " 2\n",
       " 3"
      ]
     },
     "execution_count": 205,
     "metadata": {},
     "output_type": "execute_result"
    }
   ],
   "source": [
    "sortperm([3,5,6,2])"
   ]
  },
  {
   "cell_type": "code",
   "execution_count": 206,
   "id": "2ce5a0b5-14a0-48af-b665-8c612815e913",
   "metadata": {},
   "outputs": [
    {
     "data": {
      "text/plain": [
       "4-element Vector{Int64}:\n",
       " 2\n",
       " 3\n",
       " 4\n",
       " 1"
      ]
     },
     "execution_count": 206,
     "metadata": {},
     "output_type": "execute_result"
    }
   ],
   "source": [
    "invperm(sortperm([3,5,6,2]))"
   ]
  },
  {
   "cell_type": "code",
   "execution_count": 178,
   "id": "d963565a-4862-423a-9452-5b760adfe226",
   "metadata": {},
   "outputs": [
    {
     "data": {
      "text/plain": [
       "0010111001 ₍₂₎"
      ]
     },
     "execution_count": 178,
     "metadata": {},
     "output_type": "execute_result"
    }
   ],
   "source": [
    "BitStr{10}(BigInt(185))"
   ]
  },
  {
   "cell_type": "code",
   "execution_count": 177,
   "id": "2bcd296b-92d8-45e1-b38d-7303df2a0c1c",
   "metadata": {},
   "outputs": [
    {
     "name": "stdout",
     "output_type": "stream",
     "text": [
      "search: \u001b[0m\u001b[1mB\u001b[22m\u001b[0m\u001b[1mi\u001b[22m\u001b[0m\u001b[1mt\u001b[22m\u001b[0m\u001b[1mS\u001b[22m\u001b[0m\u001b[1mt\u001b[22m\u001b[0m\u001b[1mr\u001b[22m \u001b[0m\u001b[1mb\u001b[22m\u001b[0m\u001b[1mi\u001b[22m\u001b[0m\u001b[1mt\u001b[22m\u001b[0m\u001b[1ms\u001b[22m\u001b[0m\u001b[1mt\u001b[22m\u001b[0m\u001b[1mr\u001b[22ming @\u001b[0m\u001b[1mb\u001b[22m\u001b[0m\u001b[1mi\u001b[22m\u001b[0m\u001b[1mt\u001b[22m_\u001b[0m\u001b[1ms\u001b[22m\u001b[0m\u001b[1mt\u001b[22m\u001b[0m\u001b[1mr\u001b[22m Qu\u001b[0m\u001b[1mb\u001b[22m\u001b[0m\u001b[1mi\u001b[22m\u001b[0m\u001b[1mt\u001b[22mMi\u001b[0m\u001b[1ms\u001b[22mma\u001b[0m\u001b[1mt\u001b[22mchE\u001b[0m\u001b[1mr\u001b[22mror Su\u001b[0m\u001b[1mb\u001b[22mst\u001b[0m\u001b[1mi\u001b[22m\u001b[0m\u001b[1mt\u001b[22mution\u001b[0m\u001b[1mS\u001b[22m\u001b[0m\u001b[1mt\u001b[22m\u001b[0m\u001b[1mr\u001b[22ming\n",
      "\n"
     ]
    },
    {
     "data": {
      "text/latex": [
       "\\begin{verbatim}\n",
       "BitStr{N,T} <: Integer\n",
       "\\end{verbatim}\n",
       "The struct for bit string with fixed length \\texttt{N} and storage type \\texttt{T}. It is an alias of \\texttt{DitStr\\{2,N,T\\}}.\n",
       "\n",
       "\\begin{verbatim}\n",
       "BitStr{N,T}(integer)\n",
       "BitStr64{N}(integer)\n",
       "BitStr64(vector)\n",
       "LongBitStr{N}(integer)\n",
       "LongBitStr(vector)\n",
       "\\end{verbatim}\n",
       "Returns a \\texttt{BitStr}. When the input is an integer, the bits are read from right to left. When the input is a vector, the bits are read from left to right.\n",
       "\n",
       "\\subsection{Examples}\n",
       "\\texttt{BitStr} supports some basic arithmetic operations. It acts like an integer, but supports some frequently used methods for binary basis.\n",
       "\n",
       "\\begin{verbatim}\n",
       "julia> bit\"0101\" * 2\n",
       "1010 ₍₂₎\n",
       "\n",
       "julia> join([bit\"101\" for i in 1:10])\n",
       "\"101 ₍₂₎101 ₍₂₎101 ₍₂₎101 ₍₂₎101 ₍₂₎101 ₍₂₎101 ₍₂₎101 ₍₂₎101 ₍₂₎101 ₍₂₎\"\n",
       "\n",
       "julia> repeat(bit\"101\", 2)\n",
       "101101 ₍₂₎\n",
       "\n",
       "julia> bit\"1101\"[2]\n",
       "0\n",
       "\\end{verbatim}\n"
      ],
      "text/markdown": [
       "```\n",
       "BitStr{N,T} <: Integer\n",
       "```\n",
       "\n",
       "The struct for bit string with fixed length `N` and storage type `T`. It is an alias of `DitStr{2,N,T}`.\n",
       "\n",
       "```\n",
       "BitStr{N,T}(integer)\n",
       "BitStr64{N}(integer)\n",
       "BitStr64(vector)\n",
       "LongBitStr{N}(integer)\n",
       "LongBitStr(vector)\n",
       "```\n",
       "\n",
       "Returns a `BitStr`. When the input is an integer, the bits are read from right to left. When the input is a vector, the bits are read from left to right.\n",
       "\n",
       "## Examples\n",
       "\n",
       "`BitStr` supports some basic arithmetic operations. It acts like an integer, but supports some frequently used methods for binary basis.\n",
       "\n",
       "```jldoctest\n",
       "julia> bit\"0101\" * 2\n",
       "1010 ₍₂₎\n",
       "\n",
       "julia> join([bit\"101\" for i in 1:10])\n",
       "\"101 ₍₂₎101 ₍₂₎101 ₍₂₎101 ₍₂₎101 ₍₂₎101 ₍₂₎101 ₍₂₎101 ₍₂₎101 ₍₂₎101 ₍₂₎\"\n",
       "\n",
       "julia> repeat(bit\"101\", 2)\n",
       "101101 ₍₂₎\n",
       "\n",
       "julia> bit\"1101\"[2]\n",
       "0\n",
       "```\n"
      ],
      "text/plain": [
       "\u001b[36m  BitStr{N,T} <: Integer\u001b[39m\n",
       "\n",
       "  The struct for bit string with fixed length \u001b[36mN\u001b[39m and storage type \u001b[36mT\u001b[39m. It is an\n",
       "  alias of \u001b[36mDitStr{2,N,T}\u001b[39m.\n",
       "\n",
       "\u001b[36m  BitStr{N,T}(integer)\u001b[39m\n",
       "\u001b[36m  BitStr64{N}(integer)\u001b[39m\n",
       "\u001b[36m  BitStr64(vector)\u001b[39m\n",
       "\u001b[36m  LongBitStr{N}(integer)\u001b[39m\n",
       "\u001b[36m  LongBitStr(vector)\u001b[39m\n",
       "\n",
       "  Returns a \u001b[36mBitStr\u001b[39m. When the input is an integer, the bits are read from right\n",
       "  to left. When the input is a vector, the bits are read from left to right.\n",
       "\n",
       "\u001b[1m  Examples\u001b[22m\n",
       "\u001b[1m  ==========\u001b[22m\n",
       "\n",
       "  \u001b[36mBitStr\u001b[39m supports some basic arithmetic operations. It acts like an integer,\n",
       "  but supports some frequently used methods for binary basis.\n",
       "\n",
       "\u001b[36m  julia> bit\"0101\" * 2\u001b[39m\n",
       "\u001b[36m  1010 ₍₂₎\u001b[39m\n",
       "\u001b[36m  \u001b[39m\n",
       "\u001b[36m  julia> join([bit\"101\" for i in 1:10])\u001b[39m\n",
       "\u001b[36m  \"101 ₍₂₎101 ₍₂₎101 ₍₂₎101 ₍₂₎101 ₍₂₎101 ₍₂₎101 ₍₂₎101 ₍₂₎101 ₍₂₎101 ₍₂₎\"\u001b[39m\n",
       "\u001b[36m  \u001b[39m\n",
       "\u001b[36m  julia> repeat(bit\"101\", 2)\u001b[39m\n",
       "\u001b[36m  101101 ₍₂₎\u001b[39m\n",
       "\u001b[36m  \u001b[39m\n",
       "\u001b[36m  julia> bit\"1101\"[2]\u001b[39m\n",
       "\u001b[36m  0\u001b[39m"
      ]
     },
     "execution_count": 177,
     "metadata": {},
     "output_type": "execute_result"
    }
   ],
   "source": [
    "?BitStr"
   ]
  },
  {
   "cell_type": "code",
   "execution_count": 113,
   "id": "2830a28f-144c-414c-a499-27c4e647ade2",
   "metadata": {},
   "outputs": [
    {
     "data": {
      "text/plain": [
       "0.6811788772383371"
      ]
     },
     "execution_count": 113,
     "metadata": {},
     "output_type": "execute_result"
    }
   ],
   "source": [
    "pj = 0.5(1 - M[2j-1,2j])"
   ]
  },
  {
   "cell_type": "code",
   "execution_count": 134,
   "id": "82da53f8-8a2f-4e57-baed-011184854b52",
   "metadata": {},
   "outputs": [
    {
     "data": {
      "text/plain": [
       "1:5"
      ]
     },
     "execution_count": 134,
     "metadata": {},
     "output_type": "execute_result"
    }
   ],
   "source": [
    "sortperm(1:5)"
   ]
  },
  {
   "cell_type": "code",
   "execution_count": 152,
   "id": "cea0050f-2cda-42a2-84be-a9d83f2ff51d",
   "metadata": {},
   "outputs": [
    {
     "name": "stdout",
     "output_type": "stream",
     "text": [
      "  0.000001 seconds\n"
     ]
    },
    {
     "data": {
      "text/plain": [
       "1:10000"
      ]
     },
     "execution_count": 152,
     "metadata": {},
     "output_type": "execute_result"
    }
   ],
   "source": [
    "@time sortperm(1:10000)"
   ]
  },
  {
   "cell_type": "code",
   "execution_count": 151,
   "id": "6135c752-c61e-49e1-bf73-77a06b06c496",
   "metadata": {},
   "outputs": [
    {
     "name": "stdout",
     "output_type": "stream",
     "text": [
      "  0.000126 seconds (3 allocations: 78.188 KiB)\n"
     ]
    },
    {
     "data": {
      "text/plain": [
       "10000-element Vector{Int64}:\n",
       "     1\n",
       "     2\n",
       "     3\n",
       "     4\n",
       "     5\n",
       "     6\n",
       "     7\n",
       "     8\n",
       "     9\n",
       "    10\n",
       "    11\n",
       "    12\n",
       "    13\n",
       "     ⋮\n",
       "  9989\n",
       "  9990\n",
       "  9991\n",
       "  9992\n",
       "  9993\n",
       "  9994\n",
       "  9995\n",
       "  9996\n",
       "  9997\n",
       "  9998\n",
       "  9999\n",
       " 10000"
      ]
     },
     "execution_count": 151,
     "metadata": {},
     "output_type": "execute_result"
    }
   ],
   "source": [
    "a = collect(1:10000)\n",
    "@time sortperm(a)"
   ]
  },
  {
   "cell_type": "code",
   "execution_count": null,
   "id": "03243c63-0592-4c44-a8ea-f1d21e84d127",
   "metadata": {},
   "outputs": [],
   "source": []
  }
 ],
 "metadata": {
  "kernelspec": {
   "display_name": "Julia 1.8.0",
   "language": "julia",
   "name": "julia-1.8"
  },
  "language_info": {
   "file_extension": ".jl",
   "mimetype": "application/julia",
   "name": "julia",
   "version": "1.8.0"
  }
 },
 "nbformat": 4,
 "nbformat_minor": 5
}
