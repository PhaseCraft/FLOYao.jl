{
 "cells": [
  {
   "cell_type": "code",
   "execution_count": 64,
   "metadata": {},
   "outputs": [],
   "source": [
    "using FLOYao\n",
    "using Yao\n",
    "using SkewLinearAlgebra\n",
    "using Tullio\n",
    "using FiniteDifferences\n",
    "using Symbolics\n",
    "using SymbolicUtils"
   ]
  },
  {
   "cell_type": "code",
   "execution_count": 2,
   "metadata": {},
   "outputs": [],
   "source": [
    "using Symbolics\n",
    "# using SymPy"
   ]
  },
  {
   "cell_type": "code",
   "execution_count": 3,
   "metadata": {},
   "outputs": [
    {
     "data": {
      "text/plain": [
       "kron (generic function with 72 methods)"
      ]
     },
     "execution_count": 3,
     "metadata": {},
     "output_type": "execute_result"
    }
   ],
   "source": [
    "using LinearAlgebra\n",
    "⊗ = kron"
   ]
  },
  {
   "cell_type": "code",
   "execution_count": 4,
   "metadata": {},
   "outputs": [],
   "source": [
    "using Revise"
   ]
  },
  {
   "cell_type": "code",
   "execution_count": 5,
   "metadata": {},
   "outputs": [
    {
     "data": {
      "text/plain": [
       "matdisplay (generic function with 2 methods)"
      ]
     },
     "execution_count": 5,
     "metadata": {},
     "output_type": "execute_result"
    }
   ],
   "source": [
    "function matdisplay(mat, digits=2)\n",
    "    display(round.(mat, digits=digits))\n",
    "end"
   ]
  },
  {
   "cell_type": "code",
   "execution_count": 270,
   "metadata": {},
   "outputs": [
    {
     "data": {
      "text/plain": [
       "MajoranaReg{Float64} with 3 qubits:\n",
       " 1.0  0.0  0.0  0.0  0.0  0.0\n",
       " 0.0  1.0  0.0  0.0  0.0  0.0\n",
       " 0.0  0.0  1.0  0.0  0.0  0.0\n",
       " 0.0  0.0  0.0  1.0  0.0  0.0\n",
       " 0.0  0.0  0.0  0.0  1.0  0.0\n",
       " 0.0  0.0  0.0  0.0  0.0  1.0"
      ]
     },
     "execution_count": 270,
     "metadata": {},
     "output_type": "execute_result"
    }
   ],
   "source": [
    "reg1 = FLOYao.rand_state(3)\n",
    "reg2 = FLOYao.zero_state(3)"
   ]
  },
  {
   "cell_type": "code",
   "execution_count": 271,
   "metadata": {},
   "outputs": [
    {
     "data": {
      "text/plain": [
       "0.7540882871860838"
      ]
     },
     "execution_count": 271,
     "metadata": {},
     "output_type": "execute_result"
    }
   ],
   "source": [
    "fidelity(reg1, reg2)"
   ]
  },
  {
   "cell_type": "code",
   "execution_count": 223,
   "metadata": {},
   "outputs": [
    {
     "data": {
      "text/plain": [
       "W_matrix (generic function with 1 method)"
      ]
     },
     "execution_count": 223,
     "metadata": {},
     "output_type": "execute_result"
    }
   ],
   "source": [
    "function W_matrix(R::Matrix{T}) where {T}\n",
    "    n = size(R, 1) ÷ 2\n",
    "    W = zeros(Complex{T}, 2n, 2n)\n",
    "    for i in 1:2:2n\n",
    "        W[:,i] .= R[:,i] .- 1im * R[:,i+1]\n",
    "        W[:,i+1] .= R[:,i] .+ 1im * R[:,i+1]\n",
    "    end\n",
    "    return W\n",
    "end"
   ]
  },
  {
   "cell_type": "code",
   "execution_count": 224,
   "metadata": {},
   "outputs": [
    {
     "data": {
      "text/plain": [
       "W_matrix_tullio (generic function with 1 method)"
      ]
     },
     "execution_count": 224,
     "metadata": {},
     "output_type": "execute_result"
    }
   ],
   "source": [
    "function W_matrix_tullio(R::Matrix{T}) where {T}\n",
    "    n = size(R, 1) ÷ 2\n",
    "    R = reshape(R, 2, n, 2, n)\n",
    "    W = zeros(Complex{T}, 2, n, 2, n)\n",
    "    @tullio W[μ,m,α,i] = R[μ,m,1,i] + 1im*(-1)^α * R[μ,m,2,i]\n",
    "    return reshape(W, 2n, 2n)\n",
    "end"
   ]
  },
  {
   "cell_type": "code",
   "execution_count": 225,
   "metadata": {},
   "outputs": [
    {
     "data": {
      "text/plain": [
       "4×4 Matrix{ComplexF64}:\n",
       "  0.6+0.53im   0.6-0.53im  -0.14-0.58im  -0.14+0.58im\n",
       "  0.2+0.4im    0.2-0.4im    0.81+0.38im   0.81-0.38im\n",
       " 0.72-0.67im  0.72+0.67im    0.1+0.12im    0.1-0.12im\n",
       " 0.26+0.33im  0.26-0.33im  -0.56+0.71im  -0.56-0.71im"
      ]
     },
     "metadata": {},
     "output_type": "display_data"
    }
   ],
   "source": [
    "matdisplay(W_matrix(reg1.state))"
   ]
  },
  {
   "cell_type": "code",
   "execution_count": 226,
   "metadata": {},
   "outputs": [
    {
     "data": {
      "text/plain": [
       "4×4 Matrix{ComplexF64}:\n",
       "  0.6+0.53im   0.6-0.53im  -0.14-0.58im  -0.14+0.58im\n",
       "  0.2+0.4im    0.2-0.4im    0.81+0.38im   0.81-0.38im\n",
       " 0.72-0.67im  0.72+0.67im    0.1+0.12im    0.1-0.12im\n",
       " 0.26+0.33im  0.26-0.33im  -0.56+0.71im  -0.56-0.71im"
      ]
     },
     "metadata": {},
     "output_type": "display_data"
    }
   ],
   "source": [
    "matdisplay(W_matrix_tullio(reg1.state))"
   ]
  },
  {
   "cell_type": "code",
   "execution_count": 227,
   "metadata": {},
   "outputs": [
    {
     "data": {
      "text/plain": [
       "fidelity_observable_matrix (generic function with 2 methods)"
      ]
     },
     "execution_count": 227,
     "metadata": {},
     "output_type": "execute_result"
    }
   ],
   "source": [
    "function fidelity_observable_matrix(reg::MajoranaReg{T}) where {T}\n",
    "    n = nqubits(reg)\n",
    "    R = reg.state\n",
    "    W = W_matrix(R)\n",
    "    # matdisplay(W)\n",
    "\n",
    "    # Pretty sure this could be sped up with some explicit for loops\n",
    "    # A = transpose(W) * (I(n) ⊗ [1 -1im; 1im 1]) * W / 4\n",
    "    A_sym = transpose(W) * W / 4\n",
    "    # matdisplay(A_sym)\n",
    "    A_asym = transpose(W) * (I(n) ⊗ [0 -1im; 1im 0]) * W / 4\n",
    "    # matdisplay(A_asym)\n",
    "    \n",
    "    A = A_sym + A_asym\n",
    "\n",
    "    # Take the _correct_ anti-symmetric part of it!\n",
    "    for i in 1:2n\n",
    "        for j in i+1:2n\n",
    "            A[j,i] = -A[i,j]\n",
    "        end\n",
    "    end\n",
    "    A[diagind(A)] .= 0\n",
    "    return A\n",
    "end"
   ]
  },
  {
   "cell_type": "code",
   "execution_count": 228,
   "metadata": {},
   "outputs": [
    {
     "data": {
      "text/plain": [
       "fidelity_observable_matrix (generic function with 2 methods)"
      ]
     },
     "execution_count": 228,
     "metadata": {},
     "output_type": "execute_result"
    }
   ],
   "source": [
    "function fidelity_observable_matrix(R)\n",
    "    n = size(R, 1) ÷ 2\n",
    "    W = W_matrix(R)\n",
    "    # matdisplay(W)\n",
    "\n",
    "    # Pretty sure this could be sped up with some explicit for loops\n",
    "    # A = transpose(W) * (I(n) ⊗ [1 -1im; 1im 1]) * W / 4\n",
    "    A_sym = transpose(W) * W / 4\n",
    "    # matdisplay(A_sym)\n",
    "    A_asym = transpose(W) * (I(n) ⊗ [0 -1im; 1im 0]) * W / 4\n",
    "    # matdisplay(A_asym)\n",
    "    \n",
    "    A = A_sym + A_asym\n",
    "\n",
    "    # Take the _correct_ anti-symmetric part of it!\n",
    "    for i in 1:2n\n",
    "        for j in i+1:2n\n",
    "            A[j,i] = -A[i,j]\n",
    "        end\n",
    "    end\n",
    "    A[diagind(A)] .= 0\n",
    "    return A\n",
    "end"
   ]
  },
  {
   "cell_type": "code",
   "execution_count": 229,
   "metadata": {},
   "outputs": [
    {
     "data": {
      "text/plain": [
       "fidelity_observable_matrix_tullio (generic function with 1 method)"
      ]
     },
     "execution_count": 229,
     "metadata": {},
     "output_type": "execute_result"
    }
   ],
   "source": [
    "function fidelity_observable_matrix_tullio(reg::MajoranaReg{T}) where {T}\n",
    "    n = nqubits(reg)\n",
    "    g = [0 -1im; 1im 0]\n",
    "\n",
    "    W = reshape(W_matrix_tullio(reg.state), 2, n, 2, n)\n",
    "    # matdisplay(reshape(W, 2n, 2n))\n",
    "\n",
    "    @tullio A_sym[α,i,β,j] := W[μ,m,α,i] * W[μ,m,β,j] / 4\n",
    "    # matdisplay(reshape(A_sym, 2n, 2n))\n",
    "    @tullio A_asym[α,i,β,j] := W[μ,m,α,i] * g[μ, ν] * W[ν,m,β,j] / 4\n",
    "    # matdisplay(reshape(A_asym, 2n, 2n))\n",
    "    @tullio A[α,i,β,j] := A_sym[α,i,β,j] + A_asym[α,i,β,j]\n",
    "    \n",
    "    A = reshape(A, 2n, 2n)\n",
    "    for i in 1:2n\n",
    "        for j in i+1:2n\n",
    "            A[j,i] = -A[i,j]\n",
    "        end\n",
    "    end\n",
    "    A[diagind(A)] .= 0\n",
    "    return A\n",
    "end"
   ]
  },
  {
   "cell_type": "code",
   "execution_count": 230,
   "metadata": {},
   "outputs": [
    {
     "data": {
      "text/plain": [
       "4×4 Matrix{ComplexF64}:\n",
       "   0.0+0.0im   0.22-0.0im    0.41-0.04im   -0.0+0.0im\n",
       " -0.22+0.0im    0.0+0.0im     0.0+0.0im   -0.41-0.04im\n",
       " -0.41+0.04im  -0.0-0.0im     0.0+0.0im    0.22-0.0im\n",
       "   0.0-0.0im   0.41+0.04im  -0.22+0.0im     0.0+0.0im"
      ]
     },
     "metadata": {},
     "output_type": "display_data"
    }
   ],
   "source": [
    "A = fidelity_observable_matrix(reg1)\n",
    "# W = simplify.(W; expand=true)\n",
    "# A = simplify.(A; expand=true)\n",
    "matdisplay(A)"
   ]
  },
  {
   "cell_type": "code",
   "execution_count": 231,
   "metadata": {},
   "outputs": [
    {
     "data": {
      "text/plain": [
       "4×4 Matrix{ComplexF64}:\n",
       "   0.0+0.0im   0.22+0.0im    0.41-0.04im    0.0+0.0im\n",
       " -0.22-0.0im    0.0+0.0im     0.0+0.0im   -0.41-0.04im\n",
       " -0.41+0.04im  -0.0-0.0im     0.0+0.0im    0.22+0.0im\n",
       "  -0.0-0.0im   0.41+0.04im  -0.22-0.0im     0.0+0.0im"
      ]
     },
     "metadata": {},
     "output_type": "display_data"
    }
   ],
   "source": [
    "A = fidelity_observable_matrix_tullio(reg1)\n",
    "matdisplay(A)"
   ]
  },
  {
   "cell_type": "code",
   "execution_count": 232,
   "metadata": {},
   "outputs": [
    {
     "data": {
      "text/plain": [
       "B_matrix (generic function with 1 method)"
      ]
     },
     "execution_count": 232,
     "metadata": {},
     "output_type": "execute_result"
    }
   ],
   "source": [
    "function B_matrix(A_inv)\n",
    "    n = size(A_inv, 1) ÷ 2\n",
    "    B = zero(A_inv)\n",
    "    for i in 1:2:2n\n",
    "        B[:,i] .= A_inv[:,i] .+ A_inv[:,i+1]\n",
    "        B[:,i+1] .= -1im .* A_inv[:,i] .+ 1im .* A_inv[:,i+1]\n",
    "    end\n",
    "    return B\n",
    "end"
   ]
  },
  {
   "cell_type": "code",
   "execution_count": 233,
   "metadata": {},
   "outputs": [
    {
     "data": {
      "text/plain": [
       "B_matrix_tullio (generic function with 1 method)"
      ]
     },
     "execution_count": 233,
     "metadata": {},
     "output_type": "execute_result"
    }
   ],
   "source": [
    "function B_matrix_tullio(A_inv)\n",
    "    n = size(A_inv, 1) ÷ 2\n",
    "    A_inv = reshape(A_inv, 2, n, 2, n)\n",
    "    δ = Matrix(I(2))\n",
    "    @tullio B[β,j,γ,g] := A_inv[β,j,1,g] * (δ[γ,1] - 1im * δ[γ,2])  + A_inv[β,j,2,g] * (δ[γ,1] + 1im * δ[γ,2])\n",
    "    return reshape(B, 2n, 2n)\n",
    "end"
   ]
  },
  {
   "cell_type": "code",
   "execution_count": 234,
   "metadata": {},
   "outputs": [
    {
     "data": {
      "text/plain": [
       "0.04883173414591691 + 1.0408340855860843e-17im"
      ]
     },
     "execution_count": 234,
     "metadata": {},
     "output_type": "execute_result"
    }
   ],
   "source": [
    "A = fidelity_observable_matrix(reg1)\n",
    "det(A)"
   ]
  },
  {
   "cell_type": "code",
   "execution_count": 235,
   "metadata": {},
   "outputs": [
    {
     "data": {
      "text/plain": [
       "4×4 Matrix{ComplexF64}:\n",
       " -0.0-0.0im    -1.0+0.0im   -1.87-0.19im  -0.0-0.0im\n",
       "  1.0-0.0im     0.0-0.0im     0.0-0.0im   1.87-0.19im\n",
       " 1.87+0.19im   -0.0+0.0im     0.0-0.0im   -1.0+0.0im\n",
       "  0.0+0.0im   -1.87+0.19im    1.0-0.0im    0.0+0.0im"
      ]
     },
     "metadata": {},
     "output_type": "display_data"
    }
   ],
   "source": [
    "A_inv = inv(A)\n",
    "matdisplay(A_inv)"
   ]
  },
  {
   "cell_type": "code",
   "execution_count": 236,
   "metadata": {},
   "outputs": [
    {
     "data": {
      "text/plain": [
       "4×4 Matrix{ComplexF64}:\n",
       "  -1.0+0.0im    -0.0-1.0im   -1.87-0.19im  -0.19+1.87im\n",
       "   1.0-0.0im    -0.0-1.0im    1.87-0.19im   0.19+1.87im\n",
       "  1.87+0.19im   0.19-1.87im   -1.0+0.0im    -0.0-1.0im\n",
       " -1.87+0.19im  -0.19-1.87im    1.0-0.0im    -0.0-1.0im"
      ]
     },
     "metadata": {},
     "output_type": "display_data"
    }
   ],
   "source": [
    "B = B_matrix(A_inv)\n",
    "matdisplay(B)"
   ]
  },
  {
   "cell_type": "code",
   "execution_count": 237,
   "metadata": {},
   "outputs": [
    {
     "data": {
      "text/plain": [
       "4×4 Matrix{ComplexF64}:\n",
       "  -1.0+0.0im    -0.0-1.0im   -1.87-0.19im  -0.19+1.87im\n",
       "   1.0-0.0im    -0.0-1.0im    1.87-0.19im   0.19+1.87im\n",
       "  1.87+0.19im   0.19-1.87im   -1.0+0.0im    -0.0-1.0im\n",
       " -1.87+0.19im  -0.19-1.87im    1.0-0.0im    -0.0-1.0im"
      ]
     },
     "metadata": {},
     "output_type": "display_data"
    }
   ],
   "source": [
    "B = B_matrix_tullio(A_inv)\n",
    "matdisplay(B)"
   ]
  },
  {
   "cell_type": "code",
   "execution_count": 238,
   "metadata": {},
   "outputs": [
    {
     "data": {
      "text/plain": [
       "C_matrix (generic function with 1 method)"
      ]
     },
     "execution_count": 238,
     "metadata": {},
     "output_type": "execute_result"
    }
   ],
   "source": [
    "function C_matrix(W)\n",
    "    n = size(W, 1) ÷ 2\n",
    "    C = zero(W)\n",
    "    for i in 1:2:2n\n",
    "        C[:,i] .= -W[i+1,:] \n",
    "        C[:,i+1] .= W[i,:] \n",
    "    end\n",
    "    return C\n",
    "end"
   ]
  },
  {
   "cell_type": "code",
   "execution_count": 239,
   "metadata": {},
   "outputs": [
    {
     "data": {
      "text/plain": [
       "C_matrix_tullio (generic function with 1 method)"
      ]
     },
     "execution_count": 239,
     "metadata": {},
     "output_type": "execute_result"
    }
   ],
   "source": [
    "function C_matrix_tullio(W)\n",
    "    n = size(W, 1) ÷ 2\n",
    "    W = reshape(W, 2, n, 2, n)\n",
    "    g = [0 -1; 1 0]\n",
    "    ii = Matrix(I(n))\n",
    "    @tullio C[β,j,δ,d] := W[μ,m,β,j] * ii[d,m] * g[δ,μ]\n",
    "    return reshape(C, 2n, 2n)\n",
    "end"
   ]
  },
  {
   "cell_type": "code",
   "execution_count": 240,
   "metadata": {},
   "outputs": [
    {
     "data": {
      "text/plain": [
       "4×4 Matrix{ComplexF64}:\n",
       "  0.6+0.53im   0.6-0.53im  -0.14-0.58im  -0.14+0.58im\n",
       "  0.2+0.4im    0.2-0.4im    0.81+0.38im   0.81-0.38im\n",
       " 0.72-0.67im  0.72+0.67im    0.1+0.12im    0.1-0.12im\n",
       " 0.26+0.33im  0.26-0.33im  -0.56+0.71im  -0.56-0.71im"
      ]
     },
     "metadata": {},
     "output_type": "display_data"
    }
   ],
   "source": [
    "W = W_matrix(reg1.state)\n",
    "matdisplay(W)"
   ]
  },
  {
   "cell_type": "code",
   "execution_count": 241,
   "metadata": {},
   "outputs": [
    {
     "data": {
      "text/plain": [
       "4×4 Matrix{ComplexF64}:\n",
       "  -0.2-0.4im     0.6+0.53im  -0.26-0.33im  0.72-0.67im\n",
       "  -0.2+0.4im     0.6-0.53im  -0.26+0.33im  0.72+0.67im\n",
       " -0.81-0.38im  -0.14-0.58im   0.56-0.71im   0.1+0.12im\n",
       " -0.81+0.38im  -0.14+0.58im   0.56+0.71im   0.1-0.12im"
      ]
     },
     "metadata": {},
     "output_type": "display_data"
    }
   ],
   "source": [
    "C = C_matrix(W)\n",
    "matdisplay(C)"
   ]
  },
  {
   "cell_type": "code",
   "execution_count": 242,
   "metadata": {},
   "outputs": [
    {
     "data": {
      "text/plain": [
       "4×4 Matrix{ComplexF64}:\n",
       "  -0.2-0.4im     0.6+0.53im  -0.26-0.33im  0.72-0.67im\n",
       "  -0.2+0.4im     0.6-0.53im  -0.26+0.33im  0.72+0.67im\n",
       " -0.81-0.38im  -0.14-0.58im   0.56-0.71im   0.1+0.12im\n",
       " -0.81+0.38im  -0.14+0.58im   0.56+0.71im   0.1-0.12im"
      ]
     },
     "metadata": {},
     "output_type": "display_data"
    }
   ],
   "source": [
    "C = C_matrix_tullio(W)\n",
    "matdisplay(C)"
   ]
  },
  {
   "cell_type": "code",
   "execution_count": 243,
   "metadata": {},
   "outputs": [
    {
     "data": {
      "text/plain": [
       "C_tilde_matrix (generic function with 1 method)"
      ]
     },
     "execution_count": 243,
     "metadata": {},
     "output_type": "execute_result"
    }
   ],
   "source": [
    "function C_tilde_matrix(W)\n",
    "    return transpose(W)\n",
    "end"
   ]
  },
  {
   "cell_type": "code",
   "execution_count": 244,
   "metadata": {},
   "outputs": [
    {
     "data": {
      "text/plain": [
       "C_tilde_matrix_tullio (generic function with 1 method)"
      ]
     },
     "execution_count": 244,
     "metadata": {},
     "output_type": "execute_result"
    }
   ],
   "source": [
    "function C_tilde_matrix_tullio(W)\n",
    "    n = size(W, 1) ÷ 2\n",
    "    W = reshape(W, 2, n, 2, n)\n",
    "    @tullio C_tilde[β,j,δ,d] := W[δ,d,β,j]\n",
    "    return reshape(C_tilde, 2n, 2n)\n",
    "end"
   ]
  },
  {
   "cell_type": "code",
   "execution_count": 245,
   "metadata": {},
   "outputs": [
    {
     "data": {
      "text/plain": [
       "4×4 Matrix{ComplexF64}:\n",
       "   0.6+0.53im   0.2+0.4im   0.72-0.67im   0.26+0.33im\n",
       "   0.6-0.53im   0.2-0.4im   0.72+0.67im   0.26-0.33im\n",
       " -0.14-0.58im  0.81+0.38im   0.1+0.12im  -0.56+0.71im\n",
       " -0.14+0.58im  0.81-0.38im   0.1-0.12im  -0.56-0.71im"
      ]
     },
     "metadata": {},
     "output_type": "display_data"
    }
   ],
   "source": [
    "C = C_tilde_matrix(W)\n",
    "matdisplay(C)"
   ]
  },
  {
   "cell_type": "code",
   "execution_count": 246,
   "metadata": {},
   "outputs": [
    {
     "data": {
      "text/plain": [
       "4×4 Matrix{ComplexF64}:\n",
       "   0.6+0.53im   0.2+0.4im   0.72-0.67im   0.26+0.33im\n",
       "   0.6-0.53im   0.2-0.4im   0.72+0.67im   0.26-0.33im\n",
       " -0.14-0.58im  0.81+0.38im   0.1+0.12im  -0.56+0.71im\n",
       " -0.14+0.58im  0.81-0.38im   0.1-0.12im  -0.56-0.71im"
      ]
     },
     "metadata": {},
     "output_type": "display_data"
    }
   ],
   "source": [
    "C = C_tilde_matrix_tullio(W)\n",
    "matdisplay(C)"
   ]
  },
  {
   "cell_type": "code",
   "execution_count": 247,
   "metadata": {},
   "outputs": [
    {
     "data": {
      "text/plain": [
       "B_tilde_matrix (generic function with 1 method)"
      ]
     },
     "execution_count": 247,
     "metadata": {},
     "output_type": "execute_result"
    }
   ],
   "source": [
    "function B_tilde_matrix(A_inv)\n",
    "    n = size(A_inv, 1) ÷ 2\n",
    "    B_tilde = zero(A_inv)\n",
    "    for g in 1:2:2n, j in 1:2:2n\n",
    "        if j < g\n",
    "            B_tilde[j,g] = -A_inv[j,g] + 1im * A_inv[j,g+1]\n",
    "            B_tilde[j+1,g] = 1im * A_inv[j+1,g] - A_inv[j+1,g+1]\n",
    "            B_tilde[j,g+1] = 1im * A_inv[j,g] + A_inv[j,g+1]\n",
    "            B_tilde[j+1,g+1] = -A_inv[j+1,g] - 1im * A_inv[j+1,g+1]\n",
    "        elseif j > g\n",
    "            B_tilde[j,g] = A_inv[j,g] - 1im * A_inv[j,g+1]\n",
    "            B_tilde[j+1,g] = -1im * A_inv[j+1,g] + A_inv[j+1,g+1]\n",
    "            B_tilde[j,g+1] = -1im * A_inv[j,g] - A_inv[j,g+1]\n",
    "            B_tilde[j+1,g+1] = A_inv[j+1,g] + 1im * A_inv[j+1,g+1]\n",
    "        else # j == g #  \n",
    "            B_tilde[j,g] = -A_inv[j,g+1]\n",
    "            B_tilde[j+1,g] = A_inv[j+1,g]\n",
    "            B_tilde[j,g+1] = -1im * A_inv[j,g+1]\n",
    "            B_tilde[j+1,g+1] = -1im * A_inv[j+1,g]\n",
    "        end\n",
    "    end\n",
    "    return B_tilde\n",
    "end"
   ]
  },
  {
   "cell_type": "code",
   "execution_count": 248,
   "metadata": {},
   "outputs": [
    {
     "data": {
      "text/plain": [
       "B_tilde_matrix_tullio (generic function with 1 method)"
      ]
     },
     "execution_count": 248,
     "metadata": {},
     "output_type": "execute_result"
    }
   ],
   "source": [
    "function B_tilde_matrix_tullio(A_inv)\n",
    "    n = size(A_inv, 1) ÷ 2\n",
    "    # A_inv = reshape(A_inv, 2, n, 2, n)\n",
    "    δ = Matrix(I(2))\n",
    "    Δ = Matrix(I(n))\n",
    "    @tullio D[γ,g,α,i] := Δ[g,i] * (δ[γ,1] + 1im * (-1)^α * δ[γ,2]) (α in 1:2)\n",
    "    # matdisplay(reshape(D, 2n, 2n))\n",
    "    D = reshape(D, 2n, 2n)\n",
    "    # i = iα, j = jβ, g = gγ\n",
    "    B = zero(A_inv)\n",
    "    for g in 1:2n, j in 1:2n\n",
    "        for i in 1:j-1\n",
    "            B[j,g] += A_inv[j,i] * D[g,i]\n",
    "        end\n",
    "        for i in j+1:2n\n",
    "            B[j,g] -= A_inv[j,i] * D[g,i]\n",
    "        end\n",
    "    end\n",
    "    return B\n",
    "end"
   ]
  },
  {
   "cell_type": "code",
   "execution_count": 249,
   "metadata": {},
   "outputs": [
    {
     "data": {
      "text/plain": [
       "4×4 Matrix{ComplexF64}:\n",
       " -0.0-0.0im    -1.0+0.0im   -1.87-0.19im  -0.0-0.0im\n",
       "  1.0-0.0im     0.0-0.0im     0.0-0.0im   1.87-0.19im\n",
       " 1.87+0.19im   -0.0+0.0im     0.0-0.0im   -1.0+0.0im\n",
       "  0.0+0.0im   -1.87+0.19im    1.0-0.0im    0.0+0.0im"
      ]
     },
     "metadata": {},
     "output_type": "display_data"
    }
   ],
   "source": [
    "A_inv |> matdisplay"
   ]
  },
  {
   "cell_type": "code",
   "execution_count": 250,
   "metadata": {},
   "outputs": [
    {
     "data": {
      "text/plain": [
       "4×4 Matrix{ComplexF64}:\n",
       "   1.0-0.0im     0.0+1.0im    1.87+0.19im   0.19-1.87im\n",
       "   1.0-0.0im    -0.0-1.0im   -1.87+0.19im  -0.19-1.87im\n",
       "  1.87+0.19im   0.19-1.87im    1.0-0.0im     0.0+1.0im\n",
       " -1.87+0.19im  -0.19-1.87im    1.0-0.0im    -0.0-1.0im"
      ]
     },
     "metadata": {},
     "output_type": "display_data"
    }
   ],
   "source": [
    "B_tilde = B_tilde_matrix(A_inv)\n",
    "matdisplay(B_tilde)"
   ]
  },
  {
   "cell_type": "code",
   "execution_count": 251,
   "metadata": {},
   "outputs": [
    {
     "data": {
      "text/plain": [
       "4×4 Matrix{ComplexF64}:\n",
       "   1.0-0.0im     0.0+1.0im    1.87+0.19im   0.19-1.87im\n",
       "   1.0-0.0im    -0.0-1.0im   -1.87+0.19im  -0.19-1.87im\n",
       "  1.87+0.19im   0.19-1.87im    1.0-0.0im     0.0+1.0im\n",
       " -1.87+0.19im  -0.19-1.87im    1.0-0.0im    -0.0-1.0im"
      ]
     },
     "metadata": {},
     "output_type": "display_data"
    }
   ],
   "source": [
    "B_tilde = B_tilde_matrix_tullio(A_inv)\n",
    "matdisplay(B_tilde)"
   ]
  },
  {
   "cell_type": "code",
   "execution_count": 275,
   "metadata": {},
   "outputs": [
    {
     "data": {
      "text/plain": [
       "fidelity_gradient (generic function with 2 methods)"
      ]
     },
     "execution_count": 275,
     "metadata": {},
     "output_type": "execute_result"
    }
   ],
   "source": [
    "function fidelity_gradient(R)\n",
    "    n = size(R, 1) ÷ 2\n",
    "    W = W_matrix(R)\n",
    "    \n",
    "    # Todo: Reuse W here!\n",
    "    A = fidelity_observable_matrix(R)\n",
    "    val = pfaffian(A)\n",
    "    A_inv = inv(A)\n",
    "    \n",
    "    B = B_matrix(A_inv)\n",
    "    C = C_matrix(W)\n",
    "    B_tilde = B_tilde_matrix(A_inv)\n",
    "    C_tilde = C_tilde_matrix(W)\n",
    "    \n",
    "    # The real part of this is correct. But where is the imaginary part from?\n",
    "    #             purely real             not purely real, a bug?\n",
    "    return val * (1im * transpose(C) * B + transpose(C_tilde) * B_tilde) / 4\n",
    "end"
   ]
  },
  {
   "cell_type": "code",
   "execution_count": 253,
   "metadata": {},
   "outputs": [
    {
     "data": {
      "text/plain": [
       "fidelity_manual (generic function with 1 method)"
      ]
     },
     "execution_count": 253,
     "metadata": {},
     "output_type": "execute_result"
    }
   ],
   "source": [
    "function fidelity_manual(R)\n",
    "    A = fidelity_observable_matrix(MajoranaReg(R))\n",
    "    return real(pfaffian(A))\n",
    "end"
   ]
  },
  {
   "cell_type": "code",
   "execution_count": 254,
   "metadata": {},
   "outputs": [
    {
     "data": {
      "text/plain": [
       "fidelity_gradient_fdm (generic function with 1 method)"
      ]
     },
     "execution_count": 254,
     "metadata": {},
     "output_type": "execute_result"
    }
   ],
   "source": [
    "function fidelity_gradient_fdm(R)\n",
    "    grad(central_fdm(5, 1), fidelity_manual, R)\n",
    "end"
   ]
  },
  {
   "cell_type": "code",
   "execution_count": 272,
   "metadata": {},
   "outputs": [
    {
     "data": {
      "text/plain": [
       "6×6 Matrix{Float64}:\n",
       " -0.408238    0.626119    0.110955   -0.209045   0.019824   -0.620414\n",
       " -0.433502    0.165828    0.117592    0.821059  -0.246684    0.189098\n",
       "  0.562909    0.212708    0.779704    0.126915  -0.0998383  -0.0622469\n",
       "  0.56018     0.456798   -0.584169    0.339005   0.077611   -0.123823\n",
       " -0.0715667  -0.0990622   0.149642    0.263141   0.941411   -0.0847027\n",
       " -0.0981186   0.562809    0.0477093  -0.286159   0.191072    0.743604"
      ]
     },
     "execution_count": 272,
     "metadata": {},
     "output_type": "execute_result"
    }
   ],
   "source": [
    "R = reg1.state"
   ]
  },
  {
   "cell_type": "code",
   "execution_count": 276,
   "metadata": {},
   "outputs": [
    {
     "data": {
      "text/plain": [
       "6×6 Matrix{Float64}:\n",
       " -0.19   0.44   0.25  -0.16   0.05  -0.24\n",
       " -0.39  -0.03   0.13   0.45  -0.01   0.1\n",
       "  0.36  -0.0    0.43   0.18  -0.08   0.05\n",
       "  0.22   0.33  -0.31   0.31  -0.04  -0.09\n",
       "  0.06  -0.08   0.03   0.04   0.58  -0.06\n",
       "  0.03   0.24   0.05  -0.1    0.09   0.52"
      ]
     },
     "metadata": {},
     "output_type": "display_data"
    }
   ],
   "source": [
    "fidelity_gradient(reg1.state) .|> real |> matdisplay"
   ]
  },
  {
   "cell_type": "code",
   "execution_count": 274,
   "metadata": {},
   "outputs": [
    {
     "data": {
      "text/plain": [
       "6×6 Matrix{Float64}:\n",
       " -0.19   0.44   0.25  -0.16   0.05  -0.24\n",
       " -0.39  -0.03   0.13   0.45  -0.01   0.1\n",
       "  0.36  -0.0    0.43   0.18  -0.08   0.05\n",
       "  0.22   0.33  -0.31   0.31  -0.04  -0.09\n",
       "  0.06  -0.08   0.03   0.04   0.58  -0.06\n",
       "  0.03   0.24   0.05  -0.1    0.09   0.52"
      ]
     },
     "metadata": {},
     "output_type": "display_data"
    }
   ],
   "source": [
    "fidelity_gradient_fdm(reg1.state)[1] |> matdisplay"
   ]
  },
  {
   "cell_type": "code",
   "execution_count": 357,
   "metadata": {},
   "outputs": [
    {
     "data": {
      "text/plain": [
       "wrapped_pfaffian (generic function with 1 method)"
      ]
     },
     "execution_count": 357,
     "metadata": {},
     "output_type": "execute_result"
    }
   ],
   "source": [
    "function wrapped_pfaffian(R)\n",
    "    R = R - transpose(R)\n",
    "    R = SkewHermitian(R)\n",
    "    return pfaffian(R)\n",
    "end"
   ]
  },
  {
   "cell_type": "code",
   "execution_count": 358,
   "metadata": {},
   "outputs": [
    {
     "data": {
      "text/plain": [
       "4×4 Matrix{Float64}:\n",
       "  2.84086e-15   1.19022      -0.17811       1.68581\n",
       " -1.19022       2.84086e-15   0.249298     -0.412555\n",
       "  0.17811      -0.249298      2.84086e-15   0.772645\n",
       " -1.68581       0.412555     -0.772645      2.84086e-15"
      ]
     },
     "execution_count": 358,
     "metadata": {},
     "output_type": "execute_result"
    }
   ],
   "source": [
    "A = rand(4, 4)\n",
    "A = A - transpose(A)\n",
    "# A = SkewHermitian(A)\n",
    "grad(central_fdm(5, 1), wrapped_pfaffian, A)[1]"
   ]
  },
  {
   "cell_type": "code",
   "execution_count": 360,
   "metadata": {},
   "outputs": [
    {
     "data": {
      "text/plain": [
       "4×4 Matrix{Float64}:\n",
       "  9.35812e-17   1.19022      -0.17811       1.68581\n",
       " -1.19022      -1.75749e-17   0.249298     -0.412555\n",
       "  0.17811      -0.249298      1.75749e-17   0.772645\n",
       " -1.68581       0.412555     -0.772645     -0.0"
      ]
     },
     "execution_count": 360,
     "metadata": {},
     "output_type": "execute_result"
    }
   ],
   "source": [
    "-2pfaffian(A) * inv(A)"
   ]
  },
  {
   "cell_type": "markdown",
   "metadata": {},
   "source": [
    "## Debugging 1 qubit with Symbolics"
   ]
  },
  {
   "cell_type": "code",
   "execution_count": 45,
   "metadata": {},
   "outputs": [
    {
     "data": {
      "text/latex": [
       "$$ \\begin{equation}\n",
       "\\left[\n",
       "\\begin{array}{c}\n",
       "\\varphi \\\\\n",
       "\\end{array}\n",
       "\\right]\n",
       "\\end{equation}\n",
       " $$"
      ],
      "text/plain": [
       "1-element Vector{Num}:\n",
       " φ"
      ]
     },
     "execution_count": 45,
     "metadata": {},
     "output_type": "execute_result"
    }
   ],
   "source": [
    "@variables φ"
   ]
  },
  {
   "cell_type": "code",
   "execution_count": 59,
   "metadata": {},
   "outputs": [
    {
     "data": {
      "text/latex": [
       "$$ \\begin{equation}\n",
       "\\left[\n",
       "\\begin{array}{c}\n",
       "c \\\\\n",
       "s \\\\\n",
       "\\end{array}\n",
       "\\right]\n",
       "\\end{equation}\n",
       " $$"
      ],
      "text/plain": [
       "2-element Vector{Num}:\n",
       " c\n",
       " s"
      ]
     },
     "execution_count": 59,
     "metadata": {},
     "output_type": "execute_result"
    }
   ],
   "source": [
    "@variables c, s"
   ]
  },
  {
   "cell_type": "code",
   "execution_count": 66,
   "metadata": {},
   "outputs": [
    {
     "data": {
      "text/latex": [
       "$$ \\begin{equation}\n",
       "\\left[\n",
       "\\begin{array}{cc}\n",
       "\\cos\\left( \\varphi \\right) &  - \\sin\\left( \\varphi \\right) \\\\\n",
       "\\sin\\left( \\varphi \\right) & \\cos\\left( \\varphi \\right) \\\\\n",
       "\\end{array}\n",
       "\\right]\n",
       "\\end{equation}\n",
       " $$"
      ],
      "text/plain": [
       "2×2 Matrix{Num}:\n",
       " cos(φ)  -sin(φ)\n",
       " sin(φ)   cos(φ)"
      ]
     },
     "execution_count": 66,
     "metadata": {},
     "output_type": "execute_result"
    }
   ],
   "source": [
    "R = [cos(φ) -sin(φ); sin(φ) cos(φ)]"
   ]
  },
  {
   "cell_type": "code",
   "execution_count": 60,
   "metadata": {},
   "outputs": [
    {
     "data": {
      "text/latex": [
       "$$ \\begin{equation}\n",
       "\\left[\n",
       "\\begin{array}{cc}\n",
       "c &  - s \\\\\n",
       "s & c \\\\\n",
       "\\end{array}\n",
       "\\right]\n",
       "\\end{equation}\n",
       " $$"
      ],
      "text/plain": [
       "2×2 Matrix{Num}:\n",
       " c  -s\n",
       " s   c"
      ]
     },
     "execution_count": 60,
     "metadata": {},
     "output_type": "execute_result"
    }
   ],
   "source": [
    "R = [c -s; s c]"
   ]
  },
  {
   "cell_type": "code",
   "execution_count": 130,
   "metadata": {},
   "outputs": [
    {
     "data": {
      "text/latex": [
       "$$ \\begin{equation}\n",
       "\\left[\n",
       "\\begin{array}{cc}\n",
       "R_{1}ˏ_1 & R_{1}ˏ_2 \\\\\n",
       "R_{2}ˏ_1 & R_{2}ˏ_2 \\\\\n",
       "\\end{array}\n",
       "\\right]\n",
       "\\end{equation}\n",
       " $$"
      ],
      "text/plain": [
       "2×2 Matrix{Num}:\n",
       " R₁ˏ₁  R₁ˏ₂\n",
       " R₂ˏ₁  R₂ˏ₂"
      ]
     },
     "execution_count": 130,
     "metadata": {},
     "output_type": "execute_result"
    }
   ],
   "source": [
    "R = Symbolics.variables(:R, 1:2, 1:2)"
   ]
  },
  {
   "cell_type": "code",
   "execution_count": 212,
   "metadata": {},
   "outputs": [
    {
     "data": {
      "text/plain": [
       "fidelity_gradient (generic function with 2 methods)"
      ]
     },
     "execution_count": 212,
     "metadata": {},
     "output_type": "execute_result"
    }
   ],
   "source": [
    "function fidelity_gradient(R::Matrix{Num})\n",
    "    n = size(R, 1) ÷ 2\n",
    "    W = W_matrix(R)\n",
    "    \n",
    "    # Todo: Reuse W here!\n",
    "    A = fidelity_observable_matrix(R)\n",
    "    # display(A)\n",
    "    val = A[1,2] # pfaffian(A) # only consider 1 qubit case here\n",
    "    A_inv = inv(A)\n",
    "    # display(A)\n",
    "    # display(A_inv)\n",
    "    \n",
    "    B = B_matrix(A_inv)\n",
    "    C = C_matrix(W)\n",
    "    B_tilde = B_tilde_matrix(A_inv)\n",
    "    C_tilde = C_tilde_matrix(W)\n",
    "    \n",
    "    return val * (1im * transpose(C) * B + transpose(C_tilde) * B_tilde)\n",
    "end"
   ]
  },
  {
   "cell_type": "code",
   "execution_count": 182,
   "metadata": {},
   "outputs": [
    {
     "data": {
      "text/latex": [
       "$$ \\begin{equation}\n",
       "\\left[\n",
       "\\begin{array}{cc}\n",
       "\\left( \\frac{R_{1}ˏ_1}{\\frac{1}{4} \\left( R_{1}ˏ_1^{2} + R_{1}ˏ_2^{2} + R_{2}ˏ_1^{2} + R_{2}ˏ_2^{2} \\right) + \\frac{1}{4} \\left( 2 R_{1}ˏ_1 R_{2}ˏ_2 - 2 R_{1}ˏ_2 R_{2}ˏ_1 \\right)} + \\frac{R_{2}ˏ_2}{\\frac{1}{4} \\left( R_{1}ˏ_1^{2} + R_{1}ˏ_2^{2} + R_{2}ˏ_1^{2} + R_{2}ˏ_2^{2} \\right) + \\frac{1}{4} \\left( 2 R_{1}ˏ_1 R_{2}ˏ_2 - 2 R_{1}ˏ_2 R_{2}ˏ_1 \\right)} + \\frac{ - R_{2}ˏ_2}{ - \\frac{1}{4} \\left( R_{1}ˏ_1^{2} + R_{1}ˏ_2^{2} + R_{2}ˏ_1^{2} + R_{2}ˏ_2^{2} \\right) - \\frac{1}{4} \\left( 2 R_{1}ˏ_1 R_{2}ˏ_2 - 2 R_{1}ˏ_2 R_{2}ˏ_1 \\right)} - R_{1}ˏ_1 \\frac{1}{ - \\frac{1}{4} \\left( R_{1}ˏ_1^{2} + R_{1}ˏ_2^{2} + R_{2}ˏ_1^{2} + R_{2}ˏ_2^{2} \\right) - \\frac{1}{4} \\left( 2 R_{1}ˏ_1 R_{2}ˏ_2 - 2 R_{1}ˏ_2 R_{2}ˏ_1 \\right)} \\right) \\left( \\frac{1}{4} \\left( R_{1}ˏ_1^{2} + R_{1}ˏ_2^{2} + R_{2}ˏ_1^{2} + R_{2}ˏ_2^{2} \\right) + \\frac{1}{4} \\left( 2 R_{1}ˏ_1 R_{2}ˏ_2 - 2 R_{1}ˏ_2 R_{2}ˏ_1 \\right) \\right) & \\left( \\frac{1}{4} \\left( R_{1}ˏ_1^{2} + R_{1}ˏ_2^{2} + R_{2}ˏ_1^{2} + R_{2}ˏ_2^{2} \\right) + \\frac{1}{4} \\left( 2 R_{1}ˏ_1 R_{2}ˏ_2 - 2 R_{1}ˏ_2 R_{2}ˏ_1 \\right) \\right) \\left( \\frac{R_{1}ˏ_2}{\\frac{1}{4} \\left( R_{1}ˏ_1^{2} + R_{1}ˏ_2^{2} + R_{2}ˏ_1^{2} + R_{2}ˏ_2^{2} \\right) + \\frac{1}{4} \\left( 2 R_{1}ˏ_1 R_{2}ˏ_2 - 2 R_{1}ˏ_2 R_{2}ˏ_1 \\right)} + \\frac{ - R_{2}ˏ_1}{\\frac{1}{4} \\left( R_{1}ˏ_1^{2} + R_{1}ˏ_2^{2} + R_{2}ˏ_1^{2} + R_{2}ˏ_2^{2} \\right) + \\frac{1}{4} \\left( 2 R_{1}ˏ_1 R_{2}ˏ_2 - 2 R_{1}ˏ_2 R_{2}ˏ_1 \\right)} + \\frac{ - R_{1}ˏ_2}{ - \\frac{1}{4} \\left( R_{1}ˏ_1^{2} + R_{1}ˏ_2^{2} + R_{2}ˏ_1^{2} + R_{2}ˏ_2^{2} \\right) - \\frac{1}{4} \\left( 2 R_{1}ˏ_1 R_{2}ˏ_2 - 2 R_{1}ˏ_2 R_{2}ˏ_1 \\right)} + \\frac{R_{2}ˏ_1}{ - \\frac{1}{4} \\left( R_{1}ˏ_1^{2} + R_{1}ˏ_2^{2} + R_{2}ˏ_1^{2} + R_{2}ˏ_2^{2} \\right) - \\frac{1}{4} \\left( 2 R_{1}ˏ_1 R_{2}ˏ_2 - 2 R_{1}ˏ_2 R_{2}ˏ_1 \\right)} \\right) \\\\\n",
       "\\left( \\frac{1}{4} \\left( R_{1}ˏ_1^{2} + R_{1}ˏ_2^{2} + R_{2}ˏ_1^{2} + R_{2}ˏ_2^{2} \\right) + \\frac{1}{4} \\left( 2 R_{1}ˏ_1 R_{2}ˏ_2 - 2 R_{1}ˏ_2 R_{2}ˏ_1 \\right) \\right) \\left( \\frac{R_{2}ˏ_1}{\\frac{1}{4} \\left( R_{1}ˏ_1^{2} + R_{1}ˏ_2^{2} + R_{2}ˏ_1^{2} + R_{2}ˏ_2^{2} \\right) + \\frac{1}{4} \\left( 2 R_{1}ˏ_1 R_{2}ˏ_2 - 2 R_{1}ˏ_2 R_{2}ˏ_1 \\right)} + \\frac{R_{1}ˏ_2}{ - \\frac{1}{4} \\left( R_{1}ˏ_1^{2} + R_{1}ˏ_2^{2} + R_{2}ˏ_1^{2} + R_{2}ˏ_2^{2} \\right) - \\frac{1}{4} \\left( 2 R_{1}ˏ_1 R_{2}ˏ_2 - 2 R_{1}ˏ_2 R_{2}ˏ_1 \\right)} + \\frac{ - R_{1}ˏ_2}{\\frac{1}{4} \\left( R_{1}ˏ_1^{2} + R_{1}ˏ_2^{2} + R_{2}ˏ_1^{2} + R_{2}ˏ_2^{2} \\right) + \\frac{1}{4} \\left( 2 R_{1}ˏ_1 R_{2}ˏ_2 - 2 R_{1}ˏ_2 R_{2}ˏ_1 \\right)} - R_{2}ˏ_1 \\frac{1}{ - \\frac{1}{4} \\left( R_{1}ˏ_1^{2} + R_{1}ˏ_2^{2} + R_{2}ˏ_1^{2} + R_{2}ˏ_2^{2} \\right) - \\frac{1}{4} \\left( 2 R_{1}ˏ_1 R_{2}ˏ_2 - 2 R_{1}ˏ_2 R_{2}ˏ_1 \\right)} \\right) & \\left( \\frac{1}{4} \\left( R_{1}ˏ_1^{2} + R_{1}ˏ_2^{2} + R_{2}ˏ_1^{2} + R_{2}ˏ_2^{2} \\right) + \\frac{1}{4} \\left( 2 R_{1}ˏ_1 R_{2}ˏ_2 - 2 R_{1}ˏ_2 R_{2}ˏ_1 \\right) \\right) \\left( \\frac{R_{1}ˏ_1}{\\frac{1}{4} \\left( R_{1}ˏ_1^{2} + R_{1}ˏ_2^{2} + R_{2}ˏ_1^{2} + R_{2}ˏ_2^{2} \\right) + \\frac{1}{4} \\left( 2 R_{1}ˏ_1 R_{2}ˏ_2 - 2 R_{1}ˏ_2 R_{2}ˏ_1 \\right)} + \\frac{ - R_{1}ˏ_1}{ - \\frac{1}{4} \\left( R_{1}ˏ_1^{2} + R_{1}ˏ_2^{2} + R_{2}ˏ_1^{2} + R_{2}ˏ_2^{2} \\right) - \\frac{1}{4} \\left( 2 R_{1}ˏ_1 R_{2}ˏ_2 - 2 R_{1}ˏ_2 R_{2}ˏ_1 \\right)} + \\frac{R_{2}ˏ_2}{\\frac{1}{4} \\left( R_{1}ˏ_1^{2} + R_{1}ˏ_2^{2} + R_{2}ˏ_1^{2} + R_{2}ˏ_2^{2} \\right) + \\frac{1}{4} \\left( 2 R_{1}ˏ_1 R_{2}ˏ_2 - 2 R_{1}ˏ_2 R_{2}ˏ_1 \\right)} + \\frac{ - R_{2}ˏ_2}{ - \\frac{1}{4} \\left( R_{1}ˏ_1^{2} + R_{1}ˏ_2^{2} + R_{2}ˏ_1^{2} + R_{2}ˏ_2^{2} \\right) - \\frac{1}{4} \\left( 2 R_{1}ˏ_1 R_{2}ˏ_2 - 2 R_{1}ˏ_2 R_{2}ˏ_1 \\right)} \\right) \\\\\n",
       "\\end{array}\n",
       "\\right]\n",
       "\\end{equation}\n",
       " $$"
      ],
      "text/plain": [
       "2×2 Matrix{Complex{Num}}:\n",
       " (R₁ˏ₁ / ((1//4)*(R₁ˏ₁^2 + R₁ˏ₂^2 + R₂ˏ₁^2 + R₂ˏ₂^2) + (1//4)*(2R₁ˏ₁*R₂ˏ₂ - 2R₁ˏ₂*R₂ˏ₁)) + R₂ˏ₂ / ((1//4)*(R₁ˏ₁^2 + R₁ˏ₂^2 + R₂ˏ₁^2 + R₂ˏ₂^2) + (1//4)*(2R₁ˏ₁*R₂ˏ₂ - 2R₁ˏ₂*R₂ˏ₁)) + (-R₂ˏ₂) / (-(1//4)*(R₁ˏ₁^2 + R₁ˏ₂^2 + R₂ˏ₁^2 + R₂ˏ₂^2) - (1//4)*(2R₁ˏ₁*R₂ˏ₂ - 2R₁ˏ₂*R₂ˏ₁)) - R₁ˏ₁*(1 / (-(1//4)*(R₁ˏ₁^2 + R₁ˏ₂^2 + R₂ˏ₁^2 + R₂ˏ₂^2) - (1//4)*(2R₁ˏ₁*R₂ˏ₂ - 2R₁ˏ₂*R₂ˏ₁))))*((1//4)*(R₁ˏ₁^2 + R₁ˏ₂^2 + R₂ˏ₁^2 + R₂ˏ₂^2) + (1//4)*(2R₁ˏ₁*R₂ˏ₂ - 2R₁ˏ₂*R₂ˏ₁)) + ((1//4)*(R₁ˏ₁^2 + R₁ˏ₂^2 + R₂ˏ₁^2 + R₂ˏ₂^2) + (1//4)*(2R₁ˏ₁*R₂ˏ₂ - 2R₁ˏ₂*R₂ˏ₁))*((-R₂ˏ₁) / (-(1//4)*(R₁ˏ₁^2 + R₁ˏ₂^2 + R₂ˏ₁^2 + R₂ˏ₂^2) - (1//4)*(2R₁ˏ₁*R₂ˏ₂ - 2R₁ˏ₂*R₂ˏ₁)) + R₁ˏ₂ / ((1//4)*(R₁ˏ₁^2 + R₁ˏ₂^2 + R₂ˏ₁^2 + R₂ˏ₂^2) + (1//4)*(2R₁ˏ₁*R₂ˏ₂ - 2R₁ˏ₂*R₂ˏ₁)) + (-R₂ˏ₁) / ((1//4)*(R₁ˏ₁^2 + R₁ˏ₂^2 + R₂ˏ₁^2 + R₂ˏ₂^2) + (1//4)*(2R₁ˏ₁*R₂ˏ₂ - 2R₁ˏ₂*R₂ˏ₁)) + R₁ˏ₂*(1 / (-(1//4)*(R₁ˏ₁^2 + R₁ˏ₂^2 + R₂ˏ₁^2 + R₂ˏ₂^2) - (1//4)*(2R₁ˏ₁*R₂ˏ₂ - 2R₁ˏ₂*R₂ˏ₁))))*im  …  ((1//4)*(R₁ˏ₁^2 + R₁ˏ₂^2 + R₂ˏ₁^2 + R₂ˏ₂^2) + (1//4)*(2R₁ˏ₁*R₂ˏ₂ - 2R₁ˏ₂*R₂ˏ₁))*(R₁ˏ₂ / ((1//4)*(R₁ˏ₁^2 + R₁ˏ₂^2 + R₂ˏ₁^2 + R₂ˏ₂^2) + (1//4)*(2R₁ˏ₁*R₂ˏ₂ - 2R₁ˏ₂*R₂ˏ₁)) + (-R₂ˏ₁) / ((1//4)*(R₁ˏ₁^2 + R₁ˏ₂^2 + R₂ˏ₁^2 + R₂ˏ₂^2) + (1//4)*(2R₁ˏ₁*R₂ˏ₂ - 2R₁ˏ₂*R₂ˏ₁)) + (-R₁ˏ₂) / (-(1//4)*(R₁ˏ₁^2 + R₁ˏ₂^2 + R₂ˏ₁^2 + R₂ˏ₂^2) - (1//4)*(2R₁ˏ₁*R₂ˏ₂ - 2R₁ˏ₂*R₂ˏ₁)) + R₂ˏ₁ / (-(1//4)*(R₁ˏ₁^2 + R₁ˏ₂^2 + R₂ˏ₁^2 + R₂ˏ₂^2) - (1//4)*(2R₁ˏ₁*R₂ˏ₂ - 2R₁ˏ₂*R₂ˏ₁))) + ((1//4)*(R₁ˏ₁^2 + R₁ˏ₂^2 + R₂ˏ₁^2 + R₂ˏ₂^2) + (1//4)*(2R₁ˏ₁*R₂ˏ₂ - 2R₁ˏ₂*R₂ˏ₁))*im*((-R₂ˏ₂) / ((1//4)*(R₁ˏ₁^2 + R₁ˏ₂^2 + R₂ˏ₁^2 + R₂ˏ₂^2) + (1//4)*(2R₁ˏ₁*R₂ˏ₂ - 2R₁ˏ₂*R₂ˏ₁)) + (-R₁ˏ₁) / (-(1//4)*(R₁ˏ₁^2 + R₁ˏ₂^2 + R₂ˏ₁^2 + R₂ˏ₂^2) - (1//4)*(2R₁ˏ₁*R₂ˏ₂ - 2R₁ˏ₂*R₂ˏ₁)) + (-R₁ˏ₁) / ((1//4)*(R₁ˏ₁^2 + R₁ˏ₂^2 + R₂ˏ₁^2 + R₂ˏ₂^2) + (1//4)*(2R₁ˏ₁*R₂ˏ₂ - 2R₁ˏ₂*R₂ˏ₁)) + (-R₂ˏ₂) / (-(1//4)*(R₁ˏ₁^2 + R₁ˏ₂^2 + R₂ˏ₁^2 + R₂ˏ₂^2) - (1//4)*(2R₁ˏ₁*R₂ˏ₂ - 2R₁ˏ₂*R₂ˏ₁)))\n",
       "       ((1//4)*(R₁ˏ₁^2 + R₁ˏ₂^2 + R₂ˏ₁^2 + R₂ˏ₂^2) + (1//4)*(2R₁ˏ₁*R₂ˏ₂ - 2R₁ˏ₂*R₂ˏ₁))*(R₂ˏ₁ / ((1//4)*(R₁ˏ₁^2 + R₁ˏ₂^2 + R₂ˏ₁^2 + R₂ˏ₂^2) + (1//4)*(2R₁ˏ₁*R₂ˏ₂ - 2R₁ˏ₂*R₂ˏ₁)) + R₁ˏ₂ / (-(1//4)*(R₁ˏ₁^2 + R₁ˏ₂^2 + R₂ˏ₁^2 + R₂ˏ₂^2) - (1//4)*(2R₁ˏ₁*R₂ˏ₂ - 2R₁ˏ₂*R₂ˏ₁)) + (-R₁ˏ₂) / ((1//4)*(R₁ˏ₁^2 + R₁ˏ₂^2 + R₂ˏ₁^2 + R₂ˏ₂^2) + (1//4)*(2R₁ˏ₁*R₂ˏ₂ - 2R₁ˏ₂*R₂ˏ₁)) - R₂ˏ₁*(1 / (-(1//4)*(R₁ˏ₁^2 + R₁ˏ₂^2 + R₂ˏ₁^2 + R₂ˏ₂^2) - (1//4)*(2R₁ˏ₁*R₂ˏ₂ - 2R₁ˏ₂*R₂ˏ₁)))) + ((1//4)*(R₁ˏ₁^2 + R₁ˏ₂^2 + R₂ˏ₁^2 + R₂ˏ₂^2) + (1//4)*(2R₁ˏ₁*R₂ˏ₂ - 2R₁ˏ₂*R₂ˏ₁))*(R₁ˏ₁ / ((1//4)*(R₁ˏ₁^2 + R₁ˏ₂^2 + R₂ˏ₁^2 + R₂ˏ₂^2) + (1//4)*(2R₁ˏ₁*R₂ˏ₂ - 2R₁ˏ₂*R₂ˏ₁)) + R₁ˏ₁ / (-(1//4)*(R₁ˏ₁^2 + R₁ˏ₂^2 + R₂ˏ₁^2 + R₂ˏ₂^2) - (1//4)*(2R₁ˏ₁*R₂ˏ₂ - 2R₁ˏ₂*R₂ˏ₁)) + R₂ˏ₂ / ((1//4)*(R₁ˏ₁^2 + R₁ˏ₂^2 + R₂ˏ₁^2 + R₂ˏ₂^2) + (1//4)*(2R₁ˏ₁*R₂ˏ₂ - 2R₁ˏ₂*R₂ˏ₁)) + R₂ˏ₂*(1 / (-(1//4)*(R₁ˏ₁^2 + R₁ˏ₂^2 + R₂ˏ₁^2 + R₂ˏ₂^2) - (1//4)*(2R₁ˏ₁*R₂ˏ₂ - 2R₁ˏ₂*R₂ˏ₁))))*im           ((1//4)*(R₁ˏ₁^2 + R₁ˏ₂^2 + R₂ˏ₁^2 + R₂ˏ₂^2) + (1//4)*(2R₁ˏ₁*R₂ˏ₂ - 2R₁ˏ₂*R₂ˏ₁))*(R₁ˏ₁ / ((1//4)*(R₁ˏ₁^2 + R₁ˏ₂^2 + R₂ˏ₁^2 + R₂ˏ₂^2) + (1//4)*(2R₁ˏ₁*R₂ˏ₂ - 2R₁ˏ₂*R₂ˏ₁)) + (-R₁ˏ₁) / (-(1//4)*(R₁ˏ₁^2 + R₁ˏ₂^2 + R₂ˏ₁^2 + R₂ˏ₂^2) - (1//4)*(2R₁ˏ₁*R₂ˏ₂ - 2R₁ˏ₂*R₂ˏ₁)) + R₂ˏ₂ / ((1//4)*(R₁ˏ₁^2 + R₁ˏ₂^2 + R₂ˏ₁^2 + R₂ˏ₂^2) + (1//4)*(2R₁ˏ₁*R₂ˏ₂ - 2R₁ˏ₂*R₂ˏ₁)) + (-R₂ˏ₂) / (-(1//4)*(R₁ˏ₁^2 + R₁ˏ₂^2 + R₂ˏ₁^2 + R₂ˏ₂^2) - (1//4)*(2R₁ˏ₁*R₂ˏ₂ - 2R₁ˏ₂*R₂ˏ₁))) + ((1//4)*(R₁ˏ₁^2 + R₁ˏ₂^2 + R₂ˏ₁^2 + R₂ˏ₂^2) + (1//4)*(2R₁ˏ₁*R₂ˏ₂ - 2R₁ˏ₂*R₂ˏ₁))*im*((-R₂ˏ₁) / (-(1//4)*(R₁ˏ₁^2 + R₁ˏ₂^2 + R₂ˏ₁^2 + R₂ˏ₂^2) - (1//4)*(2R₁ˏ₁*R₂ˏ₂ - 2R₁ˏ₂*R₂ˏ₁)) + R₁ˏ₂ / ((1//4)*(R₁ˏ₁^2 + R₁ˏ₂^2 + R₂ˏ₁^2 + R₂ˏ₂^2) + (1//4)*(2R₁ˏ₁*R₂ˏ₂ - 2R₁ˏ₂*R₂ˏ₁)) + (-R₂ˏ₁) / ((1//4)*(R₁ˏ₁^2 + R₁ˏ₂^2 + R₂ˏ₁^2 + R₂ˏ₂^2) + (1//4)*(2R₁ˏ₁*R₂ˏ₂ - 2R₁ˏ₂*R₂ˏ₁)) + R₁ˏ₂ / (-(1//4)*(R₁ˏ₁^2 + R₁ˏ₂^2 + R₂ˏ₁^2 + R₂ˏ₂^2) - (1//4)*(2R₁ˏ₁*R₂ˏ₂ - 2R₁ˏ₂*R₂ˏ₁)))"
      ]
     },
     "execution_count": 182,
     "metadata": {},
     "output_type": "execute_result"
    }
   ],
   "source": [
    "fg = fidelity_gradient(R)"
   ]
  },
  {
   "cell_type": "code",
   "execution_count": 183,
   "metadata": {},
   "outputs": [
    {
     "data": {
      "text/latex": [
       "$$ \\begin{equation}\n",
       "\\left[\n",
       "\\begin{array}{c}\n",
       "D \\\\\n",
       "\\end{array}\n",
       "\\right]\n",
       "\\end{equation}\n",
       " $$"
      ],
      "text/plain": [
       "1-element Vector{Num}:\n",
       " D"
      ]
     },
     "execution_count": 183,
     "metadata": {},
     "output_type": "execute_result"
    }
   ],
   "source": [
    "@variables N\n",
    "@variables D"
   ]
  },
  {
   "cell_type": "code",
   "execution_count": 185,
   "metadata": {},
   "outputs": [
    {
     "data": {
      "text/latex": [
       "$$ \\begin{equation}\n",
       "\\left[\n",
       "\\begin{array}{cc}\n",
       "64 \\left( \\frac{1}{32} R_{1}ˏ_1 + \\frac{1}{32} R_{2}ˏ_2 \\right) & 64 \\left( \\frac{1}{32} R_{1}ˏ_2 - \\frac{1}{32} R_{2}ˏ_1 \\right) \\\\\n",
       "64 \\left(  - \\frac{1}{32} R_{1}ˏ_2 + \\frac{1}{32} R_{2}ˏ_1 \\right) & 64 \\left( \\frac{1}{32} R_{1}ˏ_1 + \\frac{1}{32} R_{2}ˏ_2 \\right) \\\\\n",
       "\\end{array}\n",
       "\\right]\n",
       "\\end{equation}\n",
       " $$"
      ],
      "text/plain": [
       "2×2 Matrix{Complex{Num}}:\n",
       "  (64//1)*((1//32)*R₁ˏ₁ + (1//32)*R₂ˏ₂)  …  (64//1)*((1//32)*R₁ˏ₂ - (1//32)*R₂ˏ₁)\n",
       " (64//1)*(-(1//32)*R₁ˏ₂ + (1//32)*R₂ˏ₁)     (64//1)*((1//32)*R₁ˏ₁ + (1//32)*R₂ˏ₂)"
      ]
     },
     "execution_count": 185,
     "metadata": {},
     "output_type": "execute_result"
    }
   ],
   "source": [
    "for _ in 1:10\n",
    "    fg = substitute.(fg, Ref(Dict(R[1,1]^2 + R[1,2]^2 + R[2,1]^2 + R[2,2]^2 => N,)))\n",
    "    fg = substitute.(fg, Ref(Dict(2R[1,1] * R[2,2] - 2R[2,1] * R[1,2] => 2D,)))\n",
    "end\n",
    "simplify.(fg)\n",
    "# # Symbolics.Symbolics.expand.(fg)"
   ]
  },
  {
   "cell_type": "code",
   "execution_count": 161,
   "metadata": {},
   "outputs": [
    {
     "data": {
      "text/latex": [
       "$$ \\begin{equation}\n",
       "\\left[\n",
       "\\begin{array}{cc}\n",
       "0 & \\frac{1}{4} \\left( R_{1}ˏ_1^{2} + 2 R_{1}ˏ_1 R_{2}ˏ_2 + R_{1}ˏ_2^{2} - 2 R_{1}ˏ_2 R_{2}ˏ_1 + R_{2}ˏ_1^{2} + R_{2}ˏ_2^{2} \\right) \\\\\n",
       " - \\frac{1}{4} \\left( R_{1}ˏ_1^{2} + 2 R_{1}ˏ_1 R_{2}ˏ_2 + R_{1}ˏ_2^{2} - 2 R_{1}ˏ_2 R_{2}ˏ_1 + R_{2}ˏ_1^{2} + R_{2}ˏ_2^{2} \\right) & 0 \\\\\n",
       "\\end{array}\n",
       "\\right]\n",
       "\\end{equation}\n",
       " $$"
      ],
      "text/plain": [
       "2×2 Matrix{Complex{Num}}:\n",
       "                                                             0          …  (1//4)*(R₁ˏ₁^2 + 2R₁ˏ₁*R₂ˏ₂ + R₁ˏ₂^2 - 2R₁ˏ₂*R₂ˏ₁ + R₂ˏ₁^2 + R₂ˏ₂^2)\n",
       " (-1//4)*(R₁ˏ₁^2 + 2R₁ˏ₁*R₂ˏ₂ + R₁ˏ₂^2 - 2R₁ˏ₂*R₂ˏ₁ + R₂ˏ₁^2 + R₂ˏ₂^2)                                                                0"
      ]
     },
     "execution_count": 161,
     "metadata": {},
     "output_type": "execute_result"
    }
   ],
   "source": [
    "f = fidelity_observable_matrix(R)\n",
    "for _ in 1:10\n",
    "    fg = substitute.(f, Ref(Dict(R[1,1]^2 + 2R[1,1] * R[2,2] + R[1,2]^2 - 2R[1,2]*R[2,1] + R[2,1]^2 + R[2,2]^2 => N + 2D,)))\n",
    "end\n",
    "simplify.(f)"
   ]
  },
  {
   "cell_type": "code",
   "execution_count": 166,
   "metadata": {},
   "outputs": [
    {
     "data": {
      "text/latex": [
       "$$ \\begin{equation}\n",
       "\\frac{1}{4} \\left( R_{1}ˏ_1^{2} + R_{1}ˏ_2^{2} + R_{2}ˏ_1^{2} + R_{2}ˏ_2^{2} \\right) + \\frac{1}{4} \\left( 2 R_{1}ˏ_1 R_{2}ˏ_2 - 2 R_{1}ˏ_2 R_{2}ˏ_1 \\right)\n",
       "\\end{equation}\n",
       " $$"
      ],
      "text/plain": [
       "(1//4)*(R₁ˏ₁^2 + R₁ˏ₂^2 + R₂ˏ₁^2 + R₂ˏ₂^2) + (1//4)*(2R₁ˏ₁*R₂ˏ₂ - 2R₁ˏ₂*R₂ˏ₁)"
      ]
     },
     "execution_count": 166,
     "metadata": {},
     "output_type": "execute_result"
    }
   ],
   "source": [
    "val = f[1,2]\n",
    "# for _ in 1:10\n",
    "#     val = substitute(val, Dict(R[1,1]^2 + R[1,2]^2 + R[2,1]^2 + R[2,2]^2 => N,))\n",
    "#     val = substitute(val, Dict(2R[1,1] * R[2,2] - 2R[2,1] * R[1,2] => 2D,))\n",
    "# end\n",
    "# val"
   ]
  },
  {
   "cell_type": "code",
   "execution_count": 158,
   "metadata": {},
   "outputs": [
    {
     "data": {
      "text/latex": [
       "$$ \\begin{equation}\n",
       "R_{1}ˏ_1^{2} + 2 R_{1}ˏ_1 R_{2}ˏ_2 + R_{1}ˏ_2^{2} - 2 R_{1}ˏ_2 R_{2}ˏ_1 + R_{2}ˏ_1^{2} + R_{2}ˏ_2^{2}\n",
       "\\end{equation}\n",
       " $$"
      ],
      "text/plain": [
       "R₁ˏ₁^2 + 2R₁ˏ₁*R₂ˏ₂ + R₁ˏ₂^2 - 2R₁ˏ₂*R₂ˏ₁ + R₂ˏ₁^2 + R₂ˏ₂^2"
      ]
     },
     "execution_count": 158,
     "metadata": {},
     "output_type": "execute_result"
    }
   ],
   "source": [
    "4*f[1,2] |> simplify"
   ]
  },
  {
   "cell_type": "markdown",
   "metadata": {},
   "source": [
    "## Leftovers"
   ]
  },
  {
   "cell_type": "code",
   "execution_count": 7,
   "metadata": {},
   "outputs": [
    {
     "data": {
      "text/plain": [
       "MajoranaReg{Float64} with 3 qubits:\n",
       " 1.0  0.0  0.0  0.0  0.0  0.0\n",
       " 0.0  1.0  0.0  0.0  0.0  0.0\n",
       " 0.0  0.0  1.0  0.0  0.0  0.0\n",
       " 0.0  0.0  0.0  1.0  0.0  0.0\n",
       " 0.0  0.0  0.0  0.0  1.0  0.0\n",
       " 0.0  0.0  0.0  0.0  0.0  1.0"
      ]
     },
     "execution_count": 7,
     "metadata": {},
     "output_type": "execute_result"
    }
   ],
   "source": [
    "reg1 = FLOYao.rand_state(3)\n",
    "reg2 = FLOYao.zero_state(3)"
   ]
  },
  {
   "cell_type": "code",
   "execution_count": 8,
   "metadata": {},
   "outputs": [
    {
     "data": {
      "text/plain": [
       "0.9482898284113278"
      ]
     },
     "execution_count": 8,
     "metadata": {},
     "output_type": "execute_result"
    }
   ],
   "source": [
    "fidelity(reg1, reg2)"
   ]
  },
  {
   "cell_type": "code",
   "execution_count": 9,
   "metadata": {},
   "outputs": [
    {
     "name": "stdout",
     "output_type": "stream",
     "text": [
      "norm(A_asym + transpose(A_asym)) = 7.665777581559047e-17\n"
     ]
    },
    {
     "data": {
      "text/plain": [
       "6×6 Matrix{ComplexF64}:\n",
       "  0.0+0.0im   1.0+0.0im   0.0-0.0im  -0.0+0.0im   0.0+0.0im   0.0+0.0im\n",
       "  1.0+0.0im   0.0-0.0im  -0.0-0.0im   0.0+0.0im   0.0-0.0im   0.0-0.0im\n",
       "  0.0-0.0im  -0.0-0.0im   0.0+0.0im   1.0+0.0im   0.0+0.0im  -0.0+0.0im\n",
       " -0.0+0.0im   0.0+0.0im   1.0+0.0im   0.0-0.0im  -0.0-0.0im   0.0-0.0im\n",
       "  0.0+0.0im   0.0-0.0im   0.0+0.0im  -0.0-0.0im  -0.0+0.0im   1.0+0.0im\n",
       "  0.0+0.0im   0.0-0.0im  -0.0+0.0im   0.0-0.0im   1.0+0.0im  -0.0-0.0im"
      ]
     },
     "metadata": {},
     "output_type": "display_data"
    },
    {
     "data": {
      "text/plain": [
       "6×6 Matrix{ComplexF64}:\n",
       "        0.0+0.0im          …   0.0253894-0.0184753im\n",
       "  -0.941825-4.90866e-18im       0.171419-0.0458542im\n",
       "   0.128725+0.0652438im       -0.0278649-0.00587318im\n",
       "  0.0258619-0.028667im         0.0890688-0.174211im\n",
       "   0.171419+0.0458542im         0.922414+5.64611e-19im\n",
       " -0.0253894+0.0184753im    …         0.0+0.0im"
      ]
     },
     "metadata": {},
     "output_type": "display_data"
    }
   ],
   "source": [
    "A = fidelity_observable_matrix(reg1)\n",
    "# W = simplify.(W; expand=true)\n",
    "# A = simplify.(A; expand=true)\n",
    "# display(W)\n",
    "display(A)"
   ]
  },
  {
   "cell_type": "code",
   "execution_count": 10,
   "metadata": {},
   "outputs": [
    {
     "data": {
      "text/plain": [
       "0.9482898284113277"
      ]
     },
     "execution_count": 10,
     "metadata": {},
     "output_type": "execute_result"
    }
   ],
   "source": [
    "sqrt(abs(pfaffian(A)))"
   ]
  }
 ],
 "metadata": {
  "kernelspec": {
   "display_name": "Julia 1.11.1",
   "language": "julia",
   "name": "julia-1.11"
  },
  "language_info": {
   "file_extension": ".jl",
   "mimetype": "application/julia",
   "name": "julia",
   "version": "1.11.1"
  }
 },
 "nbformat": 4,
 "nbformat_minor": 2
}
